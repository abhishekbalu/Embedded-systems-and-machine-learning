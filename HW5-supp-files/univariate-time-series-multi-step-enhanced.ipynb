{
 "cells": [
  {
   "cell_type": "code",
   "execution_count": 2,
   "metadata": {
    "execution": {
     "iopub.execute_input": "2020-11-22T08:26:38.215080Z",
     "iopub.status.busy": "2020-11-22T08:26:38.214815Z",
     "iopub.status.idle": "2020-11-22T08:26:39.845216Z",
     "shell.execute_reply": "2020-11-22T08:26:39.844652Z",
     "shell.execute_reply.started": "2020-11-22T08:26:38.215050Z"
    }
   },
   "outputs": [],
   "source": [
    "import sys\n",
    "import sklearn\n",
    "import tensorflow as tf\n",
    "from tensorflow import keras\n",
    "\n",
    "import numpy as np\n",
    "from numpy import load\n",
    "import os\n",
    "\n",
    "# to make this notebook's output stable across runs\n",
    "np.random.seed(42)\n",
    "tf.random.set_seed(42)\n",
    "\n",
    "# To plot pretty figures\n",
    "%matplotlib inline\n",
    "import matplotlib as mpl\n",
    "import matplotlib.pyplot as plt\n",
    "mpl.rc('axes', labelsize=14)\n",
    "mpl.rc('xtick', labelsize=12)\n",
    "mpl.rc('ytick', labelsize=12)\n",
    "\n",
    "# Where to save the figures\n",
    "PROJECT_ROOT_DIR = \".\"\n",
    "IMAGES_PATH = os.path.join(PROJECT_ROOT_DIR, \"images\")\n",
    "os.makedirs(IMAGES_PATH, exist_ok=True)\n",
    "\n",
    "def save_fig(fig_id, tight_layout=True, fig_extension=\"png\", resolution=300):\n",
    "    path = os.path.join(IMAGES_PATH, fig_id + \".\" + fig_extension)\n",
    "    print(\"Saving figure\", fig_id)\n",
    "    if tight_layout:\n",
    "        plt.tight_layout()\n",
    "    plt.savefig(path, format=fig_extension, dpi=resolution)"
   ]
  },
  {
   "cell_type": "code",
   "execution_count": 3,
   "metadata": {
    "execution": {
     "iopub.execute_input": "2020-11-22T08:26:39.846411Z",
     "iopub.status.busy": "2020-11-22T08:26:39.846212Z",
     "iopub.status.idle": "2020-11-22T08:26:42.257451Z",
     "shell.execute_reply": "2020-11-22T08:26:42.255051Z",
     "shell.execute_reply.started": "2020-11-22T08:26:39.846379Z"
    }
   },
   "outputs": [],
   "source": [
    "physical_devices = tf.config.list_physical_devices('GPU')\n",
    "tf.config.experimental.set_memory_growth(physical_devices[0], enable=True)"
   ]
  },
  {
   "cell_type": "markdown",
   "metadata": {},
   "source": [
    "### Load Dataset"
   ]
  },
  {
   "cell_type": "code",
   "execution_count": 4,
   "metadata": {
    "execution": {
     "iopub.execute_input": "2020-11-22T08:26:42.263549Z",
     "iopub.status.busy": "2020-11-22T08:26:42.262748Z",
     "iopub.status.idle": "2020-11-22T08:26:42.331730Z",
     "shell.execute_reply": "2020-11-22T08:26:42.330932Z",
     "shell.execute_reply.started": "2020-11-22T08:26:42.263446Z"
    }
   },
   "outputs": [],
   "source": [
    "def plot_learning_curves(loss, val_loss):\n",
    "    plt.plot(np.arange(len(loss)) + 0.5, loss, \"b.-\", label=\"Training loss\")\n",
    "    plt.plot(np.arange(len(val_loss)) + 1, val_loss, \"r.-\", label=\"Validation loss\")\n",
    "    plt.gca().xaxis.set_major_locator(mpl.ticker.MaxNLocator(integer=True))\n",
    "    plt.axis([1, 20, 0, 0.2])\n",
    "    plt.legend(fontsize=14)\n",
    "    plt.xlabel(\"Epochs\")\n",
    "    plt.ylabel(\"Loss\")\n",
    "    plt.grid(True)"
   ]
  },
  {
   "cell_type": "code",
   "execution_count": 5,
   "metadata": {
    "execution": {
     "iopub.execute_input": "2020-11-22T08:26:42.332990Z",
     "iopub.status.busy": "2020-11-22T08:26:42.332752Z",
     "iopub.status.idle": "2020-11-22T08:26:42.448470Z",
     "shell.execute_reply": "2020-11-22T08:26:42.447501Z",
     "shell.execute_reply.started": "2020-11-22T08:26:42.332941Z"
    }
   },
   "outputs": [],
   "source": [
    "def plot_series(series, y=None, y_pred=None, x_label=\"$t$\", y_label=\"$x(t)$\"):\n",
    "    plt.plot(series, \".-\")\n",
    "    if y is not None:\n",
    "        plt.plot(n_steps, y, \"bx\", markersize=10)\n",
    "    if y_pred is not None:\n",
    "        plt.plot(n_steps, y_pred, \"ro\")\n",
    "    plt.grid(True)\n",
    "    if x_label:\n",
    "        plt.xlabel(x_label, fontsize=16)\n",
    "    if y_label:\n",
    "        plt.ylabel(y_label, fontsize=16, rotation=0)\n",
    "    plt.hlines(0, 0, 100, linewidth=1)\n",
    "    plt.axis([0, n_steps + 1, -1, 1])"
   ]
  },
  {
   "cell_type": "code",
   "execution_count": 6,
   "metadata": {
    "execution": {
     "iopub.execute_input": "2020-11-22T08:26:42.449586Z",
     "iopub.status.busy": "2020-11-22T08:26:42.449407Z",
     "iopub.status.idle": "2020-11-22T08:26:42.549527Z",
     "shell.execute_reply": "2020-11-22T08:26:42.548648Z",
     "shell.execute_reply.started": "2020-11-22T08:26:42.449554Z"
    }
   },
   "outputs": [],
   "source": [
    "def plot_multiple_forecasts(X, Y, Y_pred):\n",
    "    n_steps = X.shape[1]\n",
    "    ahead = Y.shape[1]\n",
    "    plot_series(X[0, :, 0])\n",
    "    plt.plot(np.arange(n_steps, n_steps + ahead), Y[0, :, 0], \"ro-\", label=\"Actual\")\n",
    "    plt.plot(np.arange(n_steps, n_steps + ahead), Y_pred[0, :, 0], \"bx-\", label=\"Forecast\", markersize=10)\n",
    "    plt.axis([0, n_steps + ahead, -1, 1])\n",
    "    plt.legend(fontsize=14)"
   ]
  },
  {
   "cell_type": "code",
   "execution_count": 7,
   "metadata": {
    "execution": {
     "iopub.execute_input": "2020-11-22T08:26:42.551012Z",
     "iopub.status.busy": "2020-11-22T08:26:42.550729Z",
     "iopub.status.idle": "2020-11-22T08:26:43.473665Z",
     "shell.execute_reply": "2020-11-22T08:26:43.472603Z",
     "shell.execute_reply.started": "2020-11-22T08:26:42.550977Z"
    }
   },
   "outputs": [],
   "source": [
    "n_steps = 50\n",
    "series = load('univariate-time-series-multi-step.npy')\n",
    "\n",
    "X_train, Y_train = series[:7000, :n_steps], series[:7000, -10:, 0]\n",
    "X_valid, Y_valid = series[7000:9000, :n_steps], series[7000:9000, -10:, 0]\n",
    "X_test, Y_test = series[9000:, :n_steps], series[9000:, -10:, 0]"
   ]
  },
  {
   "cell_type": "markdown",
   "metadata": {},
   "source": [
    "## Improving multi-step prediction model\n",
    "\n",
    "Instead of training the model to forecast the next 10 values only at the very last time step, we can train it to forecast the next 10 values at each and every time step. In other words, we can turn this sequence-to-vector RNN into a sequence-to-sequence RNN. The advantage of this technique is that the loss will contain a term for the output of the RNN at each and every time step, not just the output at the last time step. This means there will be many more error gradients flowing through the model, and they will also flow from the output of each time step. This will both stabilize and speed up training. To be clear, at time step 0 the model will output a vector containing the forecasts for time steps 1 to 10, then at time step 1 the model will forecast time steps 2 to 11, and so on. So each target must be a sequence of the same length as the input sequence, containing a 10-dimensional vector at each step. Let’s prepare these target sequences."
   ]
  },
  {
   "cell_type": "code",
   "execution_count": 8,
   "metadata": {
    "execution": {
     "iopub.execute_input": "2020-11-22T08:26:43.475167Z",
     "iopub.status.busy": "2020-11-22T08:26:43.474883Z",
     "iopub.status.idle": "2020-11-22T08:26:43.575555Z",
     "shell.execute_reply": "2020-11-22T08:26:43.573526Z",
     "shell.execute_reply.started": "2020-11-22T08:26:43.475116Z"
    }
   },
   "outputs": [],
   "source": [
    "Y = np.empty((10000, n_steps, 10)) "
   ]
  },
  {
   "cell_type": "code",
   "execution_count": 9,
   "metadata": {
    "execution": {
     "iopub.execute_input": "2020-11-22T08:26:43.580635Z",
     "iopub.status.busy": "2020-11-22T08:26:43.580066Z",
     "iopub.status.idle": "2020-11-22T08:26:43.728431Z",
     "shell.execute_reply": "2020-11-22T08:26:43.727880Z",
     "shell.execute_reply.started": "2020-11-22T08:26:43.580563Z"
    }
   },
   "outputs": [],
   "source": [
    "# each target is a sequence of 10D vectors, because in each of the 50 time steps the model will predict 10 time steps\n",
    "for step_ahead in range(1, 10 + 1):\n",
    "    Y[..., step_ahead - 1] = series[..., step_ahead:step_ahead + n_steps, 0]\n",
    "    # same as     Y[:, :, step_ahead - 1] = series[:, step_ahead:step_ahead + n_steps, 0]\n",
    "    # broadcasting 1-51 to 0th element of z axis of each of the 10k rows\n",
    "    # then 2-52 to 1st element of z-axis ... all the way till 10-60 to 9th element of z axis of the 10k rows \n",
    "Y_train = Y[:7000]\n",
    "Y_valid = Y[7000:9000]\n",
    "Y_test = Y[9000:]"
   ]
  },
  {
   "cell_type": "code",
   "execution_count": 10,
   "metadata": {
    "execution": {
     "iopub.execute_input": "2020-11-22T08:26:43.729954Z",
     "iopub.status.busy": "2020-11-22T08:26:43.729512Z",
     "iopub.status.idle": "2020-11-22T08:26:43.807749Z",
     "shell.execute_reply": "2020-11-22T08:26:43.806537Z",
     "shell.execute_reply.started": "2020-11-22T08:26:43.729931Z"
    }
   },
   "outputs": [
    {
     "data": {
      "text/plain": [
       "((7000, 50, 1), (7000, 50, 10))"
      ]
     },
     "execution_count": 10,
     "metadata": {},
     "output_type": "execute_result"
    }
   ],
   "source": [
    "X_train.shape, Y_train.shape"
   ]
  },
  {
   "cell_type": "code",
   "execution_count": 11,
   "metadata": {
    "execution": {
     "iopub.execute_input": "2020-11-22T08:26:43.809667Z",
     "iopub.status.busy": "2020-11-22T08:26:43.809349Z",
     "iopub.status.idle": "2020-11-22T08:27:02.613960Z",
     "shell.execute_reply": "2020-11-22T08:27:02.613079Z",
     "shell.execute_reply.started": "2020-11-22T08:26:43.809627Z"
    }
   },
   "outputs": [
    {
     "name": "stdout",
     "output_type": "stream",
     "text": [
      "Epoch 1/20\n",
      "219/219 [==============================] - 1s 3ms/step - loss: 0.1127 - last_time_step_mse: 0.1107 - val_loss: 0.1058 - val_last_time_step_mse: 0.1057\n",
      "Epoch 2/20\n",
      "219/219 [==============================] - 0s 2ms/step - loss: 0.1058 - last_time_step_mse: 0.1038 - val_loss: 0.1057 - val_last_time_step_mse: 0.1055\n",
      "Epoch 3/20\n",
      "219/219 [==============================] - 0s 2ms/step - loss: 0.1058 - last_time_step_mse: 0.1038 - val_loss: 0.1057 - val_last_time_step_mse: 0.1056\n",
      "Epoch 4/20\n",
      "219/219 [==============================] - 0s 2ms/step - loss: 0.1058 - last_time_step_mse: 0.1038 - val_loss: 0.1057 - val_last_time_step_mse: 0.1056\n",
      "Epoch 5/20\n",
      "219/219 [==============================] - 1s 2ms/step - loss: 0.1058 - last_time_step_mse: 0.1038 - val_loss: 0.1058 - val_last_time_step_mse: 0.1055\n",
      "Epoch 6/20\n",
      "219/219 [==============================] - 1s 3ms/step - loss: 0.1058 - last_time_step_mse: 0.1038 - val_loss: 0.1058 - val_last_time_step_mse: 0.1059\n",
      "Epoch 7/20\n",
      "219/219 [==============================] - 1s 2ms/step - loss: 0.1058 - last_time_step_mse: 0.1037 - val_loss: 0.1057 - val_last_time_step_mse: 0.1057\n",
      "Epoch 8/20\n",
      "219/219 [==============================] - 0s 2ms/step - loss: 0.1058 - last_time_step_mse: 0.1038 - val_loss: 0.1057 - val_last_time_step_mse: 0.1056\n",
      "Epoch 9/20\n",
      "219/219 [==============================] - 1s 2ms/step - loss: 0.1058 - last_time_step_mse: 0.1038 - val_loss: 0.1057 - val_last_time_step_mse: 0.1056\n",
      "Epoch 10/20\n",
      "219/219 [==============================] - 0s 2ms/step - loss: 0.1058 - last_time_step_mse: 0.1038 - val_loss: 0.1058 - val_last_time_step_mse: 0.1060\n",
      "Epoch 11/20\n",
      "219/219 [==============================] - 0s 2ms/step - loss: 0.1058 - last_time_step_mse: 0.1039 - val_loss: 0.1057 - val_last_time_step_mse: 0.1058\n",
      "Epoch 12/20\n",
      "219/219 [==============================] - 0s 2ms/step - loss: 0.1058 - last_time_step_mse: 0.1038 - val_loss: 0.1057 - val_last_time_step_mse: 0.1057\n",
      "Epoch 13/20\n",
      "219/219 [==============================] - 0s 2ms/step - loss: 0.1058 - last_time_step_mse: 0.1038 - val_loss: 0.1058 - val_last_time_step_mse: 0.1054\n",
      "Epoch 14/20\n",
      "219/219 [==============================] - 1s 2ms/step - loss: 0.1058 - last_time_step_mse: 0.1038 - val_loss: 0.1058 - val_last_time_step_mse: 0.1060\n",
      "Epoch 15/20\n",
      "219/219 [==============================] - 1s 2ms/step - loss: 0.1058 - last_time_step_mse: 0.1039 - val_loss: 0.1058 - val_last_time_step_mse: 0.1057\n",
      "Epoch 16/20\n",
      "219/219 [==============================] - 0s 2ms/step - loss: 0.1058 - last_time_step_mse: 0.1038 - val_loss: 0.1058 - val_last_time_step_mse: 0.1057\n",
      "Epoch 17/20\n",
      "219/219 [==============================] - 1s 2ms/step - loss: 0.1058 - last_time_step_mse: 0.1038 - val_loss: 0.1057 - val_last_time_step_mse: 0.1057\n",
      "Epoch 18/20\n",
      "219/219 [==============================] - 1s 3ms/step - loss: 0.1058 - last_time_step_mse: 0.1038 - val_loss: 0.1058 - val_last_time_step_mse: 0.1061\n",
      "Epoch 19/20\n",
      "219/219 [==============================] - 0s 2ms/step - loss: 0.1058 - last_time_step_mse: 0.1039 - val_loss: 0.1058 - val_last_time_step_mse: 0.1060\n",
      "Epoch 20/20\n",
      "219/219 [==============================] - 1s 2ms/step - loss: 0.1058 - last_time_step_mse: 0.1038 - val_loss: 0.1057 - val_last_time_step_mse: 0.1055\n"
     ]
    }
   ],
   "source": [
    "model = keras.models.Sequential([\n",
    "    keras.layers.TimeDistributed(keras.layers.Flatten(input_shape=[50, 1])),\n",
    "    keras.layers.TimeDistributed(keras.layers.Dense(10))\n",
    "])\n",
    "\n",
    "def last_time_step_mse(Y_true, Y_pred):\n",
    "    return keras.metrics.mean_squared_error(Y_true[:, -1], Y_pred[:, -1])\n",
    "\n",
    "model.compile(loss=\"mse\", optimizer=keras.optimizers.Adam(lr=0.01), metrics=[last_time_step_mse])\n",
    "history = model.fit(X_train, Y_train, epochs=20,\n",
    "                    validation_data=(X_valid, Y_valid))"
   ]
  },
  {
   "cell_type": "code",
   "execution_count": 12,
   "metadata": {
    "execution": {
     "iopub.execute_input": "2020-11-22T08:27:02.615308Z",
     "iopub.status.busy": "2020-11-22T08:27:02.615072Z",
     "iopub.status.idle": "2020-11-22T08:27:02.621737Z",
     "shell.execute_reply": "2020-11-22T08:27:02.620972Z",
     "shell.execute_reply.started": "2020-11-22T08:27:02.615279Z"
    }
   },
   "outputs": [
    {
     "name": "stdout",
     "output_type": "stream",
     "text": [
      "Model: \"sequential\"\n",
      "_________________________________________________________________\n",
      "Layer (type)                 Output Shape              Param #   \n",
      "=================================================================\n",
      "time_distributed (TimeDistri (None, 50, 1)             0         \n",
      "_________________________________________________________________\n",
      "time_distributed_1 (TimeDist (None, 50, 10)            20        \n",
      "=================================================================\n",
      "Total params: 20\n",
      "Trainable params: 20\n",
      "Non-trainable params: 0\n",
      "_________________________________________________________________\n"
     ]
    }
   ],
   "source": [
    "model.summary()"
   ]
  },
  {
   "cell_type": "code",
   "execution_count": 13,
   "metadata": {
    "execution": {
     "iopub.execute_input": "2020-11-22T08:27:02.622893Z",
     "iopub.status.busy": "2020-11-22T08:27:02.622690Z",
     "iopub.status.idle": "2020-11-22T08:27:03.586766Z",
     "shell.execute_reply": "2020-11-22T08:27:03.585972Z",
     "shell.execute_reply.started": "2020-11-22T08:27:02.622867Z"
    }
   },
   "outputs": [
    {
     "data": {
      "image/png": "[encoded data removed]",
      "text/plain": [
       "<Figure size 432x288 with 1 Axes>"
      ]
     },
     "metadata": {
      "needs_background": "light"
     },
     "output_type": "display_data"
    }
   ],
   "source": [
    "plot_learning_curves(history.history[\"loss\"], history.history[\"val_loss\"])\n",
    "plt.show()"
   ]
  },
  {
   "cell_type": "code",
   "execution_count": 14,
   "metadata": {
    "execution": {
     "iopub.execute_input": "2020-11-22T08:27:03.588573Z",
     "iopub.status.busy": "2020-11-22T08:27:03.588421Z",
     "iopub.status.idle": "2020-11-22T08:27:03.687641Z",
     "shell.execute_reply": "2020-11-22T08:27:03.687058Z",
     "shell.execute_reply.started": "2020-11-22T08:27:03.588553Z"
    }
   },
   "outputs": [],
   "source": [
    "series = load('univariate-time-series-multi-step-test.npy')\n",
    "X_new, Y_new = series[:, :50, :], series[:, 50:, :]\n",
    "Y_pred = model.predict(X_new)[:, -1][..., np.newaxis]"
   ]
  },
  {
   "cell_type": "code",
   "execution_count": 15,
   "metadata": {
    "execution": {
     "iopub.execute_input": "2020-11-22T08:27:03.688856Z",
     "iopub.status.busy": "2020-11-22T08:27:03.688582Z",
     "iopub.status.idle": "2020-11-22T08:27:04.116174Z",
     "shell.execute_reply": "2020-11-22T08:27:04.115473Z",
     "shell.execute_reply.started": "2020-11-22T08:27:03.688836Z"
    }
   },
   "outputs": [
    {
     "data": {
      "image/png": "[encoded data removed]",
      "text/plain": [
       "<Figure size 432x288 with 1 Axes>"
      ]
     },
     "metadata": {
      "needs_background": "light"
     },
     "output_type": "display_data"
    }
   ],
   "source": [
    "plot_multiple_forecasts(X_new, Y_new, Y_pred)\n",
    "plt.show()"
   ]
  },
  {
   "cell_type": "code",
   "execution_count": 16,
   "metadata": {
    "execution": {
     "iopub.execute_input": "2020-11-22T08:27:04.117341Z",
     "iopub.status.busy": "2020-11-22T08:27:04.117163Z",
     "iopub.status.idle": "2020-11-22T08:27:04.207727Z",
     "shell.execute_reply": "2020-11-22T08:27:04.207036Z",
     "shell.execute_reply.started": "2020-11-22T08:27:04.117309Z"
    }
   },
   "outputs": [
    {
     "name": "stdout",
     "output_type": "stream",
     "text": [
      "32/32 [==============================] - 0s 2ms/step - loss: 0.1053 - last_time_step_mse: 0.1064\n"
     ]
    },
    {
     "data": {
      "text/plain": [
       "[0.10534760355949402, 0.10641492903232574]"
      ]
     },
     "execution_count": 16,
     "metadata": {},
     "output_type": "execute_result"
    }
   ],
   "source": [
    "model.evaluate(X_test, Y_test)\n",
    "#outputs [loss (mse), last_time_step_mse]"
   ]
  },
  {
   "cell_type": "code",
   "execution_count": 31,
   "metadata": {
    "execution": {
     "iopub.execute_input": "2020-11-22T08:32:37.084509Z",
     "iopub.status.busy": "2020-11-22T08:32:37.084281Z",
     "iopub.status.idle": "2020-11-22T08:32:37.132584Z",
     "shell.execute_reply": "2020-11-22T08:32:37.131561Z",
     "shell.execute_reply.started": "2020-11-22T08:32:37.084461Z"
    }
   },
   "outputs": [],
   "source": [
    "lstm_model = tf.keras.models.Sequential([\n",
    "    \n",
    "\n",
    "    tf.keras.layers.LSTM(128, return_sequences=True),\n",
    "    tf.keras.layers.Dropout(0.2),\n",
    "    tf.keras.layers.LSTM(64, return_sequences=True),\n",
    "    tf.keras.layers.Dropout(0.2),\n",
    "    tf.keras.layers.LSTM(32, return_sequences=True),\n",
    "    tf.keras.layers.Dropout(0.2),\n",
    "    tf.keras.layers.LSTM(24, return_sequences=True),\n",
    "    tf.keras.layers.Dropout(0.2),\n",
    "    tf.keras.layers.LSTM(12, return_sequences=True),\n",
    "    tf.keras.layers.Dropout(0.2),\n",
    "\n",
    "    tf.keras.layers.TimeDistributed(keras.layers.Dense(10))\n",
    "\n",
    "])\n",
    "\n",
    "def last_time_step_mse(Y_true, Y_pred):\n",
    "    return keras.metrics.mean_squared_error(Y_true[:, -1], Y_pred[:, -1])\n",
    "\n",
    "lstm_model.compile(loss=\"mse\", optimizer=keras.optimizers.Adam(lr=0.01), metrics=[last_time_step_mse])"
   ]
  },
  {
   "cell_type": "code",
   "execution_count": 32,
   "metadata": {
    "execution": {
     "iopub.execute_input": "2020-11-22T08:32:37.787714Z",
     "iopub.status.busy": "2020-11-22T08:32:37.787484Z",
     "iopub.status.idle": "2020-11-22T08:34:28.942783Z",
     "shell.execute_reply": "2020-11-22T08:34:28.940679Z",
     "shell.execute_reply.started": "2020-11-22T08:32:37.787689Z"
    }
   },
   "outputs": [
    {
     "name": "stdout",
     "output_type": "stream",
     "text": [
      "Epoch 1/20\n",
      "219/219 [==============================] - 6s 29ms/step - loss: 0.0805 - last_time_step_mse: 0.0668 - val_loss: 0.0481 - val_last_time_step_mse: 0.0325\n",
      "Epoch 2/20\n",
      "219/219 [==============================] - 5s 24ms/step - loss: 0.0499 - last_time_step_mse: 0.0336 - val_loss: 0.0410 - val_last_time_step_mse: 0.0201\n",
      "Epoch 3/20\n",
      "219/219 [==============================] - 6s 25ms/step - loss: 0.0461 - last_time_step_mse: 0.0284 - val_loss: 0.0374 - val_last_time_step_mse: 0.0183\n",
      "Epoch 4/20\n",
      "219/219 [==============================] - 5s 24ms/step - loss: 0.0433 - last_time_step_mse: 0.0250 - val_loss: 0.0346 - val_last_time_step_mse: 0.0139\n",
      "Epoch 5/20\n",
      "219/219 [==============================] - 6s 25ms/step - loss: 0.0413 - last_time_step_mse: 0.0220 - val_loss: 0.0321 - val_last_time_step_mse: 0.0111\n",
      "Epoch 6/20\n",
      "219/219 [==============================] - 5s 24ms/step - loss: 0.0402 - last_time_step_mse: 0.0209 - val_loss: 0.0312 - val_last_time_step_mse: 0.0104\n",
      "Epoch 7/20\n",
      "219/219 [==============================] - 5s 23ms/step - loss: 0.0393 - last_time_step_mse: 0.0206 - val_loss: 0.0308 - val_last_time_step_mse: 0.0097\n",
      "Epoch 8/20\n",
      "219/219 [==============================] - 5s 24ms/step - loss: 0.0386 - last_time_step_mse: 0.0195 - val_loss: 0.0306 - val_last_time_step_mse: 0.0101\n",
      "Epoch 9/20\n",
      "219/219 [==============================] - 5s 24ms/step - loss: 0.0380 - last_time_step_mse: 0.0187 - val_loss: 0.0300 - val_last_time_step_mse: 0.0098\n",
      "Epoch 10/20\n",
      "219/219 [==============================] - 5s 23ms/step - loss: 0.0377 - last_time_step_mse: 0.0185 - val_loss: 0.0290 - val_last_time_step_mse: 0.0082\n",
      "Epoch 11/20\n",
      "219/219 [==============================] - 5s 24ms/step - loss: 0.0372 - last_time_step_mse: 0.0180 - val_loss: 0.0290 - val_last_time_step_mse: 0.0079\n",
      "Epoch 12/20\n",
      "219/219 [==============================] - 5s 23ms/step - loss: 0.0372 - last_time_step_mse: 0.0178 - val_loss: 0.0290 - val_last_time_step_mse: 0.0084\n",
      "Epoch 13/20\n",
      "219/219 [==============================] - 5s 24ms/step - loss: 0.0365 - last_time_step_mse: 0.0170 - val_loss: 0.0301 - val_last_time_step_mse: 0.0091\n",
      "Epoch 14/20\n",
      "219/219 [==============================] - 5s 24ms/step - loss: 0.0367 - last_time_step_mse: 0.0171 - val_loss: 0.0288 - val_last_time_step_mse: 0.0079\n",
      "Epoch 15/20\n",
      "219/219 [==============================] - 5s 24ms/step - loss: 0.0362 - last_time_step_mse: 0.0170 - val_loss: 0.0286 - val_last_time_step_mse: 0.0082\n",
      "Epoch 16/20\n",
      "219/219 [==============================] - 6s 25ms/step - loss: 0.0359 - last_time_step_mse: 0.0164 - val_loss: 0.0281 - val_last_time_step_mse: 0.0078\n",
      "Epoch 17/20\n",
      "219/219 [==============================] - 5s 22ms/step - loss: 0.0358 - last_time_step_mse: 0.0165 - val_loss: 0.0287 - val_last_time_step_mse: 0.0072\n",
      "Epoch 18/20\n",
      "219/219 [==============================] - 5s 23ms/step - loss: 0.0356 - last_time_step_mse: 0.0163 - val_loss: 0.0283 - val_last_time_step_mse: 0.0074\n",
      "Epoch 19/20\n",
      "219/219 [==============================] - 5s 24ms/step - loss: 0.0356 - last_time_step_mse: 0.0161 - val_loss: 0.0283 - val_last_time_step_mse: 0.0076\n",
      "Epoch 20/20\n",
      "219/219 [==============================] - 5s 24ms/step - loss: 0.0354 - last_time_step_mse: 0.0162 - val_loss: 0.0275 - val_last_time_step_mse: 0.0070\n"
     ]
    }
   ],
   "source": [
    "history_lstm = lstm_model.fit(X_train, Y_train, epochs=20,validation_data=(X_valid, Y_valid))"
   ]
  },
  {
   "cell_type": "code",
   "execution_count": 33,
   "metadata": {
    "execution": {
     "iopub.execute_input": "2020-11-22T08:34:28.947546Z",
     "iopub.status.busy": "2020-11-22T08:34:28.946845Z",
     "iopub.status.idle": "2020-11-22T08:34:29.124727Z",
     "shell.execute_reply": "2020-11-22T08:34:29.124078Z",
     "shell.execute_reply.started": "2020-11-22T08:34:28.947460Z"
    }
   },
   "outputs": [
    {
     "data": {
      "image/png": "[encoded data removed]",
      "text/plain": [
       "<Figure size 432x288 with 1 Axes>"
      ]
     },
     "metadata": {
      "needs_background": "light"
     },
     "output_type": "display_data"
    }
   ],
   "source": [
    "plot_learning_curves(history_lstm.history[\"loss\"], history_lstm.history[\"val_loss\"])\n",
    "plt.show()"
   ]
  },
  {
   "cell_type": "code",
   "execution_count": 34,
   "metadata": {
    "execution": {
     "iopub.execute_input": "2020-11-22T08:34:29.126839Z",
     "iopub.status.busy": "2020-11-22T08:34:29.126537Z",
     "iopub.status.idle": "2020-11-22T08:34:30.313779Z",
     "shell.execute_reply": "2020-11-22T08:34:30.313032Z",
     "shell.execute_reply.started": "2020-11-22T08:34:29.126813Z"
    }
   },
   "outputs": [],
   "source": [
    "series = load('univariate-time-series-multi-step-test.npy')\n",
    "X_new, Y_new = series[:, :50, :], series[:, 50:, :]\n",
    "Y_pred = lstm_model.predict(X_new)[:, -1][..., np.newaxis]"
   ]
  },
  {
   "cell_type": "code",
   "execution_count": 35,
   "metadata": {
    "execution": {
     "iopub.execute_input": "2020-11-22T08:34:30.315124Z",
     "iopub.status.busy": "2020-11-22T08:34:30.314899Z",
     "iopub.status.idle": "2020-11-22T08:34:30.512009Z",
     "shell.execute_reply": "2020-11-22T08:34:30.511181Z",
     "shell.execute_reply.started": "2020-11-22T08:34:30.315099Z"
    }
   },
   "outputs": [
    {
     "data": {
      "image/png": "[encoded data removed]",
      "text/plain": [
       "<Figure size 432x288 with 1 Axes>"
      ]
     },
     "metadata": {
      "needs_background": "light"
     },
     "output_type": "display_data"
    }
   ],
   "source": [
    "plot_multiple_forecasts(X_new, Y_new, Y_pred)\n",
    "plt.show()"
   ]
  },
  {
   "cell_type": "code",
   "execution_count": 36,
   "metadata": {
    "execution": {
     "iopub.execute_input": "2020-11-22T08:34:30.513300Z",
     "iopub.status.busy": "2020-11-22T08:34:30.513015Z",
     "iopub.status.idle": "2020-11-22T08:34:30.989686Z",
     "shell.execute_reply": "2020-11-22T08:34:30.988935Z",
     "shell.execute_reply.started": "2020-11-22T08:34:30.513268Z"
    }
   },
   "outputs": [
    {
     "name": "stdout",
     "output_type": "stream",
     "text": [
      "32/32 [==============================] - 0s 13ms/step - loss: 0.0272 - last_time_step_mse: 0.0069\n"
     ]
    },
    {
     "data": {
      "text/plain": [
       "[0.027205269783735275, 0.006923108361661434]"
      ]
     },
     "execution_count": 36,
     "metadata": {},
     "output_type": "execute_result"
    }
   ],
   "source": [
    "lstm_model.evaluate(X_test, Y_test)\n",
    "#outputs [loss (mse), last_time_step_mse]"
   ]
  },
  {
   "cell_type": "code",
   "execution_count": null,
   "metadata": {},
   "outputs": [],
   "source": []
  }
 ],
 "metadata": {
  "kernelspec": {
   "display_name": "Python 3",
   "language": "python",
   "name": "python3"
  },
  "language_info": {
   "codemirror_mode": {
    "name": "ipython",
    "version": 3
   },
   "file_extension": ".py",
   "mimetype": "text/x-python",
   "name": "python",
   "nbconvert_exporter": "python",
   "pygments_lexer": "ipython3",
   "version": "3.8.3"
  },
  "nav_menu": {},
  "toc": {
   "navigate_menu": true,
   "number_sections": true,
   "sideBar": true,
   "threshold": 6,
   "toc_cell": false,
   "toc_section_display": "block",
   "toc_window_display": false
  }
 },
 "nbformat": 4,
 "nbformat_minor": 4
}

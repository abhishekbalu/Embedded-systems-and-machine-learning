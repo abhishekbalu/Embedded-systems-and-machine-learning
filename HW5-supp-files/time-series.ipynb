{
 "cells": [
  {
   "cell_type": "code",
   "execution_count": 1,
   "metadata": {
    "execution": {
     "iopub.execute_input": "2020-11-23T01:37:37.915686Z",
     "iopub.status.busy": "2020-11-23T01:37:37.915539Z",
     "iopub.status.idle": "2020-11-23T01:37:39.218594Z",
     "shell.execute_reply": "2020-11-23T01:37:39.218102Z",
     "shell.execute_reply.started": "2020-11-23T01:37:37.915648Z"
    }
   },
   "outputs": [],
   "source": [
    "import numpy as np\n",
    "import pandas as pd\n",
    "from datetime import datetime\n",
    "import matplotlib.pyplot as plt\n",
    "import time\n",
    "import tensorflow as tf\n",
    "%matplotlib inline\n"
   ]
  },
  {
   "cell_type": "code",
   "execution_count": 2,
   "metadata": {
    "execution": {
     "iopub.execute_input": "2020-11-23T01:37:39.219381Z",
     "iopub.status.busy": "2020-11-23T01:37:39.219271Z",
     "iopub.status.idle": "2020-11-23T01:37:39.281309Z",
     "shell.execute_reply": "2020-11-23T01:37:39.280791Z",
     "shell.execute_reply.started": "2020-11-23T01:37:39.219367Z"
    }
   },
   "outputs": [],
   "source": [
    "physical_devices = tf.config.list_physical_devices('GPU')\n",
    "tf.config.experimental.set_memory_growth(physical_devices[0], enable=True)"
   ]
  },
  {
   "cell_type": "code",
   "execution_count": 3,
   "metadata": {
    "execution": {
     "iopub.execute_input": "2020-11-23T01:37:39.282896Z",
     "iopub.status.busy": "2020-11-23T01:37:39.282708Z",
     "iopub.status.idle": "2020-11-23T01:37:40.964417Z",
     "shell.execute_reply": "2020-11-23T01:37:40.962065Z",
     "shell.execute_reply.started": "2020-11-23T01:37:39.282879Z"
    }
   },
   "outputs": [],
   "source": [
    "epochs = 5\n",
    "batch_size = 50"
   ]
  },
  {
   "cell_type": "code",
   "execution_count": 4,
   "metadata": {
    "execution": {
     "iopub.execute_input": "2020-11-23T01:37:40.968229Z",
     "iopub.status.busy": "2020-11-23T01:37:40.967691Z",
     "iopub.status.idle": "2020-11-23T01:37:41.402103Z",
     "shell.execute_reply": "2020-11-23T01:37:41.401445Z",
     "shell.execute_reply.started": "2020-11-23T01:37:40.968163Z"
    }
   },
   "outputs": [],
   "source": [
    "# Each training data point will be length 100-1,\n",
    "# since the last value in each sequence is the label\n",
    "sequence_length = 100"
   ]
  },
  {
   "cell_type": "code",
   "execution_count": 6,
   "metadata": {
    "execution": {
     "iopub.execute_input": "2020-11-23T01:37:41.502807Z",
     "iopub.status.busy": "2020-11-23T01:37:41.502679Z",
     "iopub.status.idle": "2020-11-23T01:37:41.626600Z",
     "shell.execute_reply": "2020-11-23T01:37:41.626024Z",
     "shell.execute_reply.started": "2020-11-23T01:37:41.502790Z"
    }
   },
   "outputs": [],
   "source": [
    "def generate_model():\n",
    "\n",
    "    model = tf.keras.models.Sequential([\n",
    "    tf.keras.layers.LSTM(1024, return_sequences=True),\n",
    "    tf.keras.layers.LSTM(500), \n",
    "    tf.keras.layers.Dense(units=500),    \n",
    "    tf.keras.layers.Dense(units=1)\n",
    "    ])\n",
    "    \n",
    "    model.compile(loss=\"mse\", optimizer=\"adam\")\n",
    "   \n",
    "    return model"
   ]
  },
  {
   "cell_type": "code",
   "execution_count": 7,
   "metadata": {
    "execution": {
     "iopub.execute_input": "2020-11-23T01:37:41.627335Z",
     "iopub.status.busy": "2020-11-23T01:37:41.627215Z",
     "iopub.status.idle": "2020-11-23T01:37:41.914025Z",
     "shell.execute_reply": "2020-11-23T01:37:41.913435Z",
     "shell.execute_reply.started": "2020-11-23T01:37:41.627320Z"
    }
   },
   "outputs": [],
   "source": [
    "def normalize(result):\n",
    "    result_mean = result.mean()\n",
    "    result_std = result.std()\n",
    "    result -= result_mean\n",
    "    result /= result_std\n",
    "    return result, result_mean"
   ]
  },
  {
   "cell_type": "code",
   "execution_count": 8,
   "metadata": {
    "execution": {
     "iopub.execute_input": "2020-11-23T01:37:41.914742Z",
     "iopub.status.busy": "2020-11-23T01:37:41.914627Z",
     "iopub.status.idle": "2020-11-23T01:37:43.403819Z",
     "shell.execute_reply": "2020-11-23T01:37:43.401825Z",
     "shell.execute_reply.started": "2020-11-23T01:37:41.914727Z"
    }
   },
   "outputs": [],
   "source": [
    "def prepare_data(data, train_start, train_end, test_start, test_end):\n",
    "    print(\"Length of Data\", len(data))\n",
    "\n",
    "    # training data\n",
    "    print(\"Creating training data...\")\n",
    "\n",
    "    result = []\n",
    "    for index in range(train_start, train_end - sequence_length):\n",
    "        result.append(data[index: index + sequence_length])\n",
    "    result = np.array(result)\n",
    "    result, result_mean = normalize(result)\n",
    "\n",
    "    print(\"Training data shape  : \", result.shape)\n",
    "\n",
    "    train = result[train_start:train_end, :]\n",
    "    np.random.shuffle(train)\n",
    "    X_train = train[:, :-1]\n",
    "    y_train = train[:, -1]\n",
    "\n",
    "    # test data\n",
    "    print(\"Creating test data...\")\n",
    "\n",
    "    result = []\n",
    "    for index in range(test_start, test_end - sequence_length):\n",
    "        result.append(data[index: index + sequence_length])\n",
    "    result = np.array(result)\n",
    "    result, result_mean = normalize(result)\n",
    "\n",
    "    print(\"Test data shape  : {}\".format(result.shape))\n",
    "\n",
    "    X_test = result[:, :-1]\n",
    "    y_test = result[:, -1]\n",
    "\n",
    "    print(\"Shape X_train\", np.shape(X_train))\n",
    "    print(\"Shape X_test\", np.shape(X_test))\n",
    "\n",
    "    X_train = np.reshape(X_train, (X_train.shape[0], X_train.shape[1], 1))\n",
    "    X_test = np.reshape(X_test, (X_test.shape[0], X_test.shape[1], 1))\n",
    "\n",
    "    return X_train, y_train, X_test, y_test"
   ]
  },
  {
   "cell_type": "code",
   "execution_count": null,
   "metadata": {},
   "outputs": [],
   "source": [
    "\n",
    "    "
   ]
  },
  {
   "cell_type": "code",
   "execution_count": 9,
   "metadata": {
    "execution": {
     "iopub.execute_input": "2020-11-23T01:37:43.409298Z",
     "iopub.status.busy": "2020-11-23T01:37:43.409100Z",
     "iopub.status.idle": "2020-11-23T01:37:45.482900Z",
     "shell.execute_reply": "2020-11-23T01:37:45.480639Z",
     "shell.execute_reply.started": "2020-11-23T01:37:43.409249Z"
    }
   },
   "outputs": [],
   "source": [
    "def run(model=None, data=None):\n",
    "    global_start_time = time.time()\n",
    "\n",
    "    print('Loading data... ')\n",
    "    data_b = pd.read_csv('iot-util.csv',\n",
    "                         parse_dates=[0], infer_datetime_format=True)\n",
    "    data = data_b['cpu'].to_numpy()\n",
    "\n",
    "    # train on first 500 samples and test on last 160 samples (test set has anomaly)\n",
    "    X_train, y_train, X_test, y_test = prepare_data(data, 0, 600, 400, 660)\n",
    "    \n",
    "    if model is None:\n",
    "        model = generate_model()\n",
    "\n",
    "    try:\n",
    "        print(\"Training...\")\n",
    "        model.fit(\n",
    "                X_train, y_train,\n",
    "                batch_size=batch_size, epochs=epochs, validation_split=0.05)\n",
    "        print(\"Predicting...\")\n",
    "        predicted = model.predict(X_test, verbose=1)\n",
    "        print(\"Reshaping predicted\")\n",
    "        predicted = np.reshape(predicted, (predicted.size,))\n",
    "    except KeyboardInterrupt:\n",
    "        print(\"prediction exception\")\n",
    "        print('Training duration:{}'.format(time.time() - global_start_time))\n",
    "#         evaluate = model.evauatel(X_test,y_test, verbose=1)\n",
    "        return model, y_test, 0\n",
    "\n",
    "    try:\n",
    "        plt.figure(figsize=(20,8))\n",
    "        plt.plot(y_test[:len(y_test)], 'b', label='Observed')\n",
    "        plt.plot(predicted[:len(y_test)], 'g', label='Predicted')\n",
    "        plt.plot(((y_test - predicted) ** 2), 'r', label='Root-mean-square deviation')\n",
    "        plt.legend()\n",
    "        plt.show()\n",
    "    except Exception as e:\n",
    "        print(\"plotting exception\")\n",
    "        print(str(e))\n",
    "    print('Training duration:{}'.format(time.time() - global_start_time))\n",
    "    \n",
    "    \n",
    "    return model, y_test, predicted"
   ]
  },
  {
   "cell_type": "code",
   "execution_count": 10,
   "metadata": {
    "execution": {
     "iopub.execute_input": "2020-11-23T01:37:45.486321Z",
     "iopub.status.busy": "2020-11-23T01:37:45.485790Z",
     "iopub.status.idle": "2020-11-23T01:37:54.856413Z",
     "shell.execute_reply": "2020-11-23T01:37:54.856025Z",
     "shell.execute_reply.started": "2020-11-23T01:37:45.486255Z"
    }
   },
   "outputs": [
    {
     "name": "stdout",
     "output_type": "stream",
     "text": [
      "Loading data... \n",
      "Length of Data 660\n",
      "Creating training data...\n",
      "Training data shape  :  (500, 100)\n",
      "Creating test data...\n",
      "Test data shape  : (160, 100)\n",
      "Shape X_train (500, 99)\n",
      "Shape X_test (160, 99)\n",
      "Training...\n",
      "Epoch 1/5\n",
      "10/10 [==============================] - 1s 115ms/step - loss: 0.6409 - val_loss: 0.1850\n",
      "Epoch 2/5\n",
      "10/10 [==============================] - 1s 78ms/step - loss: 0.1800 - val_loss: 0.0833\n",
      "Epoch 3/5\n",
      "10/10 [==============================] - 1s 78ms/step - loss: 0.1313 - val_loss: 0.0771\n",
      "Epoch 4/5\n",
      "10/10 [==============================] - 1s 79ms/step - loss: 0.1115 - val_loss: 0.0785\n",
      "Epoch 5/5\n",
      "10/10 [==============================] - 1s 77ms/step - loss: 0.0992 - val_loss: 0.0671\n",
      "Predicting...\n",
      "1/5 [=====>........................] - ETA: 0sWARNING:tensorflow:Callbacks method `on_predict_batch_end` is slow compared to the batch time (batch time: 0.0026s vs `on_predict_batch_end` time: 0.0134s). Check your callbacks.\n",
      "5/5 [==============================] - 0s 18ms/step\n",
      "Reshaping predicted\n"
     ]
    },
    {
     "data": {
      "image/png": "[encoded data removed]",
      "text/plain": [
       "<Figure size 1440x576 with 1 Axes>"
      ]
     },
     "metadata": {
      "needs_background": "light"
     },
     "output_type": "display_data"
    },
    {
     "name": "stdout",
     "output_type": "stream",
     "text": [
      "Training duration:9.183706998825073\n"
     ]
    }
   ],
   "source": [
    "model, y_test, predicted = run()"
   ]
  },
  {
   "cell_type": "code",
   "execution_count": 11,
   "metadata": {
    "execution": {
     "iopub.execute_input": "2020-11-23T01:37:54.857071Z",
     "iopub.status.busy": "2020-11-23T01:37:54.856954Z",
     "iopub.status.idle": "2020-11-23T01:37:54.861554Z",
     "shell.execute_reply": "2020-11-23T01:37:54.860471Z",
     "shell.execute_reply.started": "2020-11-23T01:37:54.857056Z"
    }
   },
   "outputs": [
    {
     "name": "stdout",
     "output_type": "stream",
     "text": [
      "Anomaly at time 112 RMSE value: 7.937533214991545\n",
      "Anomaly at time 132 RMSE value: 12.938760568778724\n",
      "Anomaly at time 133 RMSE value: 12.328629817325533\n"
     ]
    }
   ],
   "source": [
    "#anomaly threshold of 10 chosen based on empirical analyses\n",
    "start_time = 0\n",
    "threshold = 5\n",
    "for i in range(0, len(predicted)-1):\n",
    "  \n",
    "    if ((y_test[i] - predicted[i]) ** 2) > threshold:\n",
    "        print(\"Anomaly at time\", start_time+i, \"RMSE value:\", (y_test[i] - predicted[i]) ** 2)\n",
    "    i = i+1"
   ]
  },
  {
   "cell_type": "code",
   "execution_count": null,
   "metadata": {},
   "outputs": [],
   "source": []
  },
  {
   "cell_type": "code",
   "execution_count": null,
   "metadata": {},
   "outputs": [],
   "source": []
  }
 ],
 "metadata": {
  "kernelspec": {
   "display_name": "Python 3",
   "language": "python",
   "name": "python3"
  },
  "language_info": {
   "codemirror_mode": {
    "name": "ipython",
    "version": 3
   },
   "file_extension": ".py",
   "mimetype": "text/x-python",
   "name": "python",
   "nbconvert_exporter": "python",
   "pygments_lexer": "ipython3",
   "version": "3.8.3"
  }
 },
 "nbformat": 4,
 "nbformat_minor": 4
}

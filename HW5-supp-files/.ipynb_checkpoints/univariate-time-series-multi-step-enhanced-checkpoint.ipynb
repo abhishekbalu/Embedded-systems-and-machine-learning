{
 "cells": [
  {
   "cell_type": "code",
   "execution_count": 2,
   "metadata": {
    "execution": {
     "iopub.execute_input": "2020-11-22T08:26:38.215080Z",
     "iopub.status.busy": "2020-11-22T08:26:38.214815Z",
     "iopub.status.idle": "2020-11-22T08:26:39.845216Z",
     "shell.execute_reply": "2020-11-22T08:26:39.844652Z",
     "shell.execute_reply.started": "2020-11-22T08:26:38.215050Z"
    }
   },
   "outputs": [],
   "source": [
    "import sys\n",
    "import sklearn\n",
    "import tensorflow as tf\n",
    "from tensorflow import keras\n",
    "\n",
    "import numpy as np\n",
    "from numpy import load\n",
    "import os\n",
    "\n",
    "# to make this notebook's output stable across runs\n",
    "np.random.seed(42)\n",
    "tf.random.set_seed(42)\n",
    "\n",
    "# To plot pretty figures\n",
    "%matplotlib inline\n",
    "import matplotlib as mpl\n",
    "import matplotlib.pyplot as plt\n",
    "mpl.rc('axes', labelsize=14)\n",
    "mpl.rc('xtick', labelsize=12)\n",
    "mpl.rc('ytick', labelsize=12)\n",
    "\n",
    "# Where to save the figures\n",
    "PROJECT_ROOT_DIR = \".\"\n",
    "IMAGES_PATH = os.path.join(PROJECT_ROOT_DIR, \"images\")\n",
    "os.makedirs(IMAGES_PATH, exist_ok=True)\n",
    "\n",
    "def save_fig(fig_id, tight_layout=True, fig_extension=\"png\", resolution=300):\n",
    "    path = os.path.join(IMAGES_PATH, fig_id + \".\" + fig_extension)\n",
    "    print(\"Saving figure\", fig_id)\n",
    "    if tight_layout:\n",
    "        plt.tight_layout()\n",
    "    plt.savefig(path, format=fig_extension, dpi=resolution)"
   ]
  },
  {
   "cell_type": "code",
   "execution_count": 3,
   "metadata": {
    "execution": {
     "iopub.execute_input": "2020-11-22T08:26:39.846411Z",
     "iopub.status.busy": "2020-11-22T08:26:39.846212Z",
     "iopub.status.idle": "2020-11-22T08:26:42.257451Z",
     "shell.execute_reply": "2020-11-22T08:26:42.255051Z",
     "shell.execute_reply.started": "2020-11-22T08:26:39.846379Z"
    }
   },
   "outputs": [],
   "source": [
    "physical_devices = tf.config.list_physical_devices('GPU')\n",
    "tf.config.experimental.set_memory_growth(physical_devices[0], enable=True)"
   ]
  },
  {
   "cell_type": "markdown",
   "metadata": {},
   "source": [
    "### Load Dataset"
   ]
  },
  {
   "cell_type": "code",
   "execution_count": 4,
   "metadata": {
    "execution": {
     "iopub.execute_input": "2020-11-22T08:26:42.263549Z",
     "iopub.status.busy": "2020-11-22T08:26:42.262748Z",
     "iopub.status.idle": "2020-11-22T08:26:42.331730Z",
     "shell.execute_reply": "2020-11-22T08:26:42.330932Z",
     "shell.execute_reply.started": "2020-11-22T08:26:42.263446Z"
    }
   },
   "outputs": [],
   "source": [
    "def plot_learning_curves(loss, val_loss):\n",
    "    plt.plot(np.arange(len(loss)) + 0.5, loss, \"b.-\", label=\"Training loss\")\n",
    "    plt.plot(np.arange(len(val_loss)) + 1, val_loss, \"r.-\", label=\"Validation loss\")\n",
    "    plt.gca().xaxis.set_major_locator(mpl.ticker.MaxNLocator(integer=True))\n",
    "    plt.axis([1, 20, 0, 0.2])\n",
    "    plt.legend(fontsize=14)\n",
    "    plt.xlabel(\"Epochs\")\n",
    "    plt.ylabel(\"Loss\")\n",
    "    plt.grid(True)"
   ]
  },
  {
   "cell_type": "code",
   "execution_count": 5,
   "metadata": {
    "execution": {
     "iopub.execute_input": "2020-11-22T08:26:42.332990Z",
     "iopub.status.busy": "2020-11-22T08:26:42.332752Z",
     "iopub.status.idle": "2020-11-22T08:26:42.448470Z",
     "shell.execute_reply": "2020-11-22T08:26:42.447501Z",
     "shell.execute_reply.started": "2020-11-22T08:26:42.332941Z"
    }
   },
   "outputs": [],
   "source": [
    "def plot_series(series, y=None, y_pred=None, x_label=\"$t$\", y_label=\"$x(t)$\"):\n",
    "    plt.plot(series, \".-\")\n",
    "    if y is not None:\n",
    "        plt.plot(n_steps, y, \"bx\", markersize=10)\n",
    "    if y_pred is not None:\n",
    "        plt.plot(n_steps, y_pred, \"ro\")\n",
    "    plt.grid(True)\n",
    "    if x_label:\n",
    "        plt.xlabel(x_label, fontsize=16)\n",
    "    if y_label:\n",
    "        plt.ylabel(y_label, fontsize=16, rotation=0)\n",
    "    plt.hlines(0, 0, 100, linewidth=1)\n",
    "    plt.axis([0, n_steps + 1, -1, 1])"
   ]
  },
  {
   "cell_type": "code",
   "execution_count": 6,
   "metadata": {
    "execution": {
     "iopub.execute_input": "2020-11-22T08:26:42.449586Z",
     "iopub.status.busy": "2020-11-22T08:26:42.449407Z",
     "iopub.status.idle": "2020-11-22T08:26:42.549527Z",
     "shell.execute_reply": "2020-11-22T08:26:42.548648Z",
     "shell.execute_reply.started": "2020-11-22T08:26:42.449554Z"
    }
   },
   "outputs": [],
   "source": [
    "def plot_multiple_forecasts(X, Y, Y_pred):\n",
    "    n_steps = X.shape[1]\n",
    "    ahead = Y.shape[1]\n",
    "    plot_series(X[0, :, 0])\n",
    "    plt.plot(np.arange(n_steps, n_steps + ahead), Y[0, :, 0], \"ro-\", label=\"Actual\")\n",
    "    plt.plot(np.arange(n_steps, n_steps + ahead), Y_pred[0, :, 0], \"bx-\", label=\"Forecast\", markersize=10)\n",
    "    plt.axis([0, n_steps + ahead, -1, 1])\n",
    "    plt.legend(fontsize=14)"
   ]
  },
  {
   "cell_type": "code",
   "execution_count": 7,
   "metadata": {
    "execution": {
     "iopub.execute_input": "2020-11-22T08:26:42.551012Z",
     "iopub.status.busy": "2020-11-22T08:26:42.550729Z",
     "iopub.status.idle": "2020-11-22T08:26:43.473665Z",
     "shell.execute_reply": "2020-11-22T08:26:43.472603Z",
     "shell.execute_reply.started": "2020-11-22T08:26:42.550977Z"
    }
   },
   "outputs": [],
   "source": [
    "n_steps = 50\n",
    "series = load('univariate-time-series-multi-step.npy')\n",
    "\n",
    "X_train, Y_train = series[:7000, :n_steps], series[:7000, -10:, 0]\n",
    "X_valid, Y_valid = series[7000:9000, :n_steps], series[7000:9000, -10:, 0]\n",
    "X_test, Y_test = series[9000:, :n_steps], series[9000:, -10:, 0]"
   ]
  },
  {
   "cell_type": "markdown",
   "metadata": {},
   "source": [
    "## Improving multi-step prediction model\n",
    "\n",
    "Instead of training the model to forecast the next 10 values only at the very last time step, we can train it to forecast the next 10 values at each and every time step. In other words, we can turn this sequence-to-vector RNN into a sequence-to-sequence RNN. The advantage of this technique is that the loss will contain a term for the output of the RNN at each and every time step, not just the output at the last time step. This means there will be many more error gradients flowing through the model, and they will also flow from the output of each time step. This will both stabilize and speed up training. To be clear, at time step 0 the model will output a vector containing the forecasts for time steps 1 to 10, then at time step 1 the model will forecast time steps 2 to 11, and so on. So each target must be a sequence of the same length as the input sequence, containing a 10-dimensional vector at each step. Let’s prepare these target sequences."
   ]
  },
  {
   "cell_type": "code",
   "execution_count": 8,
   "metadata": {
    "execution": {
     "iopub.execute_input": "2020-11-22T08:26:43.475167Z",
     "iopub.status.busy": "2020-11-22T08:26:43.474883Z",
     "iopub.status.idle": "2020-11-22T08:26:43.575555Z",
     "shell.execute_reply": "2020-11-22T08:26:43.573526Z",
     "shell.execute_reply.started": "2020-11-22T08:26:43.475116Z"
    }
   },
   "outputs": [],
   "source": [
    "Y = np.empty((10000, n_steps, 10)) "
   ]
  },
  {
   "cell_type": "code",
   "execution_count": 9,
   "metadata": {
    "execution": {
     "iopub.execute_input": "2020-11-22T08:26:43.580635Z",
     "iopub.status.busy": "2020-11-22T08:26:43.580066Z",
     "iopub.status.idle": "2020-11-22T08:26:43.728431Z",
     "shell.execute_reply": "2020-11-22T08:26:43.727880Z",
     "shell.execute_reply.started": "2020-11-22T08:26:43.580563Z"
    }
   },
   "outputs": [],
   "source": [
    "# each target is a sequence of 10D vectors, because in each of the 50 time steps the model will predict 10 time steps\n",
    "for step_ahead in range(1, 10 + 1):\n",
    "    Y[..., step_ahead - 1] = series[..., step_ahead:step_ahead + n_steps, 0]\n",
    "    # same as     Y[:, :, step_ahead - 1] = series[:, step_ahead:step_ahead + n_steps, 0]\n",
    "    # broadcasting 1-51 to 0th element of z axis of each of the 10k rows\n",
    "    # then 2-52 to 1st element of z-axis ... all the way till 10-60 to 9th element of z axis of the 10k rows \n",
    "Y_train = Y[:7000]\n",
    "Y_valid = Y[7000:9000]\n",
    "Y_test = Y[9000:]"
   ]
  },
  {
   "cell_type": "code",
   "execution_count": 10,
   "metadata": {
    "execution": {
     "iopub.execute_input": "2020-11-22T08:26:43.729954Z",
     "iopub.status.busy": "2020-11-22T08:26:43.729512Z",
     "iopub.status.idle": "2020-11-22T08:26:43.807749Z",
     "shell.execute_reply": "2020-11-22T08:26:43.806537Z",
     "shell.execute_reply.started": "2020-11-22T08:26:43.729931Z"
    }
   },
   "outputs": [
    {
     "data": {
      "text/plain": [
       "((7000, 50, 1), (7000, 50, 10))"
      ]
     },
     "execution_count": 10,
     "metadata": {},
     "output_type": "execute_result"
    }
   ],
   "source": [
    "X_train.shape, Y_train.shape"
   ]
  },
  {
   "cell_type": "code",
   "execution_count": 11,
   "metadata": {
    "execution": {
     "iopub.execute_input": "2020-11-22T08:26:43.809667Z",
     "iopub.status.busy": "2020-11-22T08:26:43.809349Z",
     "iopub.status.idle": "2020-11-22T08:27:02.613960Z",
     "shell.execute_reply": "2020-11-22T08:27:02.613079Z",
     "shell.execute_reply.started": "2020-11-22T08:26:43.809627Z"
    }
   },
   "outputs": [
    {
     "name": "stdout",
     "output_type": "stream",
     "text": [
      "Epoch 1/20\n",
      "219/219 [==============================] - 1s 3ms/step - loss: 0.1127 - last_time_step_mse: 0.1107 - val_loss: 0.1058 - val_last_time_step_mse: 0.1057\n",
      "Epoch 2/20\n",
      "219/219 [==============================] - 0s 2ms/step - loss: 0.1058 - last_time_step_mse: 0.1038 - val_loss: 0.1057 - val_last_time_step_mse: 0.1055\n",
      "Epoch 3/20\n",
      "219/219 [==============================] - 0s 2ms/step - loss: 0.1058 - last_time_step_mse: 0.1038 - val_loss: 0.1057 - val_last_time_step_mse: 0.1056\n",
      "Epoch 4/20\n",
      "219/219 [==============================] - 0s 2ms/step - loss: 0.1058 - last_time_step_mse: 0.1038 - val_loss: 0.1057 - val_last_time_step_mse: 0.1056\n",
      "Epoch 5/20\n",
      "219/219 [==============================] - 1s 2ms/step - loss: 0.1058 - last_time_step_mse: 0.1038 - val_loss: 0.1058 - val_last_time_step_mse: 0.1055\n",
      "Epoch 6/20\n",
      "219/219 [==============================] - 1s 3ms/step - loss: 0.1058 - last_time_step_mse: 0.1038 - val_loss: 0.1058 - val_last_time_step_mse: 0.1059\n",
      "Epoch 7/20\n",
      "219/219 [==============================] - 1s 2ms/step - loss: 0.1058 - last_time_step_mse: 0.1037 - val_loss: 0.1057 - val_last_time_step_mse: 0.1057\n",
      "Epoch 8/20\n",
      "219/219 [==============================] - 0s 2ms/step - loss: 0.1058 - last_time_step_mse: 0.1038 - val_loss: 0.1057 - val_last_time_step_mse: 0.1056\n",
      "Epoch 9/20\n",
      "219/219 [==============================] - 1s 2ms/step - loss: 0.1058 - last_time_step_mse: 0.1038 - val_loss: 0.1057 - val_last_time_step_mse: 0.1056\n",
      "Epoch 10/20\n",
      "219/219 [==============================] - 0s 2ms/step - loss: 0.1058 - last_time_step_mse: 0.1038 - val_loss: 0.1058 - val_last_time_step_mse: 0.1060\n",
      "Epoch 11/20\n",
      "219/219 [==============================] - 0s 2ms/step - loss: 0.1058 - last_time_step_mse: 0.1039 - val_loss: 0.1057 - val_last_time_step_mse: 0.1058\n",
      "Epoch 12/20\n",
      "219/219 [==============================] - 0s 2ms/step - loss: 0.1058 - last_time_step_mse: 0.1038 - val_loss: 0.1057 - val_last_time_step_mse: 0.1057\n",
      "Epoch 13/20\n",
      "219/219 [==============================] - 0s 2ms/step - loss: 0.1058 - last_time_step_mse: 0.1038 - val_loss: 0.1058 - val_last_time_step_mse: 0.1054\n",
      "Epoch 14/20\n",
      "219/219 [==============================] - 1s 2ms/step - loss: 0.1058 - last_time_step_mse: 0.1038 - val_loss: 0.1058 - val_last_time_step_mse: 0.1060\n",
      "Epoch 15/20\n",
      "219/219 [==============================] - 1s 2ms/step - loss: 0.1058 - last_time_step_mse: 0.1039 - val_loss: 0.1058 - val_last_time_step_mse: 0.1057\n",
      "Epoch 16/20\n",
      "219/219 [==============================] - 0s 2ms/step - loss: 0.1058 - last_time_step_mse: 0.1038 - val_loss: 0.1058 - val_last_time_step_mse: 0.1057\n",
      "Epoch 17/20\n",
      "219/219 [==============================] - 1s 2ms/step - loss: 0.1058 - last_time_step_mse: 0.1038 - val_loss: 0.1057 - val_last_time_step_mse: 0.1057\n",
      "Epoch 18/20\n",
      "219/219 [==============================] - 1s 3ms/step - loss: 0.1058 - last_time_step_mse: 0.1038 - val_loss: 0.1058 - val_last_time_step_mse: 0.1061\n",
      "Epoch 19/20\n",
      "219/219 [==============================] - 0s 2ms/step - loss: 0.1058 - last_time_step_mse: 0.1039 - val_loss: 0.1058 - val_last_time_step_mse: 0.1060\n",
      "Epoch 20/20\n",
      "219/219 [==============================] - 1s 2ms/step - loss: 0.1058 - last_time_step_mse: 0.1038 - val_loss: 0.1057 - val_last_time_step_mse: 0.1055\n"
     ]
    }
   ],
   "source": [
    "model = keras.models.Sequential([\n",
    "    keras.layers.TimeDistributed(keras.layers.Flatten(input_shape=[50, 1])),\n",
    "    keras.layers.TimeDistributed(keras.layers.Dense(10))\n",
    "])\n",
    "\n",
    "def last_time_step_mse(Y_true, Y_pred):\n",
    "    return keras.metrics.mean_squared_error(Y_true[:, -1], Y_pred[:, -1])\n",
    "\n",
    "model.compile(loss=\"mse\", optimizer=keras.optimizers.Adam(lr=0.01), metrics=[last_time_step_mse])\n",
    "history = model.fit(X_train, Y_train, epochs=20,\n",
    "                    validation_data=(X_valid, Y_valid))"
   ]
  },
  {
   "cell_type": "code",
   "execution_count": 12,
   "metadata": {
    "execution": {
     "iopub.execute_input": "2020-11-22T08:27:02.615308Z",
     "iopub.status.busy": "2020-11-22T08:27:02.615072Z",
     "iopub.status.idle": "2020-11-22T08:27:02.621737Z",
     "shell.execute_reply": "2020-11-22T08:27:02.620972Z",
     "shell.execute_reply.started": "2020-11-22T08:27:02.615279Z"
    }
   },
   "outputs": [
    {
     "name": "stdout",
     "output_type": "stream",
     "text": [
      "Model: \"sequential\"\n",
      "_________________________________________________________________\n",
      "Layer (type)                 Output Shape              Param #   \n",
      "=================================================================\n",
      "time_distributed (TimeDistri (None, 50, 1)             0         \n",
      "_________________________________________________________________\n",
      "time_distributed_1 (TimeDist (None, 50, 10)            20        \n",
      "=================================================================\n",
      "Total params: 20\n",
      "Trainable params: 20\n",
      "Non-trainable params: 0\n",
      "_________________________________________________________________\n"
     ]
    }
   ],
   "source": [
    "model.summary()"
   ]
  },
  {
   "cell_type": "code",
   "execution_count": 13,
   "metadata": {
    "execution": {
     "iopub.execute_input": "2020-11-22T08:27:02.622893Z",
     "iopub.status.busy": "2020-11-22T08:27:02.622690Z",
     "iopub.status.idle": "2020-11-22T08:27:03.586766Z",
     "shell.execute_reply": "2020-11-22T08:27:03.585972Z",
     "shell.execute_reply.started": "2020-11-22T08:27:02.622867Z"
    }
   },
   "outputs": [
    {
     "data": {
      "image/png": "[encoded data removed]",
      "text/plain": [
       "<Figure size 432x288 with 1 Axes>"
      ]
     },
     "metadata": {
      "needs_background": "light"
     },
     "output_type": "display_data"
    }
   ],
   "source": [
    "plot_learning_curves(history.history[\"loss\"], history.history[\"val_loss\"])\n",
    "plt.show()"
   ]
  },
  {
   "cell_type": "code",
   "execution_count": 14,
   "metadata": {
    "execution": {
     "iopub.execute_input": "2020-11-22T08:27:03.588573Z",
     "iopub.status.busy": "2020-11-22T08:27:03.588421Z",
     "iopub.status.idle": "2020-11-22T08:27:03.687641Z",
     "shell.execute_reply": "2020-11-22T08:27:03.687058Z",
     "shell.execute_reply.started": "2020-11-22T08:27:03.588553Z"
    }
   },
   "outputs": [],
   "source": [
    "series = load('univariate-time-series-multi-step-test.npy')\n",
    "X_new, Y_new = series[:, :50, :], series[:, 50:, :]\n",
    "Y_pred = model.predict(X_new)[:, -1][..., np.newaxis]"
   ]
  },
  {
   "cell_type": "code",
   "execution_count": 15,
   "metadata": {
    "execution": {
     "iopub.execute_input": "2020-11-22T08:27:03.688856Z",
     "iopub.status.busy": "2020-11-22T08:27:03.688582Z",
     "iopub.status.idle": "2020-11-22T08:27:04.116174Z",
     "shell.execute_reply": "2020-11-22T08:27:04.115473Z",
     "shell.execute_reply.started": "2020-11-22T08:27:03.688836Z"
    }
   },
   "outputs": [
    {
     "data": {
      "image/png": "[encoded data removed]",
      "text/plain": [
       "<Figure size 432x288 with 1 Axes>"
      ]
     },
     "metadata": {
      "needs_background": "light"
     },
     "output_type": "display_data"
    }
   ],
   "source": [
    "plot_multiple_forecasts(X_new, Y_new, Y_pred)\n",
    "plt.show()"
   ]
  },
  {
   "cell_type": "code",
   "execution_count": 16,
   "metadata": {
    "execution": {
     "iopub.execute_input": "2020-11-22T08:27:04.117341Z",
     "iopub.status.busy": "2020-11-22T08:27:04.117163Z",
     "iopub.status.idle": "2020-11-22T08:27:04.207727Z",
     "shell.execute_reply": "2020-11-22T08:27:04.207036Z",
     "shell.execute_reply.started": "2020-11-22T08:27:04.117309Z"
    }
   },
   "outputs": [
    {
     "name": "stdout",
     "output_type": "stream",
     "text": [
      "32/32 [==============================] - 0s 2ms/step - loss: 0.1053 - last_time_step_mse: 0.1064\n"
     ]
    },
    {
     "data": {
      "text/plain": [
       "[0.10534760355949402, 0.10641492903232574]"
      ]
     },
     "execution_count": 16,
     "metadata": {},
     "output_type": "execute_result"
    }
   ],
   "source": [
    "model.evaluate(X_test, Y_test)\n",
    "#outputs [loss (mse), last_time_step_mse]"
   ]
  },
  {
   "cell_type": "code",
   "execution_count": 17,
   "metadata": {
    "execution": {
     "iopub.execute_input": "2020-11-22T08:27:04.208850Z",
     "iopub.status.busy": "2020-11-22T08:27:04.208667Z",
     "iopub.status.idle": "2020-11-22T08:27:04.286220Z",
     "shell.execute_reply": "2020-11-22T08:27:04.285617Z",
     "shell.execute_reply.started": "2020-11-22T08:27:04.208827Z"
    }
   },
   "outputs": [],
   "source": [
    "lstm_model = tf.keras.models.Sequential([\n",
    "    \n",
    "\n",
    "    tf.keras.layers.LSTM(128, return_sequences=True),\n",
    "    tf.keras.layers.Dropout(0.2),\n",
    "    tf.keras.layers.LSTM(64, return_sequences=True),\n",
    "    tf.keras.layers.Dropout(0.2),\n",
    "    tf.keras.layers.LSTM(32, return_sequences=True),\n",
    "    tf.keras.layers.Dropout(0.2),\n",
    "    tf.keras.layers.LSTM(24, return_sequences=True),\n",
    "    tf.keras.layers.Dropout(0.2),\n",
    "    tf.keras.layers.LSTM(12, return_sequences=True),\n",
    "    tf.keras.layers.Dropout(0.2),\n",
    "\n",
    "    tf.keras.layers.TimeDistributed(keras.layers.Dense(10))\n",
    "\n",
    "])\n",
    "\n",
    "def last_time_step_mse(Y_true, Y_pred):\n",
    "    return keras.metrics.mean_squared_error(Y_true[:, -1], Y_pred[:, -1])\n",
    "\n",
    "lstm_model.compile(loss=\"mse\", optimizer=keras.optimizers.Adam(lr=0.01), metrics=[last_time_step_mse])"
   ]
  },
  {
   "cell_type": "code",
   "execution_count": null,
   "metadata": {},
   "outputs": [],
   "source": []
  },
  {
   "cell_type": "code",
   "execution_count": 18,
   "metadata": {
    "execution": {
     "iopub.execute_input": "2020-11-22T08:27:04.287255Z",
     "iopub.status.busy": "2020-11-22T08:27:04.286975Z",
     "iopub.status.idle": "2020-11-22T08:27:06.758364Z",
     "shell.execute_reply": "2020-11-22T08:27:06.756640Z",
     "shell.execute_reply.started": "2020-11-22T08:27:04.287216Z"
    }
   },
   "outputs": [
    {
     "name": "stdout",
     "output_type": "stream",
     "text": [
      "Epoch 1/20\n"
     ]
    },
    {
     "ename": "TypeError",
     "evalue": "in user code:\n\n    /home/abhishek/anaconda3/lib/python3.8/site-packages/tensorflow/python/keras/engine/training.py:806 train_function  *\n        return step_function(self, iterator)\n    /home/abhishek/anaconda3/lib/python3.8/site-packages/tensorflow/python/keras/engine/training.py:796 step_function  **\n        outputs = model.distribute_strategy.run(run_step, args=(data,))\n    /home/abhishek/anaconda3/lib/python3.8/site-packages/tensorflow/python/distribute/distribute_lib.py:1211 run\n        return self._extended.call_for_each_replica(fn, args=args, kwargs=kwargs)\n    /home/abhishek/anaconda3/lib/python3.8/site-packages/tensorflow/python/distribute/distribute_lib.py:2585 call_for_each_replica\n        return self._call_for_each_replica(fn, args, kwargs)\n    /home/abhishek/anaconda3/lib/python3.8/site-packages/tensorflow/python/distribute/distribute_lib.py:2945 _call_for_each_replica\n        return fn(*args, **kwargs)\n    /home/abhishek/anaconda3/lib/python3.8/site-packages/tensorflow/python/keras/engine/training.py:789 run_step  **\n        outputs = model.train_step(data)\n    /home/abhishek/anaconda3/lib/python3.8/site-packages/tensorflow/python/keras/engine/training.py:747 train_step\n        y_pred = self(x, training=True)\n    /home/abhishek/anaconda3/lib/python3.8/site-packages/tensorflow/python/keras/engine/base_layer.py:985 __call__\n        outputs = call_fn(inputs, *args, **kwargs)\n    /home/abhishek/anaconda3/lib/python3.8/site-packages/tensorflow/python/keras/engine/sequential.py:386 call\n        outputs = layer(inputs, **kwargs)\n    /home/abhishek/anaconda3/lib/python3.8/site-packages/tensorflow/python/keras/engine/base_layer.py:982 __call__\n        self._maybe_build(inputs)\n    /home/abhishek/anaconda3/lib/python3.8/site-packages/tensorflow/python/keras/engine/base_layer.py:2643 _maybe_build\n        self.build(input_shapes)  # pylint:disable=not-callable\n    /home/abhishek/anaconda3/lib/python3.8/site-packages/tensorflow/python/keras/layers/wrappers.py:177 build\n        super(TimeDistributed, self).build(tuple(child_input_shape))\n    /home/abhishek/anaconda3/lib/python3.8/site-packages/tensorflow/python/keras/layers/wrappers.py:58 build\n        self.layer.build(input_shape)\n    /home/abhishek/anaconda3/lib/python3.8/site-packages/tensorflow/python/keras/layers/recurrent.py:577 build\n        self.cell.build(step_input_shape)\n    /home/abhishek/anaconda3/lib/python3.8/site-packages/tensorflow/python/keras/utils/tf_utils.py:323 wrapper\n        output_shape = fn(instance, input_shape)\n    /home/abhishek/anaconda3/lib/python3.8/site-packages/tensorflow/python/keras/layers/recurrent.py:2357 build\n        self.kernel = self.add_weight(\n    /home/abhishek/anaconda3/lib/python3.8/site-packages/tensorflow/python/keras/engine/base_layer.py:597 add_weight\n        variable = self._add_variable_with_custom_getter(\n    /home/abhishek/anaconda3/lib/python3.8/site-packages/tensorflow/python/training/tracking/base.py:745 _add_variable_with_custom_getter\n        new_variable = getter(\n    /home/abhishek/anaconda3/lib/python3.8/site-packages/tensorflow/python/keras/engine/base_layer_utils.py:133 make_variable\n        return tf_variables.VariableV1(\n    /home/abhishek/anaconda3/lib/python3.8/site-packages/tensorflow/python/ops/variables.py:260 __call__\n        return cls._variable_v1_call(*args, **kwargs)\n    /home/abhishek/anaconda3/lib/python3.8/site-packages/tensorflow/python/ops/variables.py:206 _variable_v1_call\n        return previous_getter(\n    /home/abhishek/anaconda3/lib/python3.8/site-packages/tensorflow/python/ops/variables.py:67 getter\n        return captured_getter(captured_previous, **kwargs)\n    /home/abhishek/anaconda3/lib/python3.8/site-packages/tensorflow/python/distribute/distribute_lib.py:2857 creator\n        return next_creator(**kwargs)\n    /home/abhishek/anaconda3/lib/python3.8/site-packages/tensorflow/python/ops/variables.py:67 getter\n        return captured_getter(captured_previous, **kwargs)\n    /home/abhishek/anaconda3/lib/python3.8/site-packages/tensorflow/python/distribute/distribute_lib.py:2857 creator\n        return next_creator(**kwargs)\n    /home/abhishek/anaconda3/lib/python3.8/site-packages/tensorflow/python/ops/variables.py:67 getter\n        return captured_getter(captured_previous, **kwargs)\n    /home/abhishek/anaconda3/lib/python3.8/site-packages/tensorflow/python/distribute/distribute_lib.py:2857 creator\n        return next_creator(**kwargs)\n    /home/abhishek/anaconda3/lib/python3.8/site-packages/tensorflow/python/ops/variables.py:67 getter\n        return captured_getter(captured_previous, **kwargs)\n    /home/abhishek/anaconda3/lib/python3.8/site-packages/tensorflow/python/eager/def_function.py:683 variable_capturing_scope\n        v = UnliftedInitializerVariable(\n    /home/abhishek/anaconda3/lib/python3.8/site-packages/tensorflow/python/ops/variables.py:264 __call__\n        return super(VariableMetaclass, cls).__call__(*args, **kwargs)\n    /home/abhishek/anaconda3/lib/python3.8/site-packages/tensorflow/python/eager/def_function.py:226 __init__\n        initial_value() if init_from_fn else initial_value,\n    /home/abhishek/anaconda3/lib/python3.8/site-packages/tensorflow/python/keras/initializers/initializers_v2.py:397 __call__\n        return super(VarianceScaling, self).__call__(shape, dtype=_get_dtype(dtype))\n    /home/abhishek/anaconda3/lib/python3.8/site-packages/tensorflow/python/ops/init_ops_v2.py:545 __call__\n        fan_in, fan_out = _compute_fans(scale_shape)\n    /home/abhishek/anaconda3/lib/python3.8/site-packages/tensorflow/python/ops/init_ops.py:1425 _compute_fans\n        return int(fan_in), int(fan_out)\n\n    TypeError: int() argument must be a string, a bytes-like object or a number, not 'NoneType'\n",
     "output_type": "error",
     "traceback": [
      "\u001b[0;31m---------------------------------------------------------------------------\u001b[0m",
      "\u001b[0;31mTypeError\u001b[0m                                 Traceback (most recent call last)",
      "\u001b[0;32m<ipython-input-18-251bc211a064>\u001b[0m in \u001b[0;36m<module>\u001b[0;34m\u001b[0m\n\u001b[0;32m----> 1\u001b[0;31m history_lstm = lstm_model.fit(X_train, Y_train, epochs=20,\n\u001b[0m\u001b[1;32m      2\u001b[0m                     validation_data=(X_valid, Y_valid))\n",
      "\u001b[0;32m~/anaconda3/lib/python3.8/site-packages/tensorflow/python/keras/engine/training.py\u001b[0m in \u001b[0;36m_method_wrapper\u001b[0;34m(self, *args, **kwargs)\u001b[0m\n\u001b[1;32m    106\u001b[0m   \u001b[0;32mdef\u001b[0m \u001b[0m_method_wrapper\u001b[0m\u001b[0;34m(\u001b[0m\u001b[0mself\u001b[0m\u001b[0;34m,\u001b[0m \u001b[0;34m*\u001b[0m\u001b[0margs\u001b[0m\u001b[0;34m,\u001b[0m \u001b[0;34m**\u001b[0m\u001b[0mkwargs\u001b[0m\u001b[0;34m)\u001b[0m\u001b[0;34m:\u001b[0m\u001b[0;34m\u001b[0m\u001b[0;34m\u001b[0m\u001b[0m\n\u001b[1;32m    107\u001b[0m     \u001b[0;32mif\u001b[0m \u001b[0;32mnot\u001b[0m \u001b[0mself\u001b[0m\u001b[0;34m.\u001b[0m\u001b[0m_in_multi_worker_mode\u001b[0m\u001b[0;34m(\u001b[0m\u001b[0;34m)\u001b[0m\u001b[0;34m:\u001b[0m  \u001b[0;31m# pylint: disable=protected-access\u001b[0m\u001b[0;34m\u001b[0m\u001b[0;34m\u001b[0m\u001b[0m\n\u001b[0;32m--> 108\u001b[0;31m       \u001b[0;32mreturn\u001b[0m \u001b[0mmethod\u001b[0m\u001b[0;34m(\u001b[0m\u001b[0mself\u001b[0m\u001b[0;34m,\u001b[0m \u001b[0;34m*\u001b[0m\u001b[0margs\u001b[0m\u001b[0;34m,\u001b[0m \u001b[0;34m**\u001b[0m\u001b[0mkwargs\u001b[0m\u001b[0;34m)\u001b[0m\u001b[0;34m\u001b[0m\u001b[0;34m\u001b[0m\u001b[0m\n\u001b[0m\u001b[1;32m    109\u001b[0m \u001b[0;34m\u001b[0m\u001b[0m\n\u001b[1;32m    110\u001b[0m     \u001b[0;31m# Running inside `run_distribute_coordinator` already.\u001b[0m\u001b[0;34m\u001b[0m\u001b[0;34m\u001b[0m\u001b[0;34m\u001b[0m\u001b[0m\n",
      "\u001b[0;32m~/anaconda3/lib/python3.8/site-packages/tensorflow/python/keras/engine/training.py\u001b[0m in \u001b[0;36mfit\u001b[0;34m(self, x, y, batch_size, epochs, verbose, callbacks, validation_split, validation_data, shuffle, class_weight, sample_weight, initial_epoch, steps_per_epoch, validation_steps, validation_batch_size, validation_freq, max_queue_size, workers, use_multiprocessing)\u001b[0m\n\u001b[1;32m   1096\u001b[0m                 batch_size=batch_size):\n\u001b[1;32m   1097\u001b[0m               \u001b[0mcallbacks\u001b[0m\u001b[0;34m.\u001b[0m\u001b[0mon_train_batch_begin\u001b[0m\u001b[0;34m(\u001b[0m\u001b[0mstep\u001b[0m\u001b[0;34m)\u001b[0m\u001b[0;34m\u001b[0m\u001b[0;34m\u001b[0m\u001b[0m\n\u001b[0;32m-> 1098\u001b[0;31m               \u001b[0mtmp_logs\u001b[0m \u001b[0;34m=\u001b[0m \u001b[0mtrain_function\u001b[0m\u001b[0;34m(\u001b[0m\u001b[0miterator\u001b[0m\u001b[0;34m)\u001b[0m\u001b[0;34m\u001b[0m\u001b[0;34m\u001b[0m\u001b[0m\n\u001b[0m\u001b[1;32m   1099\u001b[0m               \u001b[0;32mif\u001b[0m \u001b[0mdata_handler\u001b[0m\u001b[0;34m.\u001b[0m\u001b[0mshould_sync\u001b[0m\u001b[0;34m:\u001b[0m\u001b[0;34m\u001b[0m\u001b[0;34m\u001b[0m\u001b[0m\n\u001b[1;32m   1100\u001b[0m                 \u001b[0mcontext\u001b[0m\u001b[0;34m.\u001b[0m\u001b[0masync_wait\u001b[0m\u001b[0;34m(\u001b[0m\u001b[0;34m)\u001b[0m\u001b[0;34m\u001b[0m\u001b[0;34m\u001b[0m\u001b[0m\n",
      "\u001b[0;32m~/anaconda3/lib/python3.8/site-packages/tensorflow/python/eager/def_function.py\u001b[0m in \u001b[0;36m__call__\u001b[0;34m(self, *args, **kwds)\u001b[0m\n\u001b[1;32m    778\u001b[0m       \u001b[0;32melse\u001b[0m\u001b[0;34m:\u001b[0m\u001b[0;34m\u001b[0m\u001b[0;34m\u001b[0m\u001b[0m\n\u001b[1;32m    779\u001b[0m         \u001b[0mcompiler\u001b[0m \u001b[0;34m=\u001b[0m \u001b[0;34m\"nonXla\"\u001b[0m\u001b[0;34m\u001b[0m\u001b[0;34m\u001b[0m\u001b[0m\n\u001b[0;32m--> 780\u001b[0;31m         \u001b[0mresult\u001b[0m \u001b[0;34m=\u001b[0m \u001b[0mself\u001b[0m\u001b[0;34m.\u001b[0m\u001b[0m_call\u001b[0m\u001b[0;34m(\u001b[0m\u001b[0;34m*\u001b[0m\u001b[0margs\u001b[0m\u001b[0;34m,\u001b[0m \u001b[0;34m**\u001b[0m\u001b[0mkwds\u001b[0m\u001b[0;34m)\u001b[0m\u001b[0;34m\u001b[0m\u001b[0;34m\u001b[0m\u001b[0m\n\u001b[0m\u001b[1;32m    781\u001b[0m \u001b[0;34m\u001b[0m\u001b[0m\n\u001b[1;32m    782\u001b[0m       \u001b[0mnew_tracing_count\u001b[0m \u001b[0;34m=\u001b[0m \u001b[0mself\u001b[0m\u001b[0;34m.\u001b[0m\u001b[0m_get_tracing_count\u001b[0m\u001b[0;34m(\u001b[0m\u001b[0;34m)\u001b[0m\u001b[0;34m\u001b[0m\u001b[0;34m\u001b[0m\u001b[0m\n",
      "\u001b[0;32m~/anaconda3/lib/python3.8/site-packages/tensorflow/python/eager/def_function.py\u001b[0m in \u001b[0;36m_call\u001b[0;34m(self, *args, **kwds)\u001b[0m\n\u001b[1;32m    821\u001b[0m       \u001b[0;31m# This is the first call of __call__, so we have to initialize.\u001b[0m\u001b[0;34m\u001b[0m\u001b[0;34m\u001b[0m\u001b[0;34m\u001b[0m\u001b[0m\n\u001b[1;32m    822\u001b[0m       \u001b[0minitializers\u001b[0m \u001b[0;34m=\u001b[0m \u001b[0;34m[\u001b[0m\u001b[0;34m]\u001b[0m\u001b[0;34m\u001b[0m\u001b[0;34m\u001b[0m\u001b[0m\n\u001b[0;32m--> 823\u001b[0;31m       \u001b[0mself\u001b[0m\u001b[0;34m.\u001b[0m\u001b[0m_initialize\u001b[0m\u001b[0;34m(\u001b[0m\u001b[0margs\u001b[0m\u001b[0;34m,\u001b[0m \u001b[0mkwds\u001b[0m\u001b[0;34m,\u001b[0m \u001b[0madd_initializers_to\u001b[0m\u001b[0;34m=\u001b[0m\u001b[0minitializers\u001b[0m\u001b[0;34m)\u001b[0m\u001b[0;34m\u001b[0m\u001b[0;34m\u001b[0m\u001b[0m\n\u001b[0m\u001b[1;32m    824\u001b[0m     \u001b[0;32mfinally\u001b[0m\u001b[0;34m:\u001b[0m\u001b[0;34m\u001b[0m\u001b[0;34m\u001b[0m\u001b[0m\n\u001b[1;32m    825\u001b[0m       \u001b[0;31m# At this point we know that the initialization is complete (or less\u001b[0m\u001b[0;34m\u001b[0m\u001b[0;34m\u001b[0m\u001b[0;34m\u001b[0m\u001b[0m\n",
      "\u001b[0;32m~/anaconda3/lib/python3.8/site-packages/tensorflow/python/eager/def_function.py\u001b[0m in \u001b[0;36m_initialize\u001b[0;34m(self, args, kwds, add_initializers_to)\u001b[0m\n\u001b[1;32m    694\u001b[0m     \u001b[0mself\u001b[0m\u001b[0;34m.\u001b[0m\u001b[0m_graph_deleter\u001b[0m \u001b[0;34m=\u001b[0m \u001b[0mFunctionDeleter\u001b[0m\u001b[0;34m(\u001b[0m\u001b[0mself\u001b[0m\u001b[0;34m.\u001b[0m\u001b[0m_lifted_initializer_graph\u001b[0m\u001b[0;34m)\u001b[0m\u001b[0;34m\u001b[0m\u001b[0;34m\u001b[0m\u001b[0m\n\u001b[1;32m    695\u001b[0m     self._concrete_stateful_fn = (\n\u001b[0;32m--> 696\u001b[0;31m         self._stateful_fn._get_concrete_function_internal_garbage_collected(  # pylint: disable=protected-access\n\u001b[0m\u001b[1;32m    697\u001b[0m             *args, **kwds))\n\u001b[1;32m    698\u001b[0m \u001b[0;34m\u001b[0m\u001b[0m\n",
      "\u001b[0;32m~/anaconda3/lib/python3.8/site-packages/tensorflow/python/eager/function.py\u001b[0m in \u001b[0;36m_get_concrete_function_internal_garbage_collected\u001b[0;34m(self, *args, **kwargs)\u001b[0m\n\u001b[1;32m   2853\u001b[0m       \u001b[0margs\u001b[0m\u001b[0;34m,\u001b[0m \u001b[0mkwargs\u001b[0m \u001b[0;34m=\u001b[0m \u001b[0;32mNone\u001b[0m\u001b[0;34m,\u001b[0m \u001b[0;32mNone\u001b[0m\u001b[0;34m\u001b[0m\u001b[0;34m\u001b[0m\u001b[0m\n\u001b[1;32m   2854\u001b[0m     \u001b[0;32mwith\u001b[0m \u001b[0mself\u001b[0m\u001b[0;34m.\u001b[0m\u001b[0m_lock\u001b[0m\u001b[0;34m:\u001b[0m\u001b[0;34m\u001b[0m\u001b[0;34m\u001b[0m\u001b[0m\n\u001b[0;32m-> 2855\u001b[0;31m       \u001b[0mgraph_function\u001b[0m\u001b[0;34m,\u001b[0m \u001b[0m_\u001b[0m\u001b[0;34m,\u001b[0m \u001b[0m_\u001b[0m \u001b[0;34m=\u001b[0m \u001b[0mself\u001b[0m\u001b[0;34m.\u001b[0m\u001b[0m_maybe_define_function\u001b[0m\u001b[0;34m(\u001b[0m\u001b[0margs\u001b[0m\u001b[0;34m,\u001b[0m \u001b[0mkwargs\u001b[0m\u001b[0;34m)\u001b[0m\u001b[0;34m\u001b[0m\u001b[0;34m\u001b[0m\u001b[0m\n\u001b[0m\u001b[1;32m   2856\u001b[0m     \u001b[0;32mreturn\u001b[0m \u001b[0mgraph_function\u001b[0m\u001b[0;34m\u001b[0m\u001b[0;34m\u001b[0m\u001b[0m\n\u001b[1;32m   2857\u001b[0m \u001b[0;34m\u001b[0m\u001b[0m\n",
      "\u001b[0;32m~/anaconda3/lib/python3.8/site-packages/tensorflow/python/eager/function.py\u001b[0m in \u001b[0;36m_maybe_define_function\u001b[0;34m(self, args, kwargs)\u001b[0m\n\u001b[1;32m   3211\u001b[0m \u001b[0;34m\u001b[0m\u001b[0m\n\u001b[1;32m   3212\u001b[0m       \u001b[0mself\u001b[0m\u001b[0;34m.\u001b[0m\u001b[0m_function_cache\u001b[0m\u001b[0;34m.\u001b[0m\u001b[0mmissed\u001b[0m\u001b[0;34m.\u001b[0m\u001b[0madd\u001b[0m\u001b[0;34m(\u001b[0m\u001b[0mcall_context_key\u001b[0m\u001b[0;34m)\u001b[0m\u001b[0;34m\u001b[0m\u001b[0;34m\u001b[0m\u001b[0m\n\u001b[0;32m-> 3213\u001b[0;31m       \u001b[0mgraph_function\u001b[0m \u001b[0;34m=\u001b[0m \u001b[0mself\u001b[0m\u001b[0;34m.\u001b[0m\u001b[0m_create_graph_function\u001b[0m\u001b[0;34m(\u001b[0m\u001b[0margs\u001b[0m\u001b[0;34m,\u001b[0m \u001b[0mkwargs\u001b[0m\u001b[0;34m)\u001b[0m\u001b[0;34m\u001b[0m\u001b[0;34m\u001b[0m\u001b[0m\n\u001b[0m\u001b[1;32m   3214\u001b[0m       \u001b[0mself\u001b[0m\u001b[0;34m.\u001b[0m\u001b[0m_function_cache\u001b[0m\u001b[0;34m.\u001b[0m\u001b[0mprimary\u001b[0m\u001b[0;34m[\u001b[0m\u001b[0mcache_key\u001b[0m\u001b[0;34m]\u001b[0m \u001b[0;34m=\u001b[0m \u001b[0mgraph_function\u001b[0m\u001b[0;34m\u001b[0m\u001b[0;34m\u001b[0m\u001b[0m\n\u001b[1;32m   3215\u001b[0m       \u001b[0;32mreturn\u001b[0m \u001b[0mgraph_function\u001b[0m\u001b[0;34m,\u001b[0m \u001b[0margs\u001b[0m\u001b[0;34m,\u001b[0m \u001b[0mkwargs\u001b[0m\u001b[0;34m\u001b[0m\u001b[0;34m\u001b[0m\u001b[0m\n",
      "\u001b[0;32m~/anaconda3/lib/python3.8/site-packages/tensorflow/python/eager/function.py\u001b[0m in \u001b[0;36m_create_graph_function\u001b[0;34m(self, args, kwargs, override_flat_arg_shapes)\u001b[0m\n\u001b[1;32m   3063\u001b[0m     \u001b[0marg_names\u001b[0m \u001b[0;34m=\u001b[0m \u001b[0mbase_arg_names\u001b[0m \u001b[0;34m+\u001b[0m \u001b[0mmissing_arg_names\u001b[0m\u001b[0;34m\u001b[0m\u001b[0;34m\u001b[0m\u001b[0m\n\u001b[1;32m   3064\u001b[0m     graph_function = ConcreteFunction(\n\u001b[0;32m-> 3065\u001b[0;31m         func_graph_module.func_graph_from_py_func(\n\u001b[0m\u001b[1;32m   3066\u001b[0m             \u001b[0mself\u001b[0m\u001b[0;34m.\u001b[0m\u001b[0m_name\u001b[0m\u001b[0;34m,\u001b[0m\u001b[0;34m\u001b[0m\u001b[0;34m\u001b[0m\u001b[0m\n\u001b[1;32m   3067\u001b[0m             \u001b[0mself\u001b[0m\u001b[0;34m.\u001b[0m\u001b[0m_python_function\u001b[0m\u001b[0;34m,\u001b[0m\u001b[0;34m\u001b[0m\u001b[0;34m\u001b[0m\u001b[0m\n",
      "\u001b[0;32m~/anaconda3/lib/python3.8/site-packages/tensorflow/python/framework/func_graph.py\u001b[0m in \u001b[0;36mfunc_graph_from_py_func\u001b[0;34m(name, python_func, args, kwargs, signature, func_graph, autograph, autograph_options, add_control_dependencies, arg_names, op_return_value, collections, capture_by_value, override_flat_arg_shapes)\u001b[0m\n\u001b[1;32m    984\u001b[0m         \u001b[0m_\u001b[0m\u001b[0;34m,\u001b[0m \u001b[0moriginal_func\u001b[0m \u001b[0;34m=\u001b[0m \u001b[0mtf_decorator\u001b[0m\u001b[0;34m.\u001b[0m\u001b[0munwrap\u001b[0m\u001b[0;34m(\u001b[0m\u001b[0mpython_func\u001b[0m\u001b[0;34m)\u001b[0m\u001b[0;34m\u001b[0m\u001b[0;34m\u001b[0m\u001b[0m\n\u001b[1;32m    985\u001b[0m \u001b[0;34m\u001b[0m\u001b[0m\n\u001b[0;32m--> 986\u001b[0;31m       \u001b[0mfunc_outputs\u001b[0m \u001b[0;34m=\u001b[0m \u001b[0mpython_func\u001b[0m\u001b[0;34m(\u001b[0m\u001b[0;34m*\u001b[0m\u001b[0mfunc_args\u001b[0m\u001b[0;34m,\u001b[0m \u001b[0;34m**\u001b[0m\u001b[0mfunc_kwargs\u001b[0m\u001b[0;34m)\u001b[0m\u001b[0;34m\u001b[0m\u001b[0;34m\u001b[0m\u001b[0m\n\u001b[0m\u001b[1;32m    987\u001b[0m \u001b[0;34m\u001b[0m\u001b[0m\n\u001b[1;32m    988\u001b[0m       \u001b[0;31m# invariant: `func_outputs` contains only Tensors, CompositeTensors,\u001b[0m\u001b[0;34m\u001b[0m\u001b[0;34m\u001b[0m\u001b[0;34m\u001b[0m\u001b[0m\n",
      "\u001b[0;32m~/anaconda3/lib/python3.8/site-packages/tensorflow/python/eager/def_function.py\u001b[0m in \u001b[0;36mwrapped_fn\u001b[0;34m(*args, **kwds)\u001b[0m\n\u001b[1;32m    598\u001b[0m         \u001b[0;31m# __wrapped__ allows AutoGraph to swap in a converted function. We give\u001b[0m\u001b[0;34m\u001b[0m\u001b[0;34m\u001b[0m\u001b[0;34m\u001b[0m\u001b[0m\n\u001b[1;32m    599\u001b[0m         \u001b[0;31m# the function a weak reference to itself to avoid a reference cycle.\u001b[0m\u001b[0;34m\u001b[0m\u001b[0;34m\u001b[0m\u001b[0;34m\u001b[0m\u001b[0m\n\u001b[0;32m--> 600\u001b[0;31m         \u001b[0;32mreturn\u001b[0m \u001b[0mweak_wrapped_fn\u001b[0m\u001b[0;34m(\u001b[0m\u001b[0;34m)\u001b[0m\u001b[0;34m.\u001b[0m\u001b[0m__wrapped__\u001b[0m\u001b[0;34m(\u001b[0m\u001b[0;34m*\u001b[0m\u001b[0margs\u001b[0m\u001b[0;34m,\u001b[0m \u001b[0;34m**\u001b[0m\u001b[0mkwds\u001b[0m\u001b[0;34m)\u001b[0m\u001b[0;34m\u001b[0m\u001b[0;34m\u001b[0m\u001b[0m\n\u001b[0m\u001b[1;32m    601\u001b[0m     \u001b[0mweak_wrapped_fn\u001b[0m \u001b[0;34m=\u001b[0m \u001b[0mweakref\u001b[0m\u001b[0;34m.\u001b[0m\u001b[0mref\u001b[0m\u001b[0;34m(\u001b[0m\u001b[0mwrapped_fn\u001b[0m\u001b[0;34m)\u001b[0m\u001b[0;34m\u001b[0m\u001b[0;34m\u001b[0m\u001b[0m\n\u001b[1;32m    602\u001b[0m \u001b[0;34m\u001b[0m\u001b[0m\n",
      "\u001b[0;32m~/anaconda3/lib/python3.8/site-packages/tensorflow/python/framework/func_graph.py\u001b[0m in \u001b[0;36mwrapper\u001b[0;34m(*args, **kwargs)\u001b[0m\n\u001b[1;32m    971\u001b[0m           \u001b[0;32mexcept\u001b[0m \u001b[0mException\u001b[0m \u001b[0;32mas\u001b[0m \u001b[0me\u001b[0m\u001b[0;34m:\u001b[0m  \u001b[0;31m# pylint:disable=broad-except\u001b[0m\u001b[0;34m\u001b[0m\u001b[0;34m\u001b[0m\u001b[0m\n\u001b[1;32m    972\u001b[0m             \u001b[0;32mif\u001b[0m \u001b[0mhasattr\u001b[0m\u001b[0;34m(\u001b[0m\u001b[0me\u001b[0m\u001b[0;34m,\u001b[0m \u001b[0;34m\"ag_error_metadata\"\u001b[0m\u001b[0;34m)\u001b[0m\u001b[0;34m:\u001b[0m\u001b[0;34m\u001b[0m\u001b[0;34m\u001b[0m\u001b[0m\n\u001b[0;32m--> 973\u001b[0;31m               \u001b[0;32mraise\u001b[0m \u001b[0me\u001b[0m\u001b[0;34m.\u001b[0m\u001b[0mag_error_metadata\u001b[0m\u001b[0;34m.\u001b[0m\u001b[0mto_exception\u001b[0m\u001b[0;34m(\u001b[0m\u001b[0me\u001b[0m\u001b[0;34m)\u001b[0m\u001b[0;34m\u001b[0m\u001b[0;34m\u001b[0m\u001b[0m\n\u001b[0m\u001b[1;32m    974\u001b[0m             \u001b[0;32melse\u001b[0m\u001b[0;34m:\u001b[0m\u001b[0;34m\u001b[0m\u001b[0;34m\u001b[0m\u001b[0m\n\u001b[1;32m    975\u001b[0m               \u001b[0;32mraise\u001b[0m\u001b[0;34m\u001b[0m\u001b[0;34m\u001b[0m\u001b[0m\n",
      "\u001b[0;31mTypeError\u001b[0m: in user code:\n\n    /home/abhishek/anaconda3/lib/python3.8/site-packages/tensorflow/python/keras/engine/training.py:806 train_function  *\n        return step_function(self, iterator)\n    /home/abhishek/anaconda3/lib/python3.8/site-packages/tensorflow/python/keras/engine/training.py:796 step_function  **\n        outputs = model.distribute_strategy.run(run_step, args=(data,))\n    /home/abhishek/anaconda3/lib/python3.8/site-packages/tensorflow/python/distribute/distribute_lib.py:1211 run\n        return self._extended.call_for_each_replica(fn, args=args, kwargs=kwargs)\n    /home/abhishek/anaconda3/lib/python3.8/site-packages/tensorflow/python/distribute/distribute_lib.py:2585 call_for_each_replica\n        return self._call_for_each_replica(fn, args, kwargs)\n    /home/abhishek/anaconda3/lib/python3.8/site-packages/tensorflow/python/distribute/distribute_lib.py:2945 _call_for_each_replica\n        return fn(*args, **kwargs)\n    /home/abhishek/anaconda3/lib/python3.8/site-packages/tensorflow/python/keras/engine/training.py:789 run_step  **\n        outputs = model.train_step(data)\n    /home/abhishek/anaconda3/lib/python3.8/site-packages/tensorflow/python/keras/engine/training.py:747 train_step\n        y_pred = self(x, training=True)\n    /home/abhishek/anaconda3/lib/python3.8/site-packages/tensorflow/python/keras/engine/base_layer.py:985 __call__\n        outputs = call_fn(inputs, *args, **kwargs)\n    /home/abhishek/anaconda3/lib/python3.8/site-packages/tensorflow/python/keras/engine/sequential.py:386 call\n        outputs = layer(inputs, **kwargs)\n    /home/abhishek/anaconda3/lib/python3.8/site-packages/tensorflow/python/keras/engine/base_layer.py:982 __call__\n        self._maybe_build(inputs)\n    /home/abhishek/anaconda3/lib/python3.8/site-packages/tensorflow/python/keras/engine/base_layer.py:2643 _maybe_build\n        self.build(input_shapes)  # pylint:disable=not-callable\n    /home/abhishek/anaconda3/lib/python3.8/site-packages/tensorflow/python/keras/layers/wrappers.py:177 build\n        super(TimeDistributed, self).build(tuple(child_input_shape))\n    /home/abhishek/anaconda3/lib/python3.8/site-packages/tensorflow/python/keras/layers/wrappers.py:58 build\n        self.layer.build(input_shape)\n    /home/abhishek/anaconda3/lib/python3.8/site-packages/tensorflow/python/keras/layers/recurrent.py:577 build\n        self.cell.build(step_input_shape)\n    /home/abhishek/anaconda3/lib/python3.8/site-packages/tensorflow/python/keras/utils/tf_utils.py:323 wrapper\n        output_shape = fn(instance, input_shape)\n    /home/abhishek/anaconda3/lib/python3.8/site-packages/tensorflow/python/keras/layers/recurrent.py:2357 build\n        self.kernel = self.add_weight(\n    /home/abhishek/anaconda3/lib/python3.8/site-packages/tensorflow/python/keras/engine/base_layer.py:597 add_weight\n        variable = self._add_variable_with_custom_getter(\n    /home/abhishek/anaconda3/lib/python3.8/site-packages/tensorflow/python/training/tracking/base.py:745 _add_variable_with_custom_getter\n        new_variable = getter(\n    /home/abhishek/anaconda3/lib/python3.8/site-packages/tensorflow/python/keras/engine/base_layer_utils.py:133 make_variable\n        return tf_variables.VariableV1(\n    /home/abhishek/anaconda3/lib/python3.8/site-packages/tensorflow/python/ops/variables.py:260 __call__\n        return cls._variable_v1_call(*args, **kwargs)\n    /home/abhishek/anaconda3/lib/python3.8/site-packages/tensorflow/python/ops/variables.py:206 _variable_v1_call\n        return previous_getter(\n    /home/abhishek/anaconda3/lib/python3.8/site-packages/tensorflow/python/ops/variables.py:67 getter\n        return captured_getter(captured_previous, **kwargs)\n    /home/abhishek/anaconda3/lib/python3.8/site-packages/tensorflow/python/distribute/distribute_lib.py:2857 creator\n        return next_creator(**kwargs)\n    /home/abhishek/anaconda3/lib/python3.8/site-packages/tensorflow/python/ops/variables.py:67 getter\n        return captured_getter(captured_previous, **kwargs)\n    /home/abhishek/anaconda3/lib/python3.8/site-packages/tensorflow/python/distribute/distribute_lib.py:2857 creator\n        return next_creator(**kwargs)\n    /home/abhishek/anaconda3/lib/python3.8/site-packages/tensorflow/python/ops/variables.py:67 getter\n        return captured_getter(captured_previous, **kwargs)\n    /home/abhishek/anaconda3/lib/python3.8/site-packages/tensorflow/python/distribute/distribute_lib.py:2857 creator\n        return next_creator(**kwargs)\n    /home/abhishek/anaconda3/lib/python3.8/site-packages/tensorflow/python/ops/variables.py:67 getter\n        return captured_getter(captured_previous, **kwargs)\n    /home/abhishek/anaconda3/lib/python3.8/site-packages/tensorflow/python/eager/def_function.py:683 variable_capturing_scope\n        v = UnliftedInitializerVariable(\n    /home/abhishek/anaconda3/lib/python3.8/site-packages/tensorflow/python/ops/variables.py:264 __call__\n        return super(VariableMetaclass, cls).__call__(*args, **kwargs)\n    /home/abhishek/anaconda3/lib/python3.8/site-packages/tensorflow/python/eager/def_function.py:226 __init__\n        initial_value() if init_from_fn else initial_value,\n    /home/abhishek/anaconda3/lib/python3.8/site-packages/tensorflow/python/keras/initializers/initializers_v2.py:397 __call__\n        return super(VarianceScaling, self).__call__(shape, dtype=_get_dtype(dtype))\n    /home/abhishek/anaconda3/lib/python3.8/site-packages/tensorflow/python/ops/init_ops_v2.py:545 __call__\n        fan_in, fan_out = _compute_fans(scale_shape)\n    /home/abhishek/anaconda3/lib/python3.8/site-packages/tensorflow/python/ops/init_ops.py:1425 _compute_fans\n        return int(fan_in), int(fan_out)\n\n    TypeError: int() argument must be a string, a bytes-like object or a number, not 'NoneType'\n"
     ]
    }
   ],
   "source": [
    "\n",
    "\n",
    "history_lstm = lstm_model.fit(X_train, Y_train, epochs=20,\n",
    "                    validation_data=(X_valid, Y_valid))"
   ]
  },
  {
   "cell_type": "code",
   "execution_count": null,
   "metadata": {
    "execution": {
     "iopub.status.busy": "2020-11-22T08:27:06.759117Z",
     "iopub.status.idle": "2020-11-22T08:27:06.759454Z"
    }
   },
   "outputs": [],
   "source": [
    "plot_learning_curves(history_lstm.history[\"loss\"], history_lstm.history[\"val_loss\"])\n",
    "plt.show()"
   ]
  },
  {
   "cell_type": "code",
   "execution_count": null,
   "metadata": {
    "execution": {
     "iopub.status.busy": "2020-11-22T08:27:06.760400Z",
     "iopub.status.idle": "2020-11-22T08:27:06.760723Z"
    }
   },
   "outputs": [],
   "source": [
    "series = load('univariate-time-series-multi-step-test.npy')\n",
    "X_new, Y_new = series[:, :50, :], series[:, 50:, :]\n",
    "Y_pred = lstm_model.predict(X_new)[:, -1][..., np.newaxis]"
   ]
  },
  {
   "cell_type": "code",
   "execution_count": null,
   "metadata": {
    "execution": {
     "iopub.status.busy": "2020-11-22T08:27:06.761477Z",
     "iopub.status.idle": "2020-11-22T08:27:06.761779Z"
    }
   },
   "outputs": [],
   "source": [
    "plot_multiple_forecasts(X_new, Y_new, Y_pred)\n",
    "plt.show()"
   ]
  },
  {
   "cell_type": "code",
   "execution_count": null,
   "metadata": {
    "execution": {
     "iopub.status.busy": "2020-11-22T08:27:06.762606Z",
     "iopub.status.idle": "2020-11-22T08:27:06.762918Z"
    }
   },
   "outputs": [],
   "source": [
    "lstm_model.evaluate(X_test, Y_test)\n",
    "#outputs [loss (mse), last_time_step_mse]"
   ]
  },
  {
   "cell_type": "code",
   "execution_count": null,
   "metadata": {},
   "outputs": [],
   "source": []
  }
 ],
 "metadata": {
  "kernelspec": {
   "display_name": "Python 3",
   "language": "python",
   "name": "python3"
  },
  "language_info": {
   "codemirror_mode": {
    "name": "ipython",
    "version": 3
   },
   "file_extension": ".py",
   "mimetype": "text/x-python",
   "name": "python",
   "nbconvert_exporter": "python",
   "pygments_lexer": "ipython3",
   "version": "3.8.3"
  },
  "nav_menu": {},
  "toc": {
   "navigate_menu": true,
   "number_sections": true,
   "sideBar": true,
   "threshold": 6,
   "toc_cell": false,
   "toc_section_display": "block",
   "toc_window_display": false
  }
 },
 "nbformat": 4,
 "nbformat_minor": 4
}

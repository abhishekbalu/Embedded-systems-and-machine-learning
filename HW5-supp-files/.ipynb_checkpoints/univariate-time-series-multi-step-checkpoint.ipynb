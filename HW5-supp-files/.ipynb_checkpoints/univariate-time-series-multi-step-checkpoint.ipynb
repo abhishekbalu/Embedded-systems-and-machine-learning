{
 "cells": [
  {
   "cell_type": "code",
   "execution_count": 1,
   "metadata": {
    "execution": {
     "iopub.execute_input": "2020-11-21T08:35:03.440845Z",
     "iopub.status.busy": "2020-11-21T08:35:03.440590Z",
     "iopub.status.idle": "2020-11-21T08:35:04.908457Z",
     "shell.execute_reply": "2020-11-21T08:35:04.907911Z",
     "shell.execute_reply.started": "2020-11-21T08:35:03.440796Z"
    }
   },
   "outputs": [],
   "source": [
    "import sys\n",
    "import sklearn\n",
    "import tensorflow as tf\n",
    "from tensorflow import keras\n",
    "\n",
    "import numpy as np\n",
    "from numpy import load\n",
    "import os\n",
    "\n",
    "# to make this notebook's output stable across runs\n",
    "np.random.seed(42)\n",
    "tf.random.set_seed(42)\n",
    "\n",
    "# To plot pretty figures\n",
    "%matplotlib inline\n",
    "import matplotlib as mpl\n",
    "import matplotlib.pyplot as plt\n",
    "mpl.rc('axes', labelsize=14)\n",
    "mpl.rc('xtick', labelsize=12)\n",
    "mpl.rc('ytick', labelsize=12)\n",
    "\n",
    "# Where to save the figures\n",
    "PROJECT_ROOT_DIR = \".\"\n",
    "IMAGES_PATH = os.path.join(PROJECT_ROOT_DIR, \"images\")\n",
    "os.makedirs(IMAGES_PATH, exist_ok=True)\n",
    "\n",
    "def save_fig(fig_id, tight_layout=True, fig_extension=\"png\", resolution=300):\n",
    "    path = os.path.join(IMAGES_PATH, fig_id + \".\" + fig_extension)\n",
    "    print(\"Saving figure\", fig_id)\n",
    "    if tight_layout:\n",
    "        plt.tight_layout()\n",
    "    plt.savefig(path, format=fig_extension, dpi=resolution)"
   ]
  },
  {
   "cell_type": "code",
   "execution_count": 2,
   "metadata": {
    "execution": {
     "iopub.execute_input": "2020-11-21T08:35:04.909278Z",
     "iopub.status.busy": "2020-11-21T08:35:04.909145Z",
     "iopub.status.idle": "2020-11-21T08:35:04.957832Z",
     "shell.execute_reply": "2020-11-21T08:35:04.957322Z",
     "shell.execute_reply.started": "2020-11-21T08:35:04.909263Z"
    }
   },
   "outputs": [],
   "source": [
    "physical_devices = tf.config.list_physical_devices('GPU')\n",
    "tf.config.experimental.set_memory_growth(physical_devices[0], enable=True)"
   ]
  },
  {
   "cell_type": "markdown",
   "metadata": {},
   "source": [
    "### Load Dataset"
   ]
  },
  {
   "cell_type": "code",
   "execution_count": 3,
   "metadata": {
    "execution": {
     "iopub.execute_input": "2020-11-21T08:35:07.904621Z",
     "iopub.status.busy": "2020-11-21T08:35:07.904063Z",
     "iopub.status.idle": "2020-11-21T08:35:07.908730Z",
     "shell.execute_reply": "2020-11-21T08:35:07.908173Z",
     "shell.execute_reply.started": "2020-11-21T08:35:07.904555Z"
    }
   },
   "outputs": [],
   "source": [
    "def plot_learning_curves(loss, val_loss):\n",
    "    plt.plot(np.arange(len(loss)) + 0.5, loss, \"b.-\", label=\"Training loss\")\n",
    "    plt.plot(np.arange(len(val_loss)) + 1, val_loss, \"r.-\", label=\"Validation loss\")\n",
    "    plt.gca().xaxis.set_major_locator(mpl.ticker.MaxNLocator(integer=True))\n",
    "    plt.axis([1, 20, 0, 0.05])\n",
    "    plt.legend(fontsize=14)\n",
    "    plt.xlabel(\"Epochs\")\n",
    "    plt.ylabel(\"Loss\")\n",
    "    plt.grid(True)"
   ]
  },
  {
   "cell_type": "code",
   "execution_count": 4,
   "metadata": {
    "execution": {
     "iopub.execute_input": "2020-11-21T08:35:08.331230Z",
     "iopub.status.busy": "2020-11-21T08:35:08.330908Z",
     "iopub.status.idle": "2020-11-21T08:35:08.373751Z",
     "shell.execute_reply": "2020-11-21T08:35:08.373001Z",
     "shell.execute_reply.started": "2020-11-21T08:35:08.331194Z"
    }
   },
   "outputs": [],
   "source": [
    "def plot_series(series, y=None, y_pred=None, x_label=\"$t$\", y_label=\"$x(t)$\"):\n",
    "    plt.plot(series, \".-\")\n",
    "    if y is not None:\n",
    "        plt.plot(n_steps, y, \"bx\", markersize=10)\n",
    "    if y_pred is not None:\n",
    "        plt.plot(n_steps, y_pred, \"ro\")\n",
    "    plt.grid(True)\n",
    "    if x_label:\n",
    "        plt.xlabel(x_label, fontsize=16)\n",
    "    if y_label:\n",
    "        plt.ylabel(y_label, fontsize=16, rotation=0)\n",
    "    plt.hlines(0, 0, 100, linewidth=1)\n",
    "    plt.axis([0, n_steps + 1, -1, 1])"
   ]
  },
  {
   "cell_type": "code",
   "execution_count": 5,
   "metadata": {
    "execution": {
     "iopub.execute_input": "2020-11-21T08:35:08.843945Z",
     "iopub.status.busy": "2020-11-21T08:35:08.843756Z",
     "iopub.status.idle": "2020-11-21T08:35:08.847745Z",
     "shell.execute_reply": "2020-11-21T08:35:08.847304Z",
     "shell.execute_reply.started": "2020-11-21T08:35:08.843924Z"
    }
   },
   "outputs": [],
   "source": [
    "def plot_multiple_forecasts(X, Y, Y_pred):\n",
    "    n_steps = X.shape[1]\n",
    "    ahead = Y.shape[1]\n",
    "    plot_series(X[0, :, 0])\n",
    "    plt.plot(np.arange(n_steps, n_steps + ahead), Y[0, :, 0], \"ro-\", label=\"Actual\")\n",
    "    plt.plot(np.arange(n_steps, n_steps + ahead), Y_pred[0, :, 0], \"bx-\", label=\"Forecast\", markersize=10)\n",
    "    plt.axis([0, n_steps + ahead, -1, 1])\n",
    "    plt.legend(fontsize=14)"
   ]
  },
  {
   "cell_type": "markdown",
   "metadata": {},
   "source": [
    "## Forecasting Several Steps Ahead\n",
    "\n",
    "If we want to predict the next 10 values, instead of just 1, we can modify our previous model to predict the next 10 values. We first need to load the dataset that has sequences with 9 more time steps."
   ]
  },
  {
   "cell_type": "code",
   "execution_count": 6,
   "metadata": {
    "execution": {
     "iopub.execute_input": "2020-11-21T08:35:09.590983Z",
     "iopub.status.busy": "2020-11-21T08:35:09.590423Z",
     "iopub.status.idle": "2020-11-21T08:35:09.606493Z",
     "shell.execute_reply": "2020-11-21T08:35:09.604542Z",
     "shell.execute_reply.started": "2020-11-21T08:35:09.590916Z"
    }
   },
   "outputs": [],
   "source": [
    "n_steps = 50\n",
    "series = load('univariate-time-series-multi-step.npy')\n",
    "\n",
    "X_train, Y_train = series[:7000, :n_steps], series[:7000, -10:, 0]\n",
    "X_valid, Y_valid = series[7000:9000, :n_steps], series[7000:9000, -10:, 0]\n",
    "X_test, Y_test = series[9000:, :n_steps], series[9000:, -10:, 0]"
   ]
  },
  {
   "cell_type": "code",
   "execution_count": 7,
   "metadata": {
    "execution": {
     "iopub.execute_input": "2020-11-21T08:35:10.105052Z",
     "iopub.status.busy": "2020-11-21T08:35:10.104719Z",
     "iopub.status.idle": "2020-11-21T08:35:16.176740Z",
     "shell.execute_reply": "2020-11-21T08:35:16.176362Z",
     "shell.execute_reply.started": "2020-11-21T08:35:10.105014Z"
    }
   },
   "outputs": [
    {
     "name": "stdout",
     "output_type": "stream",
     "text": [
      "Epoch 1/20\n",
      "219/219 [==============================] - 0s 1ms/step - loss: 0.1389 - val_loss: 0.0753\n",
      "Epoch 2/20\n",
      "219/219 [==============================] - 0s 1ms/step - loss: 0.0624 - val_loss: 0.0551\n",
      "Epoch 3/20\n",
      "219/219 [==============================] - 0s 1ms/step - loss: 0.0505 - val_loss: 0.0470\n",
      "Epoch 4/20\n",
      "219/219 [==============================] - 0s 1ms/step - loss: 0.0447 - val_loss: 0.0422\n",
      "Epoch 5/20\n",
      "219/219 [==============================] - 0s 1ms/step - loss: 0.0413 - val_loss: 0.0396\n",
      "Epoch 6/20\n",
      "219/219 [==============================] - 0s 1ms/step - loss: 0.0390 - val_loss: 0.0376\n",
      "Epoch 7/20\n",
      "219/219 [==============================] - 0s 1ms/step - loss: 0.0374 - val_loss: 0.0360\n",
      "Epoch 8/20\n",
      "219/219 [==============================] - 0s 1ms/step - loss: 0.0362 - val_loss: 0.0350\n",
      "Epoch 9/20\n",
      "219/219 [==============================] - 0s 1ms/step - loss: 0.0354 - val_loss: 0.0342\n",
      "Epoch 10/20\n",
      "219/219 [==============================] - 0s 1ms/step - loss: 0.0347 - val_loss: 0.0336\n",
      "Epoch 11/20\n",
      "219/219 [==============================] - 0s 1ms/step - loss: 0.0342 - val_loss: 0.0333\n",
      "Epoch 12/20\n",
      "219/219 [==============================] - 0s 1ms/step - loss: 0.0337 - val_loss: 0.0327\n",
      "Epoch 13/20\n",
      "219/219 [==============================] - 0s 1ms/step - loss: 0.0334 - val_loss: 0.0324\n",
      "Epoch 14/20\n",
      "219/219 [==============================] - 0s 1ms/step - loss: 0.0331 - val_loss: 0.0323\n",
      "Epoch 15/20\n",
      "219/219 [==============================] - 0s 1ms/step - loss: 0.0329 - val_loss: 0.0319\n",
      "Epoch 16/20\n",
      "219/219 [==============================] - 0s 1ms/step - loss: 0.0326 - val_loss: 0.0318\n",
      "Epoch 17/20\n",
      "219/219 [==============================] - 0s 1ms/step - loss: 0.0324 - val_loss: 0.0317\n",
      "Epoch 18/20\n",
      "219/219 [==============================] - 0s 1ms/step - loss: 0.0321 - val_loss: 0.0316\n",
      "Epoch 19/20\n",
      "219/219 [==============================] - 0s 1ms/step - loss: 0.0320 - val_loss: 0.0313\n",
      "Epoch 20/20\n",
      "219/219 [==============================] - 0s 1ms/step - loss: 0.0318 - val_loss: 0.0312\n"
     ]
    }
   ],
   "source": [
    "#Improve upon this model with your own model\n",
    "\n",
    "model = keras.models.Sequential([\n",
    "    keras.layers.Flatten(input_shape=[50, 1]),\n",
    "    keras.layers.Dense(10)\n",
    "])\n",
    "\n",
    "model.compile(loss=\"mse\", optimizer=\"adam\")\n",
    "history = model.fit(X_train, Y_train, epochs=20,\n",
    "                    validation_data=(X_valid, Y_valid))"
   ]
  },
  {
   "cell_type": "code",
   "execution_count": 8,
   "metadata": {
    "execution": {
     "iopub.execute_input": "2020-11-21T08:35:16.177606Z",
     "iopub.status.busy": "2020-11-21T08:35:16.177481Z",
     "iopub.status.idle": "2020-11-21T08:35:16.302610Z",
     "shell.execute_reply": "2020-11-21T08:35:16.302046Z",
     "shell.execute_reply.started": "2020-11-21T08:35:16.177591Z"
    }
   },
   "outputs": [
    {
     "data": {
      "image/png": "[encoded data removed]",
      "text/plain": [
       "<Figure size 432x288 with 1 Axes>"
      ]
     },
     "metadata": {
      "needs_background": "light"
     },
     "output_type": "display_data"
    }
   ],
   "source": [
    "plot_learning_curves(history.history[\"loss\"], history.history[\"val_loss\"])\n",
    "plt.show()"
   ]
  },
  {
   "cell_type": "markdown",
   "metadata": {},
   "source": [
    "Now let's predict the next 10 values:"
   ]
  },
  {
   "cell_type": "code",
   "execution_count": 9,
   "metadata": {
    "execution": {
     "iopub.execute_input": "2020-11-21T08:35:16.303644Z",
     "iopub.status.busy": "2020-11-21T08:35:16.303521Z",
     "iopub.status.idle": "2020-11-21T08:35:16.365366Z",
     "shell.execute_reply": "2020-11-21T08:35:16.364693Z",
     "shell.execute_reply.started": "2020-11-21T08:35:16.303628Z"
    }
   },
   "outputs": [],
   "source": [
    "series = load('univariate-time-series-multi-step-test.npy')\n",
    "X_new, Y_new = series[:, :50, :], series[:, -10:, :]\n",
    "Y_pred = model.predict(X_new)[..., np.newaxis]"
   ]
  },
  {
   "cell_type": "code",
   "execution_count": 10,
   "metadata": {
    "execution": {
     "iopub.execute_input": "2020-11-21T08:35:16.366880Z",
     "iopub.status.busy": "2020-11-21T08:35:16.366697Z",
     "iopub.status.idle": "2020-11-21T08:35:16.642550Z",
     "shell.execute_reply": "2020-11-21T08:35:16.642023Z",
     "shell.execute_reply.started": "2020-11-21T08:35:16.366862Z"
    }
   },
   "outputs": [
    {
     "data": {
      "image/png": "[encoded data removed]",
      "text/plain": [
       "<Figure size 432x288 with 1 Axes>"
      ]
     },
     "metadata": {
      "needs_background": "light"
     },
     "output_type": "display_data"
    }
   ],
   "source": [
    "plot_multiple_forecasts(X_new, Y_new, Y_pred)\n",
    "plt.show()"
   ]
  },
  {
   "cell_type": "code",
   "execution_count": 11,
   "metadata": {
    "execution": {
     "iopub.execute_input": "2020-11-21T08:35:16.643240Z",
     "iopub.status.busy": "2020-11-21T08:35:16.643125Z",
     "iopub.status.idle": "2020-11-21T08:35:17.187570Z",
     "shell.execute_reply": "2020-11-21T08:35:17.187081Z",
     "shell.execute_reply.started": "2020-11-21T08:35:16.643225Z"
    }
   },
   "outputs": [
    {
     "name": "stdout",
     "output_type": "stream",
     "text": [
      "32/32 [==============================] - 0s 1ms/step - loss: 0.0325\n"
     ]
    },
    {
     "data": {
      "text/plain": [
       "0.03254472836852074"
      ]
     },
     "execution_count": 11,
     "metadata": {},
     "output_type": "execute_result"
    }
   ],
   "source": [
    "model.evaluate(X_test, Y_test)"
   ]
  },
  {
   "cell_type": "code",
   "execution_count": 86,
   "metadata": {
    "execution": {
     "iopub.execute_input": "2020-11-21T09:11:18.415146Z",
     "iopub.status.busy": "2020-11-21T09:11:18.414976Z",
     "iopub.status.idle": "2020-11-21T09:11:18.449306Z",
     "shell.execute_reply": "2020-11-21T09:11:18.448612Z",
     "shell.execute_reply.started": "2020-11-21T09:11:18.415127Z"
    }
   },
   "outputs": [],
   "source": [
    "lstm_model = tf.keras.models.Sequential([\n",
    "    \n",
    "\n",
    "    tf.keras.layers.LSTM(128, return_sequences=True),\n",
    "    tf.keras.layers.Dropout(0.2),\n",
    "    tf.keras.layers.LSTM(64, return_sequences=True),\n",
    "    tf.keras.layers.Dropout(0.2),\n",
    "    tf.keras.layers.LSTM(32, return_sequences=True),\n",
    "    tf.keras.layers.Dropout(0.2),\n",
    "    tf.keras.layers.LSTM(24, return_sequences=True),\n",
    "    tf.keras.layers.Dropout(0.2),\n",
    "    tf.keras.layers.LSTM(12),\n",
    "    tf.keras.layers.Dropout(0.2),\n",
    "\n",
    "    tf.keras.layers.Dense(units=10)\n",
    "])"
   ]
  },
  {
   "cell_type": "code",
   "execution_count": 87,
   "metadata": {
    "execution": {
     "iopub.execute_input": "2020-11-21T09:11:18.825097Z",
     "iopub.status.busy": "2020-11-21T09:11:18.824783Z",
     "iopub.status.idle": "2020-11-21T09:12:48.080626Z",
     "shell.execute_reply": "2020-11-21T09:12:48.080207Z",
     "shell.execute_reply.started": "2020-11-21T09:11:18.825060Z"
    }
   },
   "outputs": [
    {
     "name": "stdout",
     "output_type": "stream",
     "text": [
      "Epoch 1/20\n",
      "219/219 [==============================] - 5s 24ms/step - loss: 0.1086 - val_loss: 0.0933\n",
      "Epoch 2/20\n",
      "219/219 [==============================] - 4s 20ms/step - loss: 0.0863 - val_loss: 0.0729\n",
      "Epoch 3/20\n",
      "219/219 [==============================] - 4s 16ms/step - loss: 0.0694 - val_loss: 0.0488\n",
      "Epoch 4/20\n",
      "219/219 [==============================] - 4s 18ms/step - loss: 0.0520 - val_loss: 0.0346\n",
      "Epoch 5/20\n",
      "219/219 [==============================] - 3s 15ms/step - loss: 0.0432 - val_loss: 0.0301\n",
      "Epoch 6/20\n",
      "219/219 [==============================] - 4s 16ms/step - loss: 0.0359 - val_loss: 0.0227\n",
      "Epoch 7/20\n",
      "219/219 [==============================] - 5s 22ms/step - loss: 0.0317 - val_loss: 0.0197\n",
      "Epoch 8/20\n",
      "219/219 [==============================] - 6s 25ms/step - loss: 0.0284 - val_loss: 0.0154\n",
      "Epoch 9/20\n",
      "219/219 [==============================] - 6s 28ms/step - loss: 0.0258 - val_loss: 0.0141\n",
      "Epoch 10/20\n",
      "219/219 [==============================] - 6s 27ms/step - loss: 0.0236 - val_loss: 0.0130\n",
      "Epoch 11/20\n",
      "219/219 [==============================] - 5s 24ms/step - loss: 0.0223 - val_loss: 0.0105\n",
      "Epoch 12/20\n",
      "219/219 [==============================] - 4s 20ms/step - loss: 0.0215 - val_loss: 0.0128\n",
      "Epoch 13/20\n",
      "219/219 [==============================] - 3s 16ms/step - loss: 0.0205 - val_loss: 0.0111\n",
      "Epoch 14/20\n",
      "219/219 [==============================] - 3s 16ms/step - loss: 0.0203 - val_loss: 0.0091\n",
      "Epoch 15/20\n",
      "219/219 [==============================] - 3s 16ms/step - loss: 0.0195 - val_loss: 0.0092\n",
      "Epoch 16/20\n",
      "219/219 [==============================] - 4s 17ms/step - loss: 0.0189 - val_loss: 0.0092\n",
      "Epoch 17/20\n",
      "219/219 [==============================] - 3s 15ms/step - loss: 0.0189 - val_loss: 0.0127\n",
      "Epoch 18/20\n",
      "219/219 [==============================] - 4s 17ms/step - loss: 0.0181 - val_loss: 0.0083\n",
      "Epoch 19/20\n",
      "219/219 [==============================] - 3s 15ms/step - loss: 0.0183 - val_loss: 0.0088\n",
      "Epoch 20/20\n",
      "219/219 [==============================] - 3s 16ms/step - loss: 0.0178 - val_loss: 0.0078\n"
     ]
    }
   ],
   "source": [
    "\n",
    "lstm_model.compile(loss=\"mse\", optimizer=\"adam\")\n",
    "history_lstm = lstm_model.fit(X_train, Y_train, epochs=20,\n",
    "                    validation_data=(X_valid, Y_valid))"
   ]
  },
  {
   "cell_type": "code",
   "execution_count": 88,
   "metadata": {
    "execution": {
     "iopub.execute_input": "2020-11-21T09:12:50.529228Z",
     "iopub.status.busy": "2020-11-21T09:12:50.529020Z",
     "iopub.status.idle": "2020-11-21T09:12:50.825715Z",
     "shell.execute_reply": "2020-11-21T09:12:50.824861Z",
     "shell.execute_reply.started": "2020-11-21T09:12:50.529213Z"
    }
   },
   "outputs": [
    {
     "name": "stdout",
     "output_type": "stream",
     "text": [
      "32/32 [==============================] - 0s 8ms/step - loss: 0.0083\n"
     ]
    },
    {
     "data": {
      "text/plain": [
       "0.00829544197767973"
      ]
     },
     "execution_count": 88,
     "metadata": {},
     "output_type": "execute_result"
    }
   ],
   "source": [
    "lstm_model.evaluate(X_test, Y_test)"
   ]
  },
  {
   "cell_type": "code",
   "execution_count": 89,
   "metadata": {
    "execution": {
     "iopub.execute_input": "2020-11-21T09:12:51.707844Z",
     "iopub.status.busy": "2020-11-21T09:12:51.707392Z",
     "iopub.status.idle": "2020-11-21T09:12:51.849265Z",
     "shell.execute_reply": "2020-11-21T09:12:51.848733Z",
     "shell.execute_reply.started": "2020-11-21T09:12:51.707792Z"
    }
   },
   "outputs": [
    {
     "data": {
      "image/png": "[encoded data removed]",
      "text/plain": [
       "<Figure size 432x288 with 1 Axes>"
      ]
     },
     "metadata": {
      "needs_background": "light"
     },
     "output_type": "display_data"
    }
   ],
   "source": [
    "plot_learning_curves(history_lstm.history[\"loss\"], history_lstm.history[\"val_loss\"])\n",
    "plt.show()"
   ]
  },
  {
   "cell_type": "code",
   "execution_count": 91,
   "metadata": {
    "execution": {
     "iopub.execute_input": "2020-11-21T09:12:59.804262Z",
     "iopub.status.busy": "2020-11-21T09:12:59.803795Z",
     "iopub.status.idle": "2020-11-21T09:12:59.839637Z",
     "shell.execute_reply": "2020-11-21T09:12:59.839069Z",
     "shell.execute_reply.started": "2020-11-21T09:12:59.804213Z"
    }
   },
   "outputs": [],
   "source": [
    "series = load('univariate-time-series-multi-step-test.npy')\n",
    "X_new, Y_new = series[:, :50, :], series[:, -10:, :]\n",
    "Y_pred_lstm= lstm_model.predict(X_new)[..., np.newaxis]"
   ]
  },
  {
   "cell_type": "code",
   "execution_count": 92,
   "metadata": {
    "execution": {
     "iopub.execute_input": "2020-11-21T09:13:00.697822Z",
     "iopub.status.busy": "2020-11-21T09:13:00.697469Z",
     "iopub.status.idle": "2020-11-21T09:13:00.857929Z",
     "shell.execute_reply": "2020-11-21T09:13:00.857310Z",
     "shell.execute_reply.started": "2020-11-21T09:13:00.697781Z"
    }
   },
   "outputs": [
    {
     "data": {
      "image/png": "[encoded data removed]",
      "text/plain": [
       "<Figure size 432x288 with 1 Axes>"
      ]
     },
     "metadata": {
      "needs_background": "light"
     },
     "output_type": "display_data"
    }
   ],
   "source": [
    "plot_multiple_forecasts(X_new, Y_new, Y_pred_lstm)\n",
    "plt.show()"
   ]
  },
  {
   "cell_type": "code",
   "execution_count": null,
   "metadata": {},
   "outputs": [],
   "source": []
  }
 ],
 "metadata": {
  "kernelspec": {
   "display_name": "Python 3",
   "language": "python",
   "name": "python3"
  },
  "language_info": {
   "codemirror_mode": {
    "name": "ipython",
    "version": 3
   },
   "file_extension": ".py",
   "mimetype": "text/x-python",
   "name": "python",
   "nbconvert_exporter": "python",
   "pygments_lexer": "ipython3",
   "version": "3.8.3"
  },
  "nav_menu": {},
  "toc": {
   "navigate_menu": true,
   "number_sections": true,
   "sideBar": true,
   "threshold": 6,
   "toc_cell": false,
   "toc_section_display": "block",
   "toc_window_display": false
  }
 },
 "nbformat": 4,
 "nbformat_minor": 4
}

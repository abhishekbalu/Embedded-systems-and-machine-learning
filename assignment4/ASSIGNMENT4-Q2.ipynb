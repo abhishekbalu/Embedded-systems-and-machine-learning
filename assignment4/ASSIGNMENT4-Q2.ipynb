{
 "cells": [
  {
   "cell_type": "code",
   "execution_count": 61,
   "metadata": {},
   "outputs": [],
   "source": [
    "import os\n",
    "import pandas as pd \n",
    "import numpy as np \n",
    "import glob"
   ]
  },
  {
   "cell_type": "code",
   "execution_count": 62,
   "metadata": {},
   "outputs": [],
   "source": [
    "path = '/home/abhishek/Desktop/embedded machine learning/maestro-master/'"
   ]
  },
  {
   "cell_type": "code",
   "execution_count": 63,
   "metadata": {},
   "outputs": [],
   "source": [
    "numpes = 40 / 0.15625\n",
    "perange = int(np.sqrt(numpes)/2)+1"
   ]
  },
  {
   "cell_type": "code",
   "execution_count": 64,
   "metadata": {},
   "outputs": [
    {
     "data": {
      "text/plain": [
       "256"
      ]
     },
     "execution_count": 64,
     "metadata": {},
     "output_type": "execute_result"
    }
   ],
   "source": [
    "2**8"
   ]
  },
  {
   "cell_type": "code",
   "execution_count": 65,
   "metadata": {},
   "outputs": [],
   "source": [
    "noc_bw_range = int(20/0.048)\n",
    "# nearest power of 2 is 256 so 8+1 = 9"
   ]
  },
  {
   "cell_type": "code",
   "execution_count": 105,
   "metadata": {},
   "outputs": [],
   "source": [
    "for i in range(1,perange):\n",
    "    for j in range(1, 9):\n",
    "        \n",
    "        f = open(\"accelerator_1.m\", \"w+\")\n",
    "        f.write(\"NumPEs: \")\n",
    "        f.write(str(2**i))\n",
    "        f.write(\"\\n\")\n",
    "        f.write(\"L1Size: 256\\n\")\n",
    "        f.write(\"L2Size: 2048\\n\")\n",
    "        f.write(\"NoC_BW: \")\n",
    "        f.write(str(2**j))\n",
    "        f.write(\"\\n\")\n",
    "        f.write(\"NoC_NumHops: 1\")\n",
    "        f.close()\n",
    "        os.system(\"ls\")\n",
    "        os.system(\" ./run_example1.sh\")\n",
    "        new_file = \" mv MobileNetV2_yxp_os.csv MobileNetV2_yxp_os\" +str(2**i) + \"_\" + str(2**j) + \".csv\"\n",
    "        os.system( new_file)"
   ]
  },
  {
   "cell_type": "code",
   "execution_count": 89,
   "metadata": {},
   "outputs": [],
   "source": [
    "\n",
    "os.chdir(path)\n"
   ]
  },
  {
   "cell_type": "code",
   "execution_count": 106,
   "metadata": {},
   "outputs": [],
   "source": [
    "mobilenet = glob.glob('MobileNet*.{}'.format('csv'))\n",
    "squeeze = glob.glob('squeezenet*.{}'.format('csv'))\n",
    "\n",
    "\n"
   ]
  },
  {
   "cell_type": "code",
   "execution_count": 107,
   "metadata": {},
   "outputs": [],
   "source": [
    "mobilenet_results=[]\n",
    "squeeze_results =[]"
   ]
  },
  {
   "cell_type": "code",
   "execution_count": 108,
   "metadata": {},
   "outputs": [],
   "source": [
    "\n",
    "for i in range(len(mobilenet)):\n",
    "    mobilenet1= pd.read_csv (path+mobilenet[i]) \n",
    "\n",
    "    mobilenet_results.append(sum(mobilenet1[' Runtime (Cycles)'].values))\n",
    "    \n",
    "for i in range(len(squeeze)):\n",
    "    squeeze1= pd.read_csv (path+squeeze[i]) \n",
    "    squeeze_results.append(sum(squeeze1[' Runtime (Cycles)'].values))\n"
   ]
  },
  {
   "cell_type": "code",
   "execution_count": 109,
   "metadata": {},
   "outputs": [],
   "source": [
    "mobilenet_results=np.array(mobilenet_results)"
   ]
  },
  {
   "cell_type": "code",
   "execution_count": 110,
   "metadata": {},
   "outputs": [
    {
     "data": {
      "text/plain": [
       "4764350"
      ]
     },
     "execution_count": 110,
     "metadata": {},
     "output_type": "execute_result"
    }
   ],
   "source": [
    "mobilenet_results[mobilenet_results.argmin()]"
   ]
  },
  {
   "cell_type": "code",
   "execution_count": 111,
   "metadata": {},
   "outputs": [
    {
     "data": {
      "text/plain": [
       "'MobileNetV2_kcp_ws256_256.csv'"
      ]
     },
     "execution_count": 111,
     "metadata": {},
     "output_type": "execute_result"
    }
   ],
   "source": [
    "mobilenet[mobilenet_results.argmin()]"
   ]
  },
  {
   "cell_type": "code",
   "execution_count": 112,
   "metadata": {},
   "outputs": [],
   "source": [
    "squeeze_results=np.array(squeeze_results)"
   ]
  },
  {
   "cell_type": "code",
   "execution_count": 113,
   "metadata": {},
   "outputs": [
    {
     "data": {
      "text/plain": [
       "2545827"
      ]
     },
     "execution_count": 113,
     "metadata": {},
     "output_type": "execute_result"
    }
   ],
   "source": [
    "squeeze_results[squeeze_results.argmin()]"
   ]
  },
  {
   "cell_type": "code",
   "execution_count": 114,
   "metadata": {},
   "outputs": [
    {
     "data": {
      "text/plain": [
       "'squeezenet_ykp_os256_256.csv'"
      ]
     },
     "execution_count": 114,
     "metadata": {},
     "output_type": "execute_result"
    }
   ],
   "source": [
    "squeeze[squeeze_results.argmin()]"
   ]
  },
  {
   "cell_type": "markdown",
   "metadata": {},
   "source": [
    "From the above inference we can see that both the models perform better at higher pe and bandwidth but there daaflow pattern changes. sQUEEZENET HAS LESSER NUMBER OF CYCLES THAN MOBILENET. This is due to the fact that squeeze net is smaller than mobilenet. Squeezenet performs better with ykp_outputstationary dataflow and mobilenetv2 performs better in kcp_weightstationary dataflow. Due to the residual and multiple block of same convolution mobilenet benifits from weight stationary dataflow. "
   ]
  },
  {
   "cell_type": "code",
   "execution_count": null,
   "metadata": {},
   "outputs": [],
   "source": []
  }
 ],
 "metadata": {
  "kernelspec": {
   "display_name": "Python 3",
   "language": "python",
   "name": "python3"
  },
  "language_info": {
   "codemirror_mode": {
    "name": "ipython",
    "version": 3
   },
   "file_extension": ".py",
   "mimetype": "text/x-python",
   "name": "python",
   "nbconvert_exporter": "python",
   "pygments_lexer": "ipython3",
   "version": "3.8.3"
  }
 },
 "nbformat": 4,
 "nbformat_minor": 4
}

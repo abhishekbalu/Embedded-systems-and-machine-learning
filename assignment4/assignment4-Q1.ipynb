{
 "cells": [
  {
   "cell_type": "code",
   "execution_count": 127,
   "metadata": {},
   "outputs": [],
   "source": [
    "import pandas as pd \n",
    "import numpy as np \n",
    "import matplotlib.pyplot as plt"
   ]
  },
  {
   "cell_type": "code",
   "execution_count": 128,
   "metadata": {},
   "outputs": [
    {
     "data": {
      "text/plain": [
       "'/home/abhishek/Desktop/embedded machine learning/maestro-master'"
      ]
     },
     "execution_count": 128,
     "metadata": {},
     "output_type": "execute_result"
    }
   ],
   "source": [
    "%pwd"
   ]
  },
  {
   "cell_type": "code",
   "execution_count": 129,
   "metadata": {},
   "outputs": [],
   "source": [
    "path = %pwd"
   ]
  },
  {
   "cell_type": "code",
   "execution_count": 130,
   "metadata": {},
   "outputs": [
    {
     "name": "stdout",
     "output_type": "stream",
     "text": [
      "['Resnet50_xp_ws.csv', 'Resnet50_rs.csv', 'Resnet50_yxp_os.csv', 'Resnet50_nlr.csv']\n",
      "['vgg16_xp_ws.csv', 'vgg16_rs.csv', 'vgg16_yxp_os.csv', 'vgg16_nlr.csv']\n",
      "['yxp_os', 'nlr', 'xp_ws', 'rs']\n"
     ]
    }
   ],
   "source": [
    "import os\n",
    "import glob\n",
    "x=[]\n",
    "extension = 'csv'\n",
    "os.chdir(path)\n",
    "result = glob.glob('Res*.{}'.format(extension))\n",
    "results = glob.glob('vgg*.{}'.format(extension))\n",
    "print(result)\n",
    "print(results)\n",
    "x =['yxp_os','nlr','xp_ws','rs']\n",
    "print(x)\n",
    "\n",
    "\n",
    "RES_early = []\n",
    "RES_point = []\n",
    "RES_late =[]\n",
    "RES_residual =[]\n",
    "RES_fclayer = []\n",
    "\n",
    "RES_early_pow = []\n",
    "RES_point_pow = []\n",
    "RES_late_pow =[]\n",
    "RES_residual_pow =[]\n",
    "RES_fclayer_pow = []\n",
    "\n",
    "\n",
    "\n",
    "vgg16_early = []\n",
    "vgg16_point = []\n",
    "vgg16_late =[]\n",
    "vgg16_residual =[]\n",
    "vgg16_fclayer = []\n",
    "\n",
    "vgg16_early_pow = []\n",
    "vgg16_point_pow = []\n",
    "vgg16_late_pow =[]\n",
    "vgg16_residual_pow =[]\n",
    "vgg16_fclayer_pow = []\n"
   ]
  },
  {
   "cell_type": "code",
   "execution_count": 131,
   "metadata": {},
   "outputs": [],
   "source": [
    "resnet50_yxp_os = pd.read_csv (path+\"/\"+result[2]) \n",
    "resnet50_nlr = pd.read_csv (path+\"/\"+result[3])  \n",
    "resnet50_xp_ws = pd.read_csv (path+\"/\"+result[0])  \n",
    "resnet50_rs = pd.read_csv (path+\"/\"+result[1])  \n"
   ]
  },
  {
   "cell_type": "code",
   "execution_count": 132,
   "metadata": {},
   "outputs": [],
   "source": [
    "vgg16_yxp_os = pd.read_csv (path+\"/\"+results[2]) \n",
    "vgg16_nlr = pd.read_csv (path+\"/\"+results[3])  \n",
    "vgg16_xp_ws = pd.read_csv (path+\"/\"+results[0])  \n",
    "vgg16_rs = pd.read_csv (path+\"/\"+results[1])  \n"
   ]
  },
  {
   "cell_type": "code",
   "execution_count": 133,
   "metadata": {},
   "outputs": [],
   "source": [
    "early_layer = resnet50_yxp_os[resnet50_yxp_os[' Layer Number'].str.contains('CONV1')].reset_index(drop=True)\n",
    "RES_early.append(sum(early_layer[' Runtime (Cycles)'].values))\n",
    "RES_early_pow.append(sum(early_layer[' Activity count-based Energy (nJ)'].values)*0.001)\n"
   ]
  },
  {
   "cell_type": "code",
   "execution_count": 134,
   "metadata": {},
   "outputs": [],
   "source": [
    "residual = Resnet50_yxp_os[Resnet50_yxp_os[' Layer Number'].str.contains('Residual')].reset_index(drop=True)\n",
    "RES_residual.append(sum(residual[' Runtime (Cycles)'].values))\n",
    "RES_residual_pow.append(sum(residual[' Activity count-based Energy (nJ)'].values)*0.001)\n"
   ]
  },
  {
   "cell_type": "code",
   "execution_count": 135,
   "metadata": {},
   "outputs": [],
   "source": [
    "late_layer =  resnet50_yxp_os[0:-1]\n",
    "late_layer = late_layer[-late_layer[' Layer Number'].str.contains('_1_1')].reset_index(drop=True)\n",
    "late_layer = late_layer[-late_layer[' Layer Number'].str.contains('CONV1')].reset_index(drop=True)\n",
    "late_layer = late_layer[-late_layer[' Layer Number'].str.contains('Residual')].reset_index(drop=True)\n",
    "RES_late.append(sum(late_layer[' Runtime (Cycles)'].values))\n",
    "RES_late_pow.append(sum(late_layer[' Activity count-based Energy (nJ)'].values)*0.001)\n"
   ]
  },
  {
   "cell_type": "code",
   "execution_count": 136,
   "metadata": {},
   "outputs": [],
   "source": [
    "pointwise = resnet50_yxp_os[resnet50_yxp_os[' Layer Number'].str.contains('_1_1')]\n",
    "RES_point.append(sum(pointwise[' Runtime (Cycles)'].values))\n",
    "RES_point_pow.append(sum(pointwise[' Activity count-based Energy (nJ)'].values)*0.001)\n"
   ]
  },
  {
   "cell_type": "code",
   "execution_count": 137,
   "metadata": {},
   "outputs": [],
   "source": [
    "fc = Resnet50_yxp_os_copy[Resnet50_yxp_os_copy[' Layer Number'].str.contains('FC1000')].reset_index(drop=True)\n",
    "RES_fclayer.append(sum(fc[' Runtime (Cycles)'].values))\n",
    "RES_fclayer_pow.append(sum(fc[' Activity count-based Energy (nJ)'].values)*0.001)"
   ]
  },
  {
   "cell_type": "code",
   "execution_count": 138,
   "metadata": {},
   "outputs": [],
   "source": [
    "Resnet50_nlr_copy = Resnet50_nlr\n",
    "Resnet50_nlr_copy = Resnet50_nlr_copy[-Resnet50_nlr_copy[' Layer Number'].str.contains('Residual')]"
   ]
  },
  {
   "cell_type": "code",
   "execution_count": 139,
   "metadata": {},
   "outputs": [],
   "source": [
    "Resnet50_nlr_plot = []\n",
    "early_layer = Resnet50_nlr_copy[Resnet50_nlr_copy[' Layer Number'].str.contains('CONV1')].reset_index(drop=True)\n",
    "RES_early.append(sum(early_layer[' Runtime (Cycles)'].values))\n",
    "RES_early_pow.append(sum(early_layer[' Activity count-based Energy (nJ)'].values)*0.001)\n"
   ]
  },
  {
   "cell_type": "code",
   "execution_count": 140,
   "metadata": {},
   "outputs": [],
   "source": [
    "late_layer =  Resnet50_nlr[5:-1]\n",
    "late_layer = late_layer[-late_layer[' Layer Number'].str.contains('_1_1')].reset_index(drop=True)\n",
    "late_layer = late_layer[-late_layer[' Layer Number'].str.contains('CONV1')].reset_index(drop=True)\n",
    "late_layer = late_layer[-late_layer[' Layer Number'].str.contains('Residual')].reset_index(drop=True)\n",
    "\n",
    "RES_late.append(sum(late_layer[' Runtime (Cycles)'].values))\n",
    "RES_late_pow.append(sum(late_layer[' Activity count-based Energy (nJ)'].values)*0.001)\n",
    "\n",
    "# sum(late_layer[' Runtime (Cycles)'].values)"
   ]
  },
  {
   "cell_type": "code",
   "execution_count": 141,
   "metadata": {},
   "outputs": [],
   "source": [
    "residual = Resnet50_nlr[Resnet50_nlr[' Layer Number'].str.contains('Residual')].reset_index(drop=True)\n",
    "RES_residual.append(sum(residual[' Runtime (Cycles)'].values))\n",
    "RES_residual_pow.append(sum(residual[' Activity count-based Energy (nJ)'].values)*0.001)\n"
   ]
  },
  {
   "cell_type": "code",
   "execution_count": 142,
   "metadata": {},
   "outputs": [],
   "source": [
    "pointwise = Resnet50_nlr_copy[Resnet50_nlr_copy[' Layer Number'].str.contains('CONV')].reset_index(drop=True)\n",
    "pointwise = pointwise[pointwise[' Layer Number'].str.contains('_1_1')]\n",
    "\n",
    "RES_point.append(sum(pointwise[' Runtime (Cycles)'].values))\n",
    "RES_point_pow.append(sum(pointwise[' Activity count-based Energy (nJ)'].values)*0.001)\n"
   ]
  },
  {
   "cell_type": "code",
   "execution_count": 143,
   "metadata": {},
   "outputs": [],
   "source": [
    "fc = Resnet50_nlr_copy[Resnet50_nlr_copy[' Layer Number'].str.contains('FC1000')].reset_index(drop=True)\n",
    "RES_fclayer.append(sum(fc[' Runtime (Cycles)'].values))\n",
    "RES_fclayer_pow.append(sum(fc[' Activity count-based Energy (nJ)'].values)*0.001)"
   ]
  },
  {
   "cell_type": "code",
   "execution_count": 144,
   "metadata": {},
   "outputs": [
    {
     "data": {
      "text/plain": [
       "[5100860.0, 5521280.0]"
      ]
     },
     "execution_count": 144,
     "metadata": {},
     "output_type": "execute_result"
    }
   ],
   "source": [
    "RES_fclayer_pow"
   ]
  },
  {
   "cell_type": "code",
   "execution_count": 145,
   "metadata": {},
   "outputs": [
    {
     "data": {
      "text/plain": [
       "5521280000.0"
      ]
     },
     "execution_count": 145,
     "metadata": {},
     "output_type": "execute_result"
    }
   ],
   "source": [
    "sum(fc[' Activity count-based Energy (nJ)'].values)/1"
   ]
  },
  {
   "cell_type": "code",
   "execution_count": 146,
   "metadata": {},
   "outputs": [],
   "source": [
    "Resnet50_xp_ws_copy = Resnet50_xp_ws\n",
    "Resnet50_xp_ws_copy = Resnet50_xp_ws_copy[-Resnet50_xp_ws_copy[' Layer Number'].str.contains('Residual')]"
   ]
  },
  {
   "cell_type": "code",
   "execution_count": 147,
   "metadata": {},
   "outputs": [],
   "source": [
    "Resnet50_xp_ws_plot = []\n",
    "early_layer = Resnet50_xp_ws_copy[Resnet50_xp_ws_copy[' Layer Number'].str.contains('CONV1')].reset_index(drop=True)\n",
    "RES_early.append(sum(early_layer[' Runtime (Cycles)'].values))\n",
    "RES_early_pow.append(sum(early_layer[' Activity count-based Energy (nJ)'].values)*0.001)\n"
   ]
  },
  {
   "cell_type": "code",
   "execution_count": 148,
   "metadata": {},
   "outputs": [],
   "source": [
    "late_layer =  Resnet50_xp_ws[5:-1]\n",
    "late_layer = late_layer[-late_layer[' Layer Number'].str.contains('_1_1')].reset_index(drop=True)\n",
    "late_layer = late_layer[-late_layer[' Layer Number'].str.contains('CONV1')].reset_index(drop=True)\n",
    "late_layer = late_layer[-late_layer[' Layer Number'].str.contains('Residual')].reset_index(drop=True)\n",
    "\n",
    "RES_late.append(sum(late_layer[' Runtime (Cycles)'].values))\n",
    "RES_late_pow.append(sum(late_layer[' Activity count-based Energy (nJ)'].values)*0.001)\n",
    "\n",
    "# sum(late_layer[' Runtime (Cycles)'].values)"
   ]
  },
  {
   "cell_type": "code",
   "execution_count": 149,
   "metadata": {},
   "outputs": [],
   "source": [
    "residual = Resnet50_xp_ws[Resnet50_xp_ws[' Layer Number'].str.contains('Residual')].reset_index(drop=True)\n",
    "RES_residual.append(sum(residual[' Runtime (Cycles)'].values))\n",
    "RES_residual_pow.append(sum(residual[' Activity count-based Energy (nJ)'].values)*0.001)\n"
   ]
  },
  {
   "cell_type": "code",
   "execution_count": 150,
   "metadata": {},
   "outputs": [],
   "source": [
    "pointwise = Resnet50_xp_ws_copy[Resnet50_xp_ws_copy[' Layer Number'].str.contains('CONV')].reset_index(drop=True)\n",
    "pointwise = pointwise[pointwise[' Layer Number'].str.contains('_1_1')]\n",
    "\n",
    "RES_point.append(sum(pointwise[' Runtime (Cycles)'].values))\n",
    "RES_point_pow.append(sum(pointwise[' Activity count-based Energy (nJ)'].values)*0.001)\n"
   ]
  },
  {
   "cell_type": "code",
   "execution_count": 151,
   "metadata": {},
   "outputs": [],
   "source": [
    "fc = Resnet50_xp_ws_copy[Resnet50_xp_ws_copy[' Layer Number'].str.contains('FC1000')].reset_index(drop=True)\n",
    "RES_fclayer.append(sum(fc[' Runtime (Cycles)'].values))\n",
    "RES_fclayer_pow.append(sum(fc[' Activity count-based Energy (nJ)'].values)*0.001)"
   ]
  },
  {
   "cell_type": "code",
   "execution_count": 152,
   "metadata": {},
   "outputs": [],
   "source": [
    "Resnet50_rs_copy = Resnet50_rs\n",
    "Resnet50_rs_copy = Resnet50_rs_copy[-Resnet50_rs_copy[' Layer Number'].str.contains('Residual')]"
   ]
  },
  {
   "cell_type": "code",
   "execution_count": 153,
   "metadata": {},
   "outputs": [],
   "source": [
    "Resnet50_rs_plot = []\n",
    "early_layer = Resnet50_rs_copy[Resnet50_rs_copy[' Layer Number'].str.contains('CONV1')].reset_index(drop=True)\n",
    "RES_early.append(sum(early_layer[' Runtime (Cycles)'].values))\n",
    "RES_early_pow.append(sum(early_layer[' Activity count-based Energy (nJ)'].values)*0.001)\n"
   ]
  },
  {
   "cell_type": "code",
   "execution_count": 154,
   "metadata": {},
   "outputs": [],
   "source": [
    "residual = Resnet50_rs[Resnet50_rs[' Layer Number'].str.contains('Residual')].reset_index(drop=True)\n",
    "RES_residual.append(sum(residual[' Runtime (Cycles)'].values))\n",
    "RES_residual_pow.append(sum(residual[' Activity count-based Energy (nJ)'].values)*0.001)\n"
   ]
  },
  {
   "cell_type": "code",
   "execution_count": 155,
   "metadata": {},
   "outputs": [],
   "source": [
    "late_layer =  Resnet50_rs[5:-1]\n",
    "late_layer = late_layer[-late_layer[' Layer Number'].str.contains('_1_1')].reset_index(drop=True)\n",
    "late_layer = late_layer[-late_layer[' Layer Number'].str.contains('CONV1')].reset_index(drop=True)\n",
    "late_layer = late_layer[-late_layer[' Layer Number'].str.contains('Residual')].reset_index(drop=True)\n",
    "\n",
    "RES_late.append(sum(late_layer[' Runtime (Cycles)'].values))\n",
    "RES_late_pow.append(sum(late_layer[' Activity count-based Energy (nJ)'].values)*0.001)\n",
    "\n",
    "# sum(late_layer[' Runtime (Cycles)'].values)"
   ]
  },
  {
   "cell_type": "code",
   "execution_count": 156,
   "metadata": {},
   "outputs": [],
   "source": [
    "pointwise = Resnet50_rs_copy[Resnet50_rs_copy[' Layer Number'].str.contains('CONV')].reset_index(drop=True)\n",
    "pointwise = pointwise[pointwise[' Layer Number'].str.contains('_1_1')]\n",
    "\n",
    "RES_point.append(sum(pointwise[' Runtime (Cycles)'].values))\n",
    "RES_point_pow.append(sum(pointwise[' Activity count-based Energy (nJ)'].values)*0.001)\n"
   ]
  },
  {
   "cell_type": "code",
   "execution_count": 157,
   "metadata": {},
   "outputs": [],
   "source": [
    "fc = Resnet50_rs_copy[Resnet50_rs_copy[' Layer Number'].str.contains('FC1000')].reset_index(drop=True)\n",
    "RES_fclayer.append(sum(fc[' Runtime (Cycles)'].values))\n",
    "RES_fclayer_pow.append(sum(fc[' Activity count-based Energy (nJ)'].values)*0.001)"
   ]
  },
  {
   "cell_type": "markdown",
   "metadata": {},
   "source": [
    "## VGG"
   ]
  },
  {
   "cell_type": "code",
   "execution_count": 158,
   "metadata": {},
   "outputs": [
    {
     "data": {
      "text/html": [
       "<div>\n",
       "<style scoped>\n",
       "    .dataframe tbody tr th:only-of-type {\n",
       "        vertical-align: middle;\n",
       "    }\n",
       "\n",
       "    .dataframe tbody tr th {\n",
       "        vertical-align: top;\n",
       "    }\n",
       "\n",
       "    .dataframe thead th {\n",
       "        text-align: right;\n",
       "    }\n",
       "</style>\n",
       "<table border=\"1\" class=\"dataframe\">\n",
       "  <thead>\n",
       "    <tr style=\"text-align: right;\">\n",
       "      <th></th>\n",
       "      <th>Neural Network Name</th>\n",
       "      <th>Layer Number</th>\n",
       "      <th>NumPEs</th>\n",
       "      <th>Runtime (Cycles)</th>\n",
       "      <th>Activity count-based Energy (nJ)</th>\n",
       "      <th>Throughput (MACs/Cycle)</th>\n",
       "      <th>Throughput Per Energy (GMACs/s*J)</th>\n",
       "      <th>Area</th>\n",
       "      <th>Power</th>\n",
       "      <th>NoC BW (Elements/cycle)</th>\n",
       "      <th>...</th>\n",
       "      <th>Ingress Delay (Max)</th>\n",
       "      <th>Ingress Delay (Avg)</th>\n",
       "      <th>Egress Delay (Min)</th>\n",
       "      <th>Egress Delay (Max)</th>\n",
       "      <th>Egress Delay (Avg)</th>\n",
       "      <th>Compute Delay (Min)</th>\n",
       "      <th>Compute Delay (Min)</th>\n",
       "      <th>Compute Delay (Avg)</th>\n",
       "      <th>Avg number of utilized PEs</th>\n",
       "      <th>Arithmetic Intensity</th>\n",
       "    </tr>\n",
       "  </thead>\n",
       "  <tbody>\n",
       "    <tr>\n",
       "      <th>0</th>\n",
       "      <td>vgg16</td>\n",
       "      <td>CONV1</td>\n",
       "      <td>512</td>\n",
       "      <td>898097</td>\n",
       "      <td>6.432160e+08</td>\n",
       "      <td>94.8258</td>\n",
       "      <td>147.42400</td>\n",
       "      <td>182171000.0</td>\n",
       "      <td>6058.14</td>\n",
       "      <td>32</td>\n",
       "      <td>...</td>\n",
       "      <td>61</td>\n",
       "      <td>41</td>\n",
       "      <td>6</td>\n",
       "      <td>16</td>\n",
       "      <td>13</td>\n",
       "      <td>4</td>\n",
       "      <td>4</td>\n",
       "      <td>4</td>\n",
       "      <td>444</td>\n",
       "      <td>2.25</td>\n",
       "    </tr>\n",
       "    <tr>\n",
       "      <th>1</th>\n",
       "      <td>vgg16</td>\n",
       "      <td>CONV2</td>\n",
       "      <td>512</td>\n",
       "      <td>19164913</td>\n",
       "      <td>1.429660e+10</td>\n",
       "      <td>94.7985</td>\n",
       "      <td>6.63086</td>\n",
       "      <td>182171000.0</td>\n",
       "      <td>6058.14</td>\n",
       "      <td>32</td>\n",
       "      <td>...</td>\n",
       "      <td>61</td>\n",
       "      <td>41</td>\n",
       "      <td>6</td>\n",
       "      <td>16</td>\n",
       "      <td>13</td>\n",
       "      <td>4</td>\n",
       "      <td>4</td>\n",
       "      <td>4</td>\n",
       "      <td>444</td>\n",
       "      <td>2.25</td>\n",
       "    </tr>\n",
       "    <tr>\n",
       "      <th>2</th>\n",
       "      <td>vgg16</td>\n",
       "      <td>CONV3</td>\n",
       "      <td>512</td>\n",
       "      <td>9371057</td>\n",
       "      <td>1.865860e+10</td>\n",
       "      <td>95.1983</td>\n",
       "      <td>5.10212</td>\n",
       "      <td>182171000.0</td>\n",
       "      <td>6058.14</td>\n",
       "      <td>32</td>\n",
       "      <td>...</td>\n",
       "      <td>61</td>\n",
       "      <td>40</td>\n",
       "      <td>9</td>\n",
       "      <td>16</td>\n",
       "      <td>13</td>\n",
       "      <td>4</td>\n",
       "      <td>4</td>\n",
       "      <td>4</td>\n",
       "      <td>440</td>\n",
       "      <td>2.25</td>\n",
       "    </tr>\n",
       "    <tr>\n",
       "      <th>3</th>\n",
       "      <td>vgg16</td>\n",
       "      <td>CONV4</td>\n",
       "      <td>512</td>\n",
       "      <td>18742705</td>\n",
       "      <td>1.925970e+10</td>\n",
       "      <td>95.1953</td>\n",
       "      <td>4.94273</td>\n",
       "      <td>182171000.0</td>\n",
       "      <td>6058.14</td>\n",
       "      <td>32</td>\n",
       "      <td>...</td>\n",
       "      <td>61</td>\n",
       "      <td>40</td>\n",
       "      <td>9</td>\n",
       "      <td>16</td>\n",
       "      <td>13</td>\n",
       "      <td>4</td>\n",
       "      <td>4</td>\n",
       "      <td>4</td>\n",
       "      <td>440</td>\n",
       "      <td>2.25</td>\n",
       "    </tr>\n",
       "    <tr>\n",
       "      <th>4</th>\n",
       "      <td>vgg16</td>\n",
       "      <td>CONV5</td>\n",
       "      <td>512</td>\n",
       "      <td>8649769</td>\n",
       "      <td>1.795550e+10</td>\n",
       "      <td>99.4204</td>\n",
       "      <td>5.53706</td>\n",
       "      <td>182171000.0</td>\n",
       "      <td>6058.14</td>\n",
       "      <td>32</td>\n",
       "      <td>...</td>\n",
       "      <td>51</td>\n",
       "      <td>37</td>\n",
       "      <td>11</td>\n",
       "      <td>14</td>\n",
       "      <td>13</td>\n",
       "      <td>4</td>\n",
       "      <td>4</td>\n",
       "      <td>4</td>\n",
       "      <td>432</td>\n",
       "      <td>2.25</td>\n",
       "    </tr>\n",
       "    <tr>\n",
       "      <th>5</th>\n",
       "      <td>vgg16</td>\n",
       "      <td>CONV6</td>\n",
       "      <td>512</td>\n",
       "      <td>17300521</td>\n",
       "      <td>1.806450e+10</td>\n",
       "      <td>99.4147</td>\n",
       "      <td>5.50331</td>\n",
       "      <td>182171000.0</td>\n",
       "      <td>6058.14</td>\n",
       "      <td>32</td>\n",
       "      <td>...</td>\n",
       "      <td>51</td>\n",
       "      <td>37</td>\n",
       "      <td>11</td>\n",
       "      <td>14</td>\n",
       "      <td>13</td>\n",
       "      <td>4</td>\n",
       "      <td>4</td>\n",
       "      <td>4</td>\n",
       "      <td>432</td>\n",
       "      <td>2.25</td>\n",
       "    </tr>\n",
       "    <tr>\n",
       "      <th>6</th>\n",
       "      <td>vgg16</td>\n",
       "      <td>CONV7</td>\n",
       "      <td>512</td>\n",
       "      <td>17300521</td>\n",
       "      <td>2.370350e+10</td>\n",
       "      <td>99.4147</td>\n",
       "      <td>4.19409</td>\n",
       "      <td>182171000.0</td>\n",
       "      <td>6058.14</td>\n",
       "      <td>32</td>\n",
       "      <td>...</td>\n",
       "      <td>51</td>\n",
       "      <td>37</td>\n",
       "      <td>11</td>\n",
       "      <td>14</td>\n",
       "      <td>13</td>\n",
       "      <td>4</td>\n",
       "      <td>4</td>\n",
       "      <td>4</td>\n",
       "      <td>432</td>\n",
       "      <td>2.25</td>\n",
       "    </tr>\n",
       "    <tr>\n",
       "      <th>7</th>\n",
       "      <td>vgg16</td>\n",
       "      <td>CONV8</td>\n",
       "      <td>512</td>\n",
       "      <td>9042966</td>\n",
       "      <td>1.753240e+10</td>\n",
       "      <td>88.1837</td>\n",
       "      <td>5.02975</td>\n",
       "      <td>182171000.0</td>\n",
       "      <td>6058.14</td>\n",
       "      <td>32</td>\n",
       "      <td>...</td>\n",
       "      <td>25</td>\n",
       "      <td>17</td>\n",
       "      <td>2</td>\n",
       "      <td>7</td>\n",
       "      <td>5</td>\n",
       "      <td>4</td>\n",
       "      <td>4</td>\n",
       "      <td>4</td>\n",
       "      <td>208</td>\n",
       "      <td>0.75</td>\n",
       "    </tr>\n",
       "    <tr>\n",
       "      <th>8</th>\n",
       "      <td>vgg16</td>\n",
       "      <td>CONV9</td>\n",
       "      <td>512</td>\n",
       "      <td>18086934</td>\n",
       "      <td>1.778400e+10</td>\n",
       "      <td>88.1788</td>\n",
       "      <td>4.95832</td>\n",
       "      <td>182171000.0</td>\n",
       "      <td>6058.14</td>\n",
       "      <td>32</td>\n",
       "      <td>...</td>\n",
       "      <td>25</td>\n",
       "      <td>17</td>\n",
       "      <td>2</td>\n",
       "      <td>7</td>\n",
       "      <td>5</td>\n",
       "      <td>4</td>\n",
       "      <td>4</td>\n",
       "      <td>4</td>\n",
       "      <td>208</td>\n",
       "      <td>0.75</td>\n",
       "    </tr>\n",
       "    <tr>\n",
       "      <th>9</th>\n",
       "      <td>vgg16</td>\n",
       "      <td>CONV10</td>\n",
       "      <td>512</td>\n",
       "      <td>18086934</td>\n",
       "      <td>2.305650e+10</td>\n",
       "      <td>88.1788</td>\n",
       "      <td>3.82446</td>\n",
       "      <td>182171000.0</td>\n",
       "      <td>6058.14</td>\n",
       "      <td>32</td>\n",
       "      <td>...</td>\n",
       "      <td>25</td>\n",
       "      <td>17</td>\n",
       "      <td>2</td>\n",
       "      <td>7</td>\n",
       "      <td>5</td>\n",
       "      <td>4</td>\n",
       "      <td>4</td>\n",
       "      <td>4</td>\n",
       "      <td>208</td>\n",
       "      <td>0.75</td>\n",
       "    </tr>\n",
       "    <tr>\n",
       "      <th>10</th>\n",
       "      <td>vgg16</td>\n",
       "      <td>CONV11</td>\n",
       "      <td>512</td>\n",
       "      <td>3669516</td>\n",
       "      <td>1.310340e+10</td>\n",
       "      <td>92.5840</td>\n",
       "      <td>7.06568</td>\n",
       "      <td>182171000.0</td>\n",
       "      <td>6058.14</td>\n",
       "      <td>32</td>\n",
       "      <td>...</td>\n",
       "      <td>12</td>\n",
       "      <td>6</td>\n",
       "      <td>2</td>\n",
       "      <td>3</td>\n",
       "      <td>2</td>\n",
       "      <td>4</td>\n",
       "      <td>4</td>\n",
       "      <td>4</td>\n",
       "      <td>96</td>\n",
       "      <td>1.50</td>\n",
       "    </tr>\n",
       "    <tr>\n",
       "      <th>11</th>\n",
       "      <td>vgg16</td>\n",
       "      <td>CONV12</td>\n",
       "      <td>512</td>\n",
       "      <td>3669516</td>\n",
       "      <td>4.792240e+09</td>\n",
       "      <td>92.5840</td>\n",
       "      <td>19.31960</td>\n",
       "      <td>182171000.0</td>\n",
       "      <td>6058.14</td>\n",
       "      <td>32</td>\n",
       "      <td>...</td>\n",
       "      <td>12</td>\n",
       "      <td>6</td>\n",
       "      <td>2</td>\n",
       "      <td>3</td>\n",
       "      <td>2</td>\n",
       "      <td>4</td>\n",
       "      <td>4</td>\n",
       "      <td>4</td>\n",
       "      <td>96</td>\n",
       "      <td>1.50</td>\n",
       "    </tr>\n",
       "    <tr>\n",
       "      <th>12</th>\n",
       "      <td>vgg16</td>\n",
       "      <td>CONV13</td>\n",
       "      <td>512</td>\n",
       "      <td>3669516</td>\n",
       "      <td>4.792240e+09</td>\n",
       "      <td>92.5840</td>\n",
       "      <td>19.31960</td>\n",
       "      <td>182171000.0</td>\n",
       "      <td>6058.14</td>\n",
       "      <td>32</td>\n",
       "      <td>...</td>\n",
       "      <td>12</td>\n",
       "      <td>6</td>\n",
       "      <td>2</td>\n",
       "      <td>3</td>\n",
       "      <td>2</td>\n",
       "      <td>4</td>\n",
       "      <td>4</td>\n",
       "      <td>4</td>\n",
       "      <td>96</td>\n",
       "      <td>1.50</td>\n",
       "    </tr>\n",
       "  </tbody>\n",
       "</table>\n",
       "<p>13 rows × 51 columns</p>\n",
       "</div>"
      ],
      "text/plain": [
       "   Neural Network Name  Layer Number   NumPEs   Runtime (Cycles)  \\\n",
       "0                vgg16         CONV1      512             898097   \n",
       "1                vgg16         CONV2      512           19164913   \n",
       "2                vgg16         CONV3      512            9371057   \n",
       "3                vgg16         CONV4      512           18742705   \n",
       "4                vgg16         CONV5      512            8649769   \n",
       "5                vgg16         CONV6      512           17300521   \n",
       "6                vgg16         CONV7      512           17300521   \n",
       "7                vgg16         CONV8      512            9042966   \n",
       "8                vgg16         CONV9      512           18086934   \n",
       "9                vgg16        CONV10      512           18086934   \n",
       "10               vgg16        CONV11      512            3669516   \n",
       "11               vgg16        CONV12      512            3669516   \n",
       "12               vgg16        CONV13      512            3669516   \n",
       "\n",
       "     Activity count-based Energy (nJ)   Throughput (MACs/Cycle)  \\\n",
       "0                        6.432160e+08                   94.8258   \n",
       "1                        1.429660e+10                   94.7985   \n",
       "2                        1.865860e+10                   95.1983   \n",
       "3                        1.925970e+10                   95.1953   \n",
       "4                        1.795550e+10                   99.4204   \n",
       "5                        1.806450e+10                   99.4147   \n",
       "6                        2.370350e+10                   99.4147   \n",
       "7                        1.753240e+10                   88.1837   \n",
       "8                        1.778400e+10                   88.1788   \n",
       "9                        2.305650e+10                   88.1788   \n",
       "10                       1.310340e+10                   92.5840   \n",
       "11                       4.792240e+09                   92.5840   \n",
       "12                       4.792240e+09                   92.5840   \n",
       "\n",
       "     Throughput Per Energy (GMACs/s*J)         Area    Power  \\\n",
       "0                            147.42400  182171000.0  6058.14   \n",
       "1                              6.63086  182171000.0  6058.14   \n",
       "2                              5.10212  182171000.0  6058.14   \n",
       "3                              4.94273  182171000.0  6058.14   \n",
       "4                              5.53706  182171000.0  6058.14   \n",
       "5                              5.50331  182171000.0  6058.14   \n",
       "6                              4.19409  182171000.0  6058.14   \n",
       "7                              5.02975  182171000.0  6058.14   \n",
       "8                              4.95832  182171000.0  6058.14   \n",
       "9                              3.82446  182171000.0  6058.14   \n",
       "10                             7.06568  182171000.0  6058.14   \n",
       "11                            19.31960  182171000.0  6058.14   \n",
       "12                            19.31960  182171000.0  6058.14   \n",
       "\n",
       "     NoC BW (Elements/cycle)  ...   Ingress Delay (Max)   Ingress Delay (Avg)  \\\n",
       "0                         32  ...                    61                    41   \n",
       "1                         32  ...                    61                    41   \n",
       "2                         32  ...                    61                    40   \n",
       "3                         32  ...                    61                    40   \n",
       "4                         32  ...                    51                    37   \n",
       "5                         32  ...                    51                    37   \n",
       "6                         32  ...                    51                    37   \n",
       "7                         32  ...                    25                    17   \n",
       "8                         32  ...                    25                    17   \n",
       "9                         32  ...                    25                    17   \n",
       "10                        32  ...                    12                     6   \n",
       "11                        32  ...                    12                     6   \n",
       "12                        32  ...                    12                     6   \n",
       "\n",
       "     Egress Delay (Min)   Egress Delay (Max)    Egress Delay (Avg)  \\\n",
       "0                     6                   16                    13   \n",
       "1                     6                   16                    13   \n",
       "2                     9                   16                    13   \n",
       "3                     9                   16                    13   \n",
       "4                    11                   14                    13   \n",
       "5                    11                   14                    13   \n",
       "6                    11                   14                    13   \n",
       "7                     2                    7                     5   \n",
       "8                     2                    7                     5   \n",
       "9                     2                    7                     5   \n",
       "10                    2                    3                     2   \n",
       "11                    2                    3                     2   \n",
       "12                    2                    3                     2   \n",
       "\n",
       "    Compute Delay (Min)   Compute Delay (Min)   Compute Delay (Avg)  \\\n",
       "0                     4                     4                     4   \n",
       "1                     4                     4                     4   \n",
       "2                     4                     4                     4   \n",
       "3                     4                     4                     4   \n",
       "4                     4                     4                     4   \n",
       "5                     4                     4                     4   \n",
       "6                     4                     4                     4   \n",
       "7                     4                     4                     4   \n",
       "8                     4                     4                     4   \n",
       "9                     4                     4                     4   \n",
       "10                    4                     4                     4   \n",
       "11                    4                     4                     4   \n",
       "12                    4                     4                     4   \n",
       "\n",
       "    Avg number of utilized PEs   Arithmetic Intensity  \n",
       "0                          444                   2.25  \n",
       "1                          444                   2.25  \n",
       "2                          440                   2.25  \n",
       "3                          440                   2.25  \n",
       "4                          432                   2.25  \n",
       "5                          432                   2.25  \n",
       "6                          432                   2.25  \n",
       "7                          208                   0.75  \n",
       "8                          208                   0.75  \n",
       "9                          208                   0.75  \n",
       "10                          96                   1.50  \n",
       "11                          96                   1.50  \n",
       "12                          96                   1.50  \n",
       "\n",
       "[13 rows x 51 columns]"
      ]
     },
     "execution_count": 158,
     "metadata": {},
     "output_type": "execute_result"
    }
   ],
   "source": [
    "vgg16_yxp_os"
   ]
  },
  {
   "cell_type": "code",
   "execution_count": 159,
   "metadata": {},
   "outputs": [],
   "source": [
    "early_layer = vgg16_yxp_os[:3]\n",
    "vgg16_early.append(sum(early_layer[' Runtime (Cycles)'].values))\n",
    "vgg16_early_pow.append(sum(early_layer[' Activity count-based Energy (nJ)'].values)*0.001)\n"
   ]
  },
  {
   "cell_type": "code",
   "execution_count": 160,
   "metadata": {},
   "outputs": [
    {
     "data": {
      "text/plain": [
       "[33598416.0]"
      ]
     },
     "execution_count": 160,
     "metadata": {},
     "output_type": "execute_result"
    }
   ],
   "source": [
    "vgg16_early_pow"
   ]
  },
  {
   "cell_type": "code",
   "execution_count": 161,
   "metadata": {},
   "outputs": [],
   "source": [
    "late_layer =  vgg16_yxp_os[3:]\n",
    "\n",
    "vgg16_late.append(sum(late_layer[' Runtime (Cycles)'].values))\n",
    "vgg16_late_pow.append(sum(late_layer[' Activity count-based Energy (nJ)'].values)*0.001)\n",
    "# sum(late_layer[' Runtime (Cycles)'].values)\n",
    "# late_layer"
   ]
  },
  {
   "cell_type": "code",
   "execution_count": 162,
   "metadata": {},
   "outputs": [],
   "source": [
    "early_layer = vgg16_nlr[:3]\n",
    "vgg16_early.append(sum(early_layer[' Runtime (Cycles)'].values))\n",
    "vgg16_early_pow.append(sum(early_layer[' Activity count-based Energy (nJ)'].values)*0.001)\n"
   ]
  },
  {
   "cell_type": "code",
   "execution_count": 163,
   "metadata": {},
   "outputs": [
    {
     "data": {
      "text/plain": [
       "[118218898, 122487802]"
      ]
     },
     "execution_count": 163,
     "metadata": {},
     "output_type": "execute_result"
    }
   ],
   "source": [
    "late_layer =  vgg16_nlr[3:]\n",
    "\n",
    "vgg16_late.append(sum(late_layer[' Runtime (Cycles)'].values))\n",
    "vgg16_late_pow.append(sum(late_layer[' Activity count-based Energy (nJ)'].values)*0.001)\n",
    "vgg16_late"
   ]
  },
  {
   "cell_type": "code",
   "execution_count": null,
   "metadata": {},
   "outputs": [],
   "source": []
  },
  {
   "cell_type": "code",
   "execution_count": 164,
   "metadata": {},
   "outputs": [],
   "source": [
    "vgg16_xp_ws_copy = vgg16_xp_ws\n",
    "vgg16_xp_ws_copy = vgg16_xp_ws_copy[-vgg16_xp_ws_copy[' Layer Number'].str.contains('Residual')]"
   ]
  },
  {
   "cell_type": "code",
   "execution_count": 165,
   "metadata": {},
   "outputs": [],
   "source": [
    "early_layer =  vgg16_xp_ws[:3]\n",
    "vgg16_early.append(sum(early_layer[' Runtime (Cycles)'].values))\n",
    "vgg16_early_pow.append(sum(early_layer[' Activity count-based Energy (nJ)'].values)*0.001)\n"
   ]
  },
  {
   "cell_type": "code",
   "execution_count": 166,
   "metadata": {},
   "outputs": [
    {
     "data": {
      "text/plain": [
       "[118218898, 122487802, 54238958]"
      ]
     },
     "execution_count": 166,
     "metadata": {},
     "output_type": "execute_result"
    }
   ],
   "source": [
    "late_layer =  vgg16_xp_ws[3:]\n",
    "\n",
    "vgg16_late.append(sum(late_layer[' Runtime (Cycles)'].values))\n",
    "vgg16_late_pow.append(sum(late_layer[' Activity count-based Energy (nJ)'].values)*0.001)\n",
    "vgg16_late\n",
    "# sum(late_layer[' Runtime (Cycles)'].values)"
   ]
  },
  {
   "cell_type": "code",
   "execution_count": null,
   "metadata": {},
   "outputs": [],
   "source": []
  },
  {
   "cell_type": "code",
   "execution_count": 167,
   "metadata": {},
   "outputs": [],
   "source": [
    "# vgg16_rs_copy = vgg16_rs\n",
    "# vgg16_rs_copy = vgg16_rs_copy[-vgg16_rs_copy[' Layer Number'].str.contains('Residual')]"
   ]
  },
  {
   "cell_type": "code",
   "execution_count": 168,
   "metadata": {},
   "outputs": [],
   "source": [
    "early_layer = vgg16_rs[:3]\n",
    "vgg16_early.append(sum(early_layer[' Runtime (Cycles)'].values))\n",
    "vgg16_early_pow.append(sum(early_layer[' Activity count-based Energy (nJ)'].values)*0.001)\n"
   ]
  },
  {
   "cell_type": "code",
   "execution_count": 169,
   "metadata": {},
   "outputs": [
    {
     "data": {
      "text/plain": [
       "[118218898, 122487802, 54238958, 62781884]"
      ]
     },
     "execution_count": 169,
     "metadata": {},
     "output_type": "execute_result"
    }
   ],
   "source": [
    "late_layer =  vgg16_rs[3:]\n",
    "\n",
    "vgg16_late.append(sum(late_layer[' Runtime (Cycles)'].values))\n",
    "vgg16_late_pow.append(sum(late_layer[' Activity count-based Energy (nJ)'].values)*0.001)\n",
    "vgg16_late\n",
    "# sum(late_layer[' Runtime (Cycles)'].values)"
   ]
  },
  {
   "cell_type": "code",
   "execution_count": null,
   "metadata": {},
   "outputs": [],
   "source": []
  },
  {
   "cell_type": "markdown",
   "metadata": {},
   "source": [
    "## Graph and Explanation\n",
    "\n"
   ]
  },
  {
   "cell_type": "code",
   "execution_count": 170,
   "metadata": {},
   "outputs": [
    {
     "data": {
      "image/png": "[encoded data removed]",
      "text/plain": [
       "<Figure size 720x720 with 4 Axes>"
      ]
     },
     "metadata": {
      "needs_background": "light"
     },
     "output_type": "display_data"
    }
   ],
   "source": [
    "colors = ['#a82516', '#508c42','#0c3e94','#ffaa00','black']\n",
    "\n",
    "# The position of the bars on the x-axis\n",
    "r = range(len(x))\n",
    "Width = 0.7\n",
    "#plot bars\n",
    "fig,plt1=plt.subplots(2,2,figsize=(10,10))\n",
    "\n",
    "\n",
    "\n",
    "# plt.figure(1)\n",
    "# plt1.figure(figsize=(10,7))\n",
    "\n",
    "plt1[0,0].bar(r, RES_early, color=colors[0], edgecolor='white', width=Width, label=\"Early layers\")\n",
    "plt1[0,0].bar(r, RES_point, bottom=np.array(RES_early), color=colors[1], edgecolor='white', width=Width, label='Point_wise')\n",
    "plt1[0,0].bar(r, RES_late, bottom=np.array(RES_early)+np.array(RES_point), color=colors[2], edgecolor='white', width=Width, label='Late layer')\n",
    "plt1[0,0].bar(r, RES_residual, bottom=np.array(RES_early)+np.array(RES_point)+np.array(RES_late), color=colors[3], edgecolor='white', width=Width, label='Residual layer')\n",
    "plt1[0,0].bar(r, RES_fclayer, bottom=np.array(RES_early)+np.array(RES_point)+np.array(RES_late)+np.array(RES_residual), color=colors[4], edgecolor='white', width=Width, label='FC')\n",
    "\n",
    "ylabels = ['{:d}'.format(int(x)) + 'M' for x in plt1[0,0].get_yticks()/1000000]\n",
    "ylabels[0]=0\n",
    "plt1[0,0].set_yticklabels(ylabels)\n",
    "# bottom, top = plt1.ylim()\n",
    "# plt1.set (xticks(r, x, fontweight='normal'))\n",
    "plt1[0,0].set_xticks([0,1, 2, 3])\n",
    "plt1[0,0].set_xticklabels(x,fontweight=\"bold\",size =15)\n",
    "plt1[0,0].tick_params(labelsize=12)\n",
    "# plt1.show()\n",
    "plt1[0,0].set_ylabel('Runtime(Cycles)', fontdict=dict(weight='bold',size =12))\n",
    "plt1[0,0].set_xlabel('Dataflow', fontdict=dict(weight='bold',size =12))\n",
    "\n",
    "\n",
    "\n",
    "#plot bars\n",
    "# plt.figure(2)\n",
    "# plt2.figure(figsize=(10,7))\n",
    "plt1[1,0].bar(r, RES_early_pow, color=colors[0], edgecolor='white', width=Width, label=\"Early Layers\")\n",
    "plt1[1,0].bar(r, RES_point_pow, bottom=np.array(RES_early_pow), color=colors[1], edgecolor='white', width=Width, label='Point_wise')\n",
    "plt1[1,0].bar(r, RES_late_pow, bottom=np.array(RES_early_pow)+np.array(RES_point_pow), color=colors[2], edgecolor='white', width=Width, label='Late layer')\n",
    "plt1[1,0].bar(r, RES_residual_pow, bottom=np.array(RES_early_pow)+np.array(RES_point_pow)+np.array(RES_late_pow), color=colors[3], edgecolor='white', width=Width, label='Residual layer')\n",
    "plt1[1,0].bar(r, RES_fclayer_pow, bottom=np.array(RES_early_pow)+np.array(RES_point_pow)+np.array(RES_late_pow)+np.array(RES_residual_pow), color=colors[4], edgecolor='white', width=Width, label='FC')\n",
    "\n",
    "plt1[1,0].set_xticks([0,1, 2, 3])\n",
    "plt1[1,0].set_xticklabels(x,fontweight=\"bold\",size =15)\n",
    "plt1[1,0].tick_params(labelsize=12)\n",
    "plt1[1,0].set_ylabel('Energy(mJ)', fontdict=dict(weight='bold',size =12))\n",
    "plt1[1,0].set_xlabel('Dataflow', fontdict=dict(weight='bold',size =12))\n",
    "# plt2.set(xlabel = \"Dataflow\")\n",
    "plt1[0,0].set_title(\"Resnet50\", fontsize=15)\n",
    "ylabels = ['{:d}'.format(int(x)) + 'M' for x in plt1[0,0].get_yticks()/1000000]\n",
    "ylabels[0]=0\n",
    "plt1[1,0].set_yticklabels(ylabels)\n",
    "\n",
    "\n",
    "\n",
    "plt1[0,1].bar(r, vgg16_early, color=colors[0], edgecolor='white', width=Width, label=\"Early layers\")\n",
    "plt1[0,1].bar(r, vgg16_late, bottom=np.array(vgg16_early), color=colors[1], edgecolor='white', width=Width, label='Late layer')\n",
    "\n",
    "\n",
    "ylabels = ['{:d}'.format(int(x)) + 'M' for x in plt1[0,1].get_yticks()/1000000]\n",
    "ylabels[0]=0\n",
    "plt1[0,1].set_yticklabels(ylabels)\n",
    "# plt1.set (xticks(r, x, fontweight='normal'))\n",
    "plt1[0,1].set_xticks([0,1, 2, 3])\n",
    "plt1[0,1].set_xticklabels(x,fontweight=\"bold\",size =15)\n",
    "plt1[0,1].tick_params(labelsize=12)\n",
    "# plt1.show()\n",
    "# plt1[0,1].set_ylabel('Runtime(Cycles)', fontdict=dict(weight='bold',size =12))\n",
    "plt1[0,1].set_xlabel('Dataflow', fontdict=dict(weight='bold',size =12))\n",
    "\n",
    "\n",
    "\n",
    "#plot bars\n",
    "# plt.figure(2)\n",
    "# plt2.figure(figsize=(10,7))\n",
    "\n",
    "plt1[1,1].bar(r, vgg16_early_pow, color=colors[0], edgecolor='white', width=Width, label=\"Early_layers\")\n",
    "plt1[1,1].bar(r, vgg16_late_pow, bottom=np.array(vgg16_early_pow), color=colors[2], edgecolor='white', width=Width, label='Late layer')\n",
    "\n",
    "plt1[1,1].set_xticks([0,1, 2, 3])\n",
    "plt1[1,1].set_xticklabels(x,fontweight=\"bold\",size =15)\n",
    "plt1[1,1].tick_params(labelsize=12)\n",
    "plt1[0,1].set_title(\"VGG16\", fontsize=15)\n",
    "plt1[1,1].set_xlabel('Dataflow', fontdict=dict(weight='bold',size =12))\n",
    "# fig.suptitle(\"title\",horizontalalignment='center', verticalalignment='bottom')\n",
    "fig.legend( labels, loc='upper center',ncol=5,fontsize=10)\n",
    "ylabels = ['{:d}'.format(int(x)) + 'M' for x in plt1[1,1].get_yticks()/1000000]\n",
    "ylabels[0]=0\n",
    "plt1[1,1].set_yticklabels(ylabels)\n",
    "fig.subplots_adjust(hspace = 0.4,wspace=0.4)\n",
    "fig.savefig('../abhishek.png',orientation='portrait')\n",
    "\n",
    "plt.show()\n",
    "\n",
    "\n"
   ]
  },
  {
   "cell_type": "markdown",
   "metadata": {},
   "source": [
    "For Resnet 50 Row stationay(RS) gave better results than the other dataflow types for both energy efficiency and runtime cycles. This can be a result of the model beign more adaptable for the RS dataflow. But in case of VGG16 xp_ws gave better result in runtime and rs gave better result in energy efficiency. This proves that not all dataflow types can accomadate all the models in both energy efficiency and runtime. "
   ]
  },
  {
   "cell_type": "markdown",
   "metadata": {},
   "source": [
    "Resnet beign more complex model better fits with the slower temporal map and faster spatial mapping. I think is was the reason for the model to have lesser runtime in RS. It also has multiple 1x1convolution which can benifit from Row stationary. which also contributed to the energy efficiency of the model. Kepping a particular row of data can be used accross the m,ultiple layer with same Conv operation that can help benfit the model"
   ]
  },
  {
   "cell_type": "markdown",
   "metadata": {},
   "source": [
    "VGGNET having lesser layers and not much data reuse on the row side the weights of the model was more used and therfore xp_ws performed betteR. bUT WHEN IT CAME TO ENERGY EFFICIENCY THE WEIGHTS HAVE TO BE LOAD FOR EVERY CHANGE SO IT WAS NOT PERFORMING BETTER"
   ]
  },
  {
   "cell_type": "code",
   "execution_count": null,
   "metadata": {},
   "outputs": [],
   "source": []
  }
 ],
 "metadata": {
  "kernelspec": {
   "display_name": "Python 3",
   "language": "python",
   "name": "python3"
  },
  "language_info": {
   "codemirror_mode": {
    "name": "ipython",
    "version": 3
   },
   "file_extension": ".py",
   "mimetype": "text/x-python",
   "name": "python",
   "nbconvert_exporter": "python",
   "pygments_lexer": "ipython3",
   "version": "3.8.3"
  }
 },
 "nbformat": 4,
 "nbformat_minor": 4
}

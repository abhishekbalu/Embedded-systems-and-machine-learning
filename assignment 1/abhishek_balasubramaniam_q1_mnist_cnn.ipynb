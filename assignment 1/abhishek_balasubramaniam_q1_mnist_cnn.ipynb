{
  "nbformat": 4,
  "nbformat_minor": 0,
  "metadata": {
    "accelerator": "GPU",
    "colab": {
      "name": "abhishek_balasubramaniam_q1_mnist_cnn.ipynb",
      "provenance": [],
      "collapsed_sections": []
    },
    "kernelspec": {
      "display_name": "Python 3",
      "language": "python",
      "name": "python3"
    },
    "language_info": {
      "codemirror_mode": {
        "name": "ipython",
        "version": 3
      },
      "file_extension": ".py",
      "mimetype": "text/x-python",
      "name": "python",
      "nbconvert_exporter": "python",
      "pygments_lexer": "ipython3",
      "version": "3.7.7"
    }
  },
  "cells": [
    {
      "cell_type": "code",
      "metadata": {
        "id": "K7X41sahdRN1",
        "colab_type": "code",
        "colab": {}
      },
      "source": [
        ""
      ],
      "execution_count": 22,
      "outputs": []
    },
    {
      "cell_type": "markdown",
      "metadata": {
        "id": "O_Qk841jdQCj",
        "colab_type": "text"
      },
      "source": [
        "I have added two models model1, model 2 both have the same architecture. I have ran the first model in 5 epoch and obtained an accuracy of 99.32 and ran the second model in 10 epochs and obtained 99.51 accuracy. \n"
      ]
    },
    {
      "cell_type": "code",
      "metadata": {
        "colab_type": "code",
        "id": "opdFPDUIUwFr",
        "colab": {
          "base_uri": "https://localhost:8080/",
          "height": 35
        },
        "outputId": "e524e2be-9c7f-49dc-d025-fe2b78ee6eef"
      },
      "source": [
        "# TensorFlow and tf.keras\n",
        "import tensorflow as tf\n",
        "import numpy as np\n",
        "from tensorflow import keras\n",
        "import matplotlib.pyplot as plt\n",
        "#tf version should be 2.2 or higher\n",
        "tf.__version__"
      ],
      "execution_count": 1,
      "outputs": [
        {
          "output_type": "execute_result",
          "data": {
            "application/vnd.google.colaboratory.intrinsic+json": {
              "type": "string"
            },
            "text/plain": [
              "'2.3.0'"
            ]
          },
          "metadata": {
            "tags": []
          },
          "execution_count": 1
        }
      ]
    },
    {
      "cell_type": "code",
      "metadata": {
        "colab_type": "code",
        "id": "1SxCw_R4032n",
        "colab": {
          "base_uri": "https://localhost:8080/",
          "height": 52
        },
        "outputId": "01ce3aa6-90b2-4e94-9a2c-ccc8d833c497"
      },
      "source": [
        "#get data\n",
        "(train_images, train_labels), (test_images, test_labels) = \\\n",
        "      keras.datasets.mnist.load_data()"
      ],
      "execution_count": 2,
      "outputs": [
        {
          "output_type": "stream",
          "text": [
            "Downloading data from https://storage.googleapis.com/tensorflow/tf-keras-datasets/mnist.npz\n",
            "11493376/11490434 [==============================] - 0s 0us/step\n"
          ],
          "name": "stdout"
        }
      ]
    },
    {
      "cell_type": "code",
      "metadata": {
        "colab_type": "code",
        "id": "v4SXw56q032r",
        "colab": {
          "base_uri": "https://localhost:8080/",
          "height": 34
        },
        "outputId": "b1a5caf9-fcb1-46b6-adbd-6b808e125b76"
      },
      "source": [
        "#scale model\n",
        "train_images = train_images.reshape(train_images.shape[0], 28, 28, 1)\n",
        "test_images = test_images.reshape(test_images.shape[0], 28, 28, 1)\n",
        "train_images = train_images.astype('float32')\n",
        "test_images = test_images.astype('float32')\n",
        "\n",
        "# normalizing the data to help with the training\n",
        "train_images /= 255\n",
        "test_images /= 255\n",
        "\n",
        "train_images.shape"
      ],
      "execution_count": 3,
      "outputs": [
        {
          "output_type": "execute_result",
          "data": {
            "text/plain": [
              "(60000, 28, 28, 1)"
            ]
          },
          "metadata": {
            "tags": []
          },
          "execution_count": 3
        }
      ]
    },
    {
      "cell_type": "code",
      "metadata": {
        "colab_type": "code",
        "id": "_HqP9wMh0322",
        "colab": {
          "base_uri": "https://localhost:8080/",
          "height": 787
        },
        "outputId": "b39786b4-514f-4741-a5f8-be1006e3601d"
      },
      "source": [
        "#setup model\n",
        "model = keras.Sequential([\n",
        "    keras.layers.Conv2D(32, [5, 5],padding='same', input_shape=(28,28,1)),\n",
        "    keras.layers.BatchNormalization(center=True, scale=True,axis=-1),\n",
        "    keras.layers.Activation('relu'),\n",
        "    keras.layers.Conv2D(32, [5, 5]),\n",
        "    keras.layers.Activation('relu'),\n",
        "    keras.layers.MaxPooling2D(pool_size=(2, 2)),\n",
        "    keras.layers.Dropout(0.25),\n",
        "    \n",
        "    keras.layers.Conv2D(64, [5, 5],padding='same'),\n",
        "    keras.layers.BatchNormalization(center=True, scale=True,axis=-1),\n",
        "    keras.layers.Activation('relu'),\n",
        "    keras.layers.Conv2D(64, [5, 5]),\n",
        "    keras.layers.Activation('relu'),\n",
        "    keras.layers.MaxPooling2D(pool_size=(2, 2)),\n",
        "    keras.layers.Dropout(0.25),\n",
        "    \n",
        "    keras.layers.Flatten(),\n",
        "    keras.layers.Dense(512, activation='relu'),\n",
        "    keras.layers.Dropout(0.25),\n",
        "    keras.layers.Dense(10, activation='softmax'),\n",
        "    \n",
        "])\n",
        "model.summary()"
      ],
      "execution_count": 4,
      "outputs": [
        {
          "output_type": "stream",
          "text": [
            "Model: \"sequential\"\n",
            "_________________________________________________________________\n",
            "Layer (type)                 Output Shape              Param #   \n",
            "=================================================================\n",
            "conv2d (Conv2D)              (None, 28, 28, 32)        832       \n",
            "_________________________________________________________________\n",
            "batch_normalization (BatchNo (None, 28, 28, 32)        128       \n",
            "_________________________________________________________________\n",
            "activation (Activation)      (None, 28, 28, 32)        0         \n",
            "_________________________________________________________________\n",
            "conv2d_1 (Conv2D)            (None, 24, 24, 32)        25632     \n",
            "_________________________________________________________________\n",
            "activation_1 (Activation)    (None, 24, 24, 32)        0         \n",
            "_________________________________________________________________\n",
            "max_pooling2d (MaxPooling2D) (None, 12, 12, 32)        0         \n",
            "_________________________________________________________________\n",
            "dropout (Dropout)            (None, 12, 12, 32)        0         \n",
            "_________________________________________________________________\n",
            "conv2d_2 (Conv2D)            (None, 12, 12, 64)        51264     \n",
            "_________________________________________________________________\n",
            "batch_normalization_1 (Batch (None, 12, 12, 64)        256       \n",
            "_________________________________________________________________\n",
            "activation_2 (Activation)    (None, 12, 12, 64)        0         \n",
            "_________________________________________________________________\n",
            "conv2d_3 (Conv2D)            (None, 8, 8, 64)          102464    \n",
            "_________________________________________________________________\n",
            "activation_3 (Activation)    (None, 8, 8, 64)          0         \n",
            "_________________________________________________________________\n",
            "max_pooling2d_1 (MaxPooling2 (None, 4, 4, 64)          0         \n",
            "_________________________________________________________________\n",
            "dropout_1 (Dropout)          (None, 4, 4, 64)          0         \n",
            "_________________________________________________________________\n",
            "flatten (Flatten)            (None, 1024)              0         \n",
            "_________________________________________________________________\n",
            "dense (Dense)                (None, 512)               524800    \n",
            "_________________________________________________________________\n",
            "dropout_2 (Dropout)          (None, 512)               0         \n",
            "_________________________________________________________________\n",
            "dense_1 (Dense)              (None, 10)                5130      \n",
            "=================================================================\n",
            "Total params: 710,506\n",
            "Trainable params: 710,314\n",
            "Non-trainable params: 192\n",
            "_________________________________________________________________\n"
          ],
          "name": "stdout"
        }
      ]
    },
    {
      "cell_type": "code",
      "metadata": {
        "colab_type": "code",
        "id": "0zpCaRYe0326",
        "colab": {}
      },
      "source": [
        "optimizer = tf.keras.optimizers.SGD(lr=0.1, decay=0, momentum=0)\n",
        "model.compile(loss='sparse_categorical_crossentropy',optimizer=optimizer,metrics=['accuracy'])"
      ],
      "execution_count": 5,
      "outputs": []
    },
    {
      "cell_type": "code",
      "metadata": {
        "colab_type": "code",
        "id": "bDDtqSmU032_",
        "colab": {
          "base_uri": "https://localhost:8080/",
          "height": 192
        },
        "outputId": "a07cc549-c330-428c-f659-544e308ef759"
      },
      "source": [
        "history = model.fit(train_images, train_labels,epochs=5,batch_size=24,validation_split=0.1)"
      ],
      "execution_count": 6,
      "outputs": [
        {
          "output_type": "stream",
          "text": [
            "Epoch 1/5\n",
            "2250/2250 [==============================] - 8s 4ms/step - loss: 0.2520 - accuracy: 0.9199 - val_loss: 0.0416 - val_accuracy: 0.9865\n",
            "Epoch 2/5\n",
            "2250/2250 [==============================] - 8s 4ms/step - loss: 0.0704 - accuracy: 0.9779 - val_loss: 0.0333 - val_accuracy: 0.9902\n",
            "Epoch 3/5\n",
            "2250/2250 [==============================] - 8s 3ms/step - loss: 0.0533 - accuracy: 0.9834 - val_loss: 0.0263 - val_accuracy: 0.9918\n",
            "Epoch 4/5\n",
            "2250/2250 [==============================] - 8s 3ms/step - loss: 0.0424 - accuracy: 0.9869 - val_loss: 0.0270 - val_accuracy: 0.9933\n",
            "Epoch 5/5\n",
            "2250/2250 [==============================] - 8s 3ms/step - loss: 0.0359 - accuracy: 0.9893 - val_loss: 0.0256 - val_accuracy: 0.9935\n"
          ],
          "name": "stdout"
        }
      ]
    },
    {
      "cell_type": "code",
      "metadata": {
        "colab_type": "code",
        "id": "_O0gbITx033D",
        "colab": {
          "base_uri": "https://localhost:8080/",
          "height": 69
        },
        "outputId": "a3075f6e-0a7b-4d25-a991-34ace54cb115"
      },
      "source": [
        "#evaluate\n",
        "test_loss, test_acc = model.evaluate(test_images,  test_labels)\n",
        "\n",
        "print('\\nTest accuracy:', test_acc)"
      ],
      "execution_count": 7,
      "outputs": [
        {
          "output_type": "stream",
          "text": [
            "313/313 [==============================] - 1s 2ms/step - loss: 0.0225 - accuracy: 0.9932\n",
            "\n",
            "Test accuracy: 0.9932000041007996\n"
          ],
          "name": "stdout"
        }
      ]
    },
    {
      "cell_type": "code",
      "metadata": {
        "colab_type": "code",
        "id": "U6KyUEbd033G",
        "colab": {}
      },
      "source": [
        "# Predict on the first 5 test images.\n",
        "predictions = model.predict(test_images[:5])"
      ],
      "execution_count": 8,
      "outputs": []
    },
    {
      "cell_type": "code",
      "metadata": {
        "colab_type": "code",
        "id": "kkG_C0-m033I",
        "colab": {
          "base_uri": "https://localhost:8080/",
          "height": 279
        },
        "outputId": "70e895cc-0412-45b9-d246-8019ef3ddcae"
      },
      "source": [
        "#Raw predictions\n",
        "predictions"
      ],
      "execution_count": 9,
      "outputs": [
        {
          "output_type": "execute_result",
          "data": {
            "text/plain": [
              "array([[5.73811683e-08, 2.21848637e-08, 1.04914272e-06, 6.68270275e-08,\n",
              "        3.61912789e-09, 1.42838745e-08, 8.24673732e-11, 9.99998093e-01,\n",
              "        5.97713967e-09, 6.84610939e-07],\n",
              "       [9.16599106e-07, 7.96050585e-07, 9.99991298e-01, 2.19735924e-07,\n",
              "        2.67303477e-07, 9.21368493e-09, 5.22397158e-06, 8.00963491e-08,\n",
              "        9.39049073e-07, 3.02344461e-07],\n",
              "       [9.83490906e-08, 9.99998331e-01, 1.77267424e-07, 5.64570701e-09,\n",
              "        3.35009922e-08, 9.02137103e-08, 1.11341926e-07, 7.35570552e-07,\n",
              "        3.66203494e-07, 2.05620374e-08],\n",
              "       [9.99998212e-01, 1.92435234e-10, 9.12937337e-10, 2.45882537e-10,\n",
              "        4.20956825e-09, 6.76428558e-09, 5.67412030e-07, 1.37891631e-09,\n",
              "        1.00068291e-08, 1.22276606e-06],\n",
              "       [7.93463162e-09, 3.04678963e-07, 5.50593748e-09, 1.43018353e-09,\n",
              "        9.99857068e-01, 1.08949489e-08, 7.53493481e-08, 1.00245046e-07,\n",
              "        6.76309924e-07, 1.41753437e-04]], dtype=float32)"
            ]
          },
          "metadata": {
            "tags": []
          },
          "execution_count": 9
        }
      ]
    },
    {
      "cell_type": "code",
      "metadata": {
        "colab_type": "code",
        "id": "OHwleeva033M",
        "colab": {
          "base_uri": "https://localhost:8080/",
          "height": 34
        },
        "outputId": "e493ec57-0986-4281-83da-7fc3b42f32d4"
      },
      "source": [
        "# Print our model's predictions\n",
        "print(np.argmax(predictions, axis=1))"
      ],
      "execution_count": 10,
      "outputs": [
        {
          "output_type": "stream",
          "text": [
            "[7 2 1 0 4]\n"
          ],
          "name": "stdout"
        }
      ]
    },
    {
      "cell_type": "code",
      "metadata": {
        "colab_type": "code",
        "id": "djRPD5H1033T",
        "colab": {
          "base_uri": "https://localhost:8080/",
          "height": 34
        },
        "outputId": "f5d96aad-7a07-478a-80b8-50f69ab5f110"
      },
      "source": [
        "# Check our predictions against the ground truths\n",
        "print(test_labels[:5]) # [7, 2, 1, 0, 4]"
      ],
      "execution_count": 11,
      "outputs": [
        {
          "output_type": "stream",
          "text": [
            "[7 2 1 0 4]\n"
          ],
          "name": "stdout"
        }
      ]
    },
    {
      "cell_type": "code",
      "metadata": {
        "colab_type": "code",
        "id": "xekWXc2VV7wg",
        "colab": {
          "base_uri": "https://localhost:8080/",
          "height": 300
        },
        "outputId": "401ac169-cff8-46c9-de7e-7d270656c760"
      },
      "source": [
        "plt.plot(history.history['accuracy'], label='accuracy')\n",
        "plt.plot(history.history['val_accuracy'], label = 'val_accuracy')\n",
        "plt.xlabel('Epoch')\n",
        "plt.ylabel('Accuracy')\n",
        "plt.ylim([0.5, 1])\n",
        "plt.legend(loc='lower right')\n",
        "\n",
        "test_loss, test_acc = model.evaluate(test_images,  test_labels, verbose=2)"
      ],
      "execution_count": 12,
      "outputs": [
        {
          "output_type": "stream",
          "text": [
            "313/313 - 1s - loss: 0.0225 - accuracy: 0.9932\n"
          ],
          "name": "stdout"
        },
        {
          "output_type": "display_data",
          "data": {
            "image/png": "[encoded data removed]",
            "text/plain": [
              "<Figure size 432x288 with 1 Axes>"
            ]
          },
          "metadata": {
            "tags": [],
            "needs_background": "light"
          }
        }
      ]
    },
    {
      "cell_type": "code",
      "metadata": {
        "colab_type": "code",
        "id": "9jSvOmpwV8hy",
        "colab": {
          "base_uri": "https://localhost:8080/",
          "height": 300
        },
        "outputId": "2cddaeb6-5b7f-4ceb-dbe5-408f838b4e16"
      },
      "source": [
        "plt.plot(history.history['loss'], label='loss')\n",
        "plt.plot(history.history['val_loss'], label = 'val_loss')\n",
        "plt.xlabel('Epoch')\n",
        "\n",
        "plt.ylabel('loss')\n",
        "plt.ylim([0.01, 0.5])\n",
        "plt.legend(loc='lower right')\n",
        "\n",
        "test_loss, test_acc = model.evaluate(test_images,  test_labels, verbose=2)"
      ],
      "execution_count": 13,
      "outputs": [
        {
          "output_type": "stream",
          "text": [
            "313/313 - 1s - loss: 0.0225 - accuracy: 0.9932\n"
          ],
          "name": "stdout"
        },
        {
          "output_type": "display_data",
          "data": {
            "image/png": "[encoded data removed]",
            "text/plain": [
              "<Figure size 432x288 with 1 Axes>"
            ]
          },
          "metadata": {
            "tags": [],
            "needs_background": "light"
          }
        }
      ]
    },
    {
      "cell_type": "code",
      "metadata": {
        "id": "c85OrZSfc2J1",
        "colab_type": "code",
        "colab": {
          "base_uri": "https://localhost:8080/",
          "height": 787
        },
        "outputId": "bc0b7f39-d257-40e2-d12a-ad154b44596a"
      },
      "source": [
        "model1 = keras.Sequential([\n",
        "    keras.layers.Conv2D(32, [5, 5],padding='same', input_shape=(28,28,1)),\n",
        "    keras.layers.BatchNormalization(center=True, scale=True,axis=-1),\n",
        "    keras.layers.Activation('relu'),\n",
        "    keras.layers.Conv2D(32, [5, 5]),\n",
        "    keras.layers.Activation('relu'),\n",
        "    keras.layers.MaxPooling2D(pool_size=(2, 2)),\n",
        "    keras.layers.Dropout(0.25),\n",
        "    \n",
        "    keras.layers.Conv2D(64, [5, 5],padding='same'),\n",
        "    keras.layers.BatchNormalization(center=True, scale=True,axis=-1),\n",
        "    keras.layers.Activation('relu'),\n",
        "    keras.layers.Conv2D(64, [5, 5]),\n",
        "    keras.layers.Activation('relu'),\n",
        "    keras.layers.MaxPooling2D(pool_size=(2, 2)),\n",
        "    keras.layers.Dropout(0.25),\n",
        "    \n",
        "    keras.layers.Flatten(),\n",
        "    keras.layers.Dense(512, activation='relu'),\n",
        "    keras.layers.Dropout(0.25),\n",
        "    keras.layers.Dense(10, activation='softmax'),\n",
        "    \n",
        "])\n",
        "model1.summary()"
      ],
      "execution_count": 14,
      "outputs": [
        {
          "output_type": "stream",
          "text": [
            "Model: \"sequential_1\"\n",
            "_________________________________________________________________\n",
            "Layer (type)                 Output Shape              Param #   \n",
            "=================================================================\n",
            "conv2d_4 (Conv2D)            (None, 28, 28, 32)        832       \n",
            "_________________________________________________________________\n",
            "batch_normalization_2 (Batch (None, 28, 28, 32)        128       \n",
            "_________________________________________________________________\n",
            "activation_4 (Activation)    (None, 28, 28, 32)        0         \n",
            "_________________________________________________________________\n",
            "conv2d_5 (Conv2D)            (None, 24, 24, 32)        25632     \n",
            "_________________________________________________________________\n",
            "activation_5 (Activation)    (None, 24, 24, 32)        0         \n",
            "_________________________________________________________________\n",
            "max_pooling2d_2 (MaxPooling2 (None, 12, 12, 32)        0         \n",
            "_________________________________________________________________\n",
            "dropout_3 (Dropout)          (None, 12, 12, 32)        0         \n",
            "_________________________________________________________________\n",
            "conv2d_6 (Conv2D)            (None, 12, 12, 64)        51264     \n",
            "_________________________________________________________________\n",
            "batch_normalization_3 (Batch (None, 12, 12, 64)        256       \n",
            "_________________________________________________________________\n",
            "activation_6 (Activation)    (None, 12, 12, 64)        0         \n",
            "_________________________________________________________________\n",
            "conv2d_7 (Conv2D)            (None, 8, 8, 64)          102464    \n",
            "_________________________________________________________________\n",
            "activation_7 (Activation)    (None, 8, 8, 64)          0         \n",
            "_________________________________________________________________\n",
            "max_pooling2d_3 (MaxPooling2 (None, 4, 4, 64)          0         \n",
            "_________________________________________________________________\n",
            "dropout_4 (Dropout)          (None, 4, 4, 64)          0         \n",
            "_________________________________________________________________\n",
            "flatten_1 (Flatten)          (None, 1024)              0         \n",
            "_________________________________________________________________\n",
            "dense_2 (Dense)              (None, 512)               524800    \n",
            "_________________________________________________________________\n",
            "dropout_5 (Dropout)          (None, 512)               0         \n",
            "_________________________________________________________________\n",
            "dense_3 (Dense)              (None, 10)                5130      \n",
            "=================================================================\n",
            "Total params: 710,506\n",
            "Trainable params: 710,314\n",
            "Non-trainable params: 192\n",
            "_________________________________________________________________\n"
          ],
          "name": "stdout"
        }
      ]
    },
    {
      "cell_type": "code",
      "metadata": {
        "id": "YbycejmTc2J3",
        "colab_type": "code",
        "colab": {}
      },
      "source": [
        "optimizer = tf.keras.optimizers.SGD(lr=0.1, decay=0, momentum=0)\n",
        "model1.compile(loss='sparse_categorical_crossentropy',optimizer=optimizer,metrics=['accuracy'])"
      ],
      "execution_count": 15,
      "outputs": []
    },
    {
      "cell_type": "code",
      "metadata": {
        "colab_type": "code",
        "id": "1ssfTaoQWRio",
        "colab": {
          "base_uri": "https://localhost:8080/",
          "height": 367
        },
        "outputId": "f7590415-e7c3-488f-dcb9-e59af2103617"
      },
      "source": [
        "history = model1.fit(train_images, train_labels,epochs=10,batch_size=24,validation_split=0.1)"
      ],
      "execution_count": 16,
      "outputs": [
        {
          "output_type": "stream",
          "text": [
            "Epoch 1/10\n",
            "2250/2250 [==============================] - 8s 4ms/step - loss: 0.1878 - accuracy: 0.9414 - val_loss: 0.0356 - val_accuracy: 0.9893\n",
            "Epoch 2/10\n",
            "2250/2250 [==============================] - 8s 3ms/step - loss: 0.0608 - accuracy: 0.9812 - val_loss: 0.0299 - val_accuracy: 0.9922\n",
            "Epoch 3/10\n",
            "2250/2250 [==============================] - 8s 3ms/step - loss: 0.0439 - accuracy: 0.9868 - val_loss: 0.0268 - val_accuracy: 0.9917\n",
            "Epoch 4/10\n",
            "2250/2250 [==============================] - 7s 3ms/step - loss: 0.0367 - accuracy: 0.9884 - val_loss: 0.0248 - val_accuracy: 0.9925\n",
            "Epoch 5/10\n",
            "2250/2250 [==============================] - 8s 3ms/step - loss: 0.0302 - accuracy: 0.9908 - val_loss: 0.0233 - val_accuracy: 0.9942\n",
            "Epoch 6/10\n",
            "2250/2250 [==============================] - 8s 3ms/step - loss: 0.0259 - accuracy: 0.9922 - val_loss: 0.0205 - val_accuracy: 0.9937\n",
            "Epoch 7/10\n",
            "2250/2250 [==============================] - 8s 3ms/step - loss: 0.0240 - accuracy: 0.9925 - val_loss: 0.0237 - val_accuracy: 0.9937\n",
            "Epoch 8/10\n",
            "2250/2250 [==============================] - 8s 4ms/step - loss: 0.0208 - accuracy: 0.9935 - val_loss: 0.0204 - val_accuracy: 0.9945\n",
            "Epoch 9/10\n",
            "2250/2250 [==============================] - 8s 4ms/step - loss: 0.0195 - accuracy: 0.9936 - val_loss: 0.0205 - val_accuracy: 0.9940\n",
            "Epoch 10/10\n",
            "2250/2250 [==============================] - 8s 3ms/step - loss: 0.0173 - accuracy: 0.9946 - val_loss: 0.0185 - val_accuracy: 0.9957\n"
          ],
          "name": "stdout"
        }
      ]
    },
    {
      "cell_type": "code",
      "metadata": {
        "id": "1ykK5X4Ac2J-",
        "colab_type": "code",
        "colab": {
          "base_uri": "https://localhost:8080/",
          "height": 69
        },
        "outputId": "5f3f2417-cb2e-427b-8f8b-17b2364d9fb7"
      },
      "source": [
        "#evaluate\n",
        "test_loss, test_acc = model1.evaluate(test_images,  test_labels)\n",
        "\n",
        "print('\\nTest accuracy:', test_acc)"
      ],
      "execution_count": 17,
      "outputs": [
        {
          "output_type": "stream",
          "text": [
            "313/313 [==============================] - 1s 2ms/step - loss: 0.0157 - accuracy: 0.9951\n",
            "\n",
            "Test accuracy: 0.9951000213623047\n"
          ],
          "name": "stdout"
        }
      ]
    },
    {
      "cell_type": "code",
      "metadata": {
        "id": "xZEbAEbKc2KC",
        "colab_type": "code",
        "colab": {}
      },
      "source": [
        "predictions = model1.predict(test_images[:5])"
      ],
      "execution_count": 18,
      "outputs": []
    },
    {
      "cell_type": "code",
      "metadata": {
        "id": "0sL6-S80c2KF",
        "colab_type": "code",
        "colab": {
          "base_uri": "https://localhost:8080/",
          "height": 34
        },
        "outputId": "3ab8a5ee-c8d5-449d-8c1b-5f47aaff5319"
      },
      "source": [
        "print(test_labels[:5]) # [7, 2, 1, 0, 4]\n"
      ],
      "execution_count": 19,
      "outputs": [
        {
          "output_type": "stream",
          "text": [
            "[7 2 1 0 4]\n"
          ],
          "name": "stdout"
        }
      ]
    },
    {
      "cell_type": "code",
      "metadata": {
        "id": "-lXw-2POc2KH",
        "colab_type": "code",
        "colab": {
          "base_uri": "https://localhost:8080/",
          "height": 300
        },
        "outputId": "37ce2d50-1f4f-4e47-9344-9de571c9fcd9"
      },
      "source": [
        "plt.plot(history.history['accuracy'], label='accuracy')\n",
        "plt.plot(history.history['val_accuracy'], label = 'val_accuracy')\n",
        "plt.xlabel('Epoch')\n",
        "plt.ylabel('Accuracy')\n",
        "plt.ylim([0.5, 1])\n",
        "plt.legend(loc='lower right')\n",
        "\n",
        "test_loss, test_acc = model1.evaluate(test_images,  test_labels, verbose=2)"
      ],
      "execution_count": 20,
      "outputs": [
        {
          "output_type": "stream",
          "text": [
            "313/313 - 1s - loss: 0.0157 - accuracy: 0.9951\n"
          ],
          "name": "stdout"
        },
        {
          "output_type": "display_data",
          "data": {
            "image/png": "[encoded data removed]",
            "text/plain": [
              "<Figure size 432x288 with 1 Axes>"
            ]
          },
          "metadata": {
            "tags": [],
            "needs_background": "light"
          }
        }
      ]
    },
    {
      "cell_type": "code",
      "metadata": {
        "id": "DJyvijaGc2KL",
        "colab_type": "code",
        "colab": {
          "base_uri": "https://localhost:8080/",
          "height": 300
        },
        "outputId": "f6a0609e-3c4e-4377-b76b-9de1c4ad4806"
      },
      "source": [
        "plt.plot(history.history['loss'], label='loss')\n",
        "plt.plot(history.history['val_loss'], label = 'val_loss')\n",
        "plt.xlabel('Epoch')\n",
        "\n",
        "plt.ylabel('loss')\n",
        "plt.ylim([0.01, 0.5])\n",
        "plt.legend(loc='lower right')\n",
        "\n",
        "test_loss, test_acc = model1.evaluate(test_images,  test_labels, verbose=2)"
      ],
      "execution_count": 21,
      "outputs": [
        {
          "output_type": "stream",
          "text": [
            "313/313 - 1s - loss: 0.0157 - accuracy: 0.9951\n"
          ],
          "name": "stdout"
        },
        {
          "output_type": "display_data",
          "data": {
            "image/png": "[encoded data removed]",
            "text/plain": [
              "<Figure size 432x288 with 1 Axes>"
            ]
          },
          "metadata": {
            "tags": [],
            "needs_background": "light"
          }
        }
      ]
    }
  ]
}